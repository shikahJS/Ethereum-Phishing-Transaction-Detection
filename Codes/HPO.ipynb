{
  "nbformat": 4,
  "nbformat_minor": 0,
  "metadata": {
    "colab": {
      "provenance": [],
      "collapsed_sections": [
        "vW9YNg1UAzQ3",
        "ZvLLA7l3N4Bj",
        "NIJ_ZYxJOAvW"
      ],
      "toc_visible": true
    },
    "kernelspec": {
      "name": "python3",
      "display_name": "Python 3"
    },
    "language_info": {
      "name": "python"
    }
  },
  "cells": [
    {
      "cell_type": "markdown",
      "source": [
        "**Enhanced Phishing Transactions Detection on Ethereum Network with Tree-based Ensembles: An Empirical Study**\n",
        "\n",
        "* **Researchers:**\n",
        "  * **Shikah Alsunaidi** (Information and Computer Science Department, KFUPM)\n",
        "  * **Dr. Hamoud Aljamaan** (Information and Computer Science Department, KFUPM)\n",
        "---"
      ],
      "metadata": {
        "id": "8hg_mTnAEURG"
      }
    },
    {
      "cell_type": "markdown",
      "metadata": {
        "id": "vW9YNg1UAzQ3"
      },
      "source": [
        "# ▶ **1. Imports**\n",
        "\n",
        "---\n",
        "\n"
      ]
    },
    {
      "cell_type": "code",
      "execution_count": null,
      "metadata": {
        "id": "mPAZhcs28Mw0"
      },
      "outputs": [],
      "source": [
        "# import libraries section\n",
        "import pandas as pd\n",
        "import numpy as np\n",
        "import matplotlib\n",
        "import matplotlib.pyplot as plt\n",
        "from matplotlib import gridspec\n",
        "import seaborn as sns\n",
        "%matplotlib inline"
      ]
    },
    {
      "cell_type": "code",
      "execution_count": null,
      "metadata": {
        "id": "4UpnvnnUdlaz"
      },
      "outputs": [],
      "source": [
        "# Stop warnings\n",
        "import warnings as w\n",
        "w.simplefilter(action='ignore',category=FutureWarning)"
      ]
    },
    {
      "cell_type": "markdown",
      "metadata": {
        "id": "04ppJ8JDtp2h"
      },
      "source": [
        "# ▶ **2. Global Functions**\n",
        "\n",
        "---"
      ]
    },
    {
      "cell_type": "markdown",
      "source": [
        "## **2.1. Upload File Function**\n",
        "\n",
        "---\n"
      ],
      "metadata": {
        "id": "ZvLLA7l3N4Bj"
      }
    },
    {
      "cell_type": "code",
      "source": [
        "# This function takes the file name to upload it and return the dataframe\n",
        "def upload_file(file_name):\n",
        "\n",
        "  # Upload CSV file (ReducedDS.csv)\n",
        "  from google.colab import files\n",
        "  uploaded = files.upload()\n",
        "\n",
        "  # Convert the uploaded data into dataframe\n",
        "  import io\n",
        "  df = pd.read_csv(io.BytesIO(uploaded[file_name]))\n",
        "\n",
        "  return df"
      ],
      "metadata": {
        "id": "ohK6pP-HNTLT"
      },
      "execution_count": null,
      "outputs": []
    },
    {
      "cell_type": "markdown",
      "source": [
        "## **2.2. Write to File Function**\n",
        "\n",
        "---\n"
      ],
      "metadata": {
        "id": "NIJ_ZYxJOAvW"
      }
    },
    {
      "cell_type": "code",
      "source": [
        "# This function write the dataframe to excel file\n",
        "def write_to_excel (mcc_DF, model, fileName):\n",
        "  if model == \"RF\":\n",
        "    df=pd.DataFrame(mcc_DF,columns=[model])\n",
        "    df.to_csv(fileName,index = False)\n",
        "  else:\n",
        "    df = pd.read_csv(fileName)\n",
        "    df[model]=mcc_DF\n",
        "    df.to_csv(fileName,index = False)"
      ],
      "metadata": {
        "id": "VGfY5JGy9v4d"
      },
      "execution_count": null,
      "outputs": []
    },
    {
      "cell_type": "code",
      "source": [],
      "metadata": {
        "id": "fTZzrjgmHJPT"
      },
      "execution_count": null,
      "outputs": []
    },
    {
      "cell_type": "markdown",
      "source": [
        "# ▶ **3 Hyperparameters Optimization**\n",
        "\n",
        "---\n",
        "\n"
      ],
      "metadata": {
        "id": "9UVSBXaZIqmM"
      }
    },
    {
      "cell_type": "markdown",
      "metadata": {
        "id": "ty_G4Rwmgnv-"
      },
      "source": [
        "## **3.1. Upload Tuning Data**\n",
        "\n",
        "\n",
        "---\n",
        "\n"
      ]
    },
    {
      "cell_type": "code",
      "source": [
        "df = upload_file('tuning_DF.csv')\n",
        "df"
      ],
      "metadata": {
        "colab": {
          "base_uri": "https://localhost:8080/",
          "height": 479
        },
        "id": "P99vPY9nEaHX",
        "outputId": "574e0089-9e35-4000-c7a6-92e431c1ce95"
      },
      "execution_count": null,
      "outputs": [
        {
          "output_type": "display_data",
          "data": {
            "text/plain": [
              "<IPython.core.display.HTML object>"
            ],
            "text/html": [
              "\n",
              "     <input type=\"file\" id=\"files-341b5d8b-3023-4c0b-9ed0-ee8d21f112ef\" name=\"files[]\" multiple disabled\n",
              "        style=\"border:none\" />\n",
              "     <output id=\"result-341b5d8b-3023-4c0b-9ed0-ee8d21f112ef\">\n",
              "      Upload widget is only available when the cell has been executed in the\n",
              "      current browser session. Please rerun this cell to enable.\n",
              "      </output>\n",
              "      <script>// Copyright 2017 Google LLC\n",
              "//\n",
              "// Licensed under the Apache License, Version 2.0 (the \"License\");\n",
              "// you may not use this file except in compliance with the License.\n",
              "// You may obtain a copy of the License at\n",
              "//\n",
              "//      http://www.apache.org/licenses/LICENSE-2.0\n",
              "//\n",
              "// Unless required by applicable law or agreed to in writing, software\n",
              "// distributed under the License is distributed on an \"AS IS\" BASIS,\n",
              "// WITHOUT WARRANTIES OR CONDITIONS OF ANY KIND, either express or implied.\n",
              "// See the License for the specific language governing permissions and\n",
              "// limitations under the License.\n",
              "\n",
              "/**\n",
              " * @fileoverview Helpers for google.colab Python module.\n",
              " */\n",
              "(function(scope) {\n",
              "function span(text, styleAttributes = {}) {\n",
              "  const element = document.createElement('span');\n",
              "  element.textContent = text;\n",
              "  for (const key of Object.keys(styleAttributes)) {\n",
              "    element.style[key] = styleAttributes[key];\n",
              "  }\n",
              "  return element;\n",
              "}\n",
              "\n",
              "// Max number of bytes which will be uploaded at a time.\n",
              "const MAX_PAYLOAD_SIZE = 100 * 1024;\n",
              "\n",
              "function _uploadFiles(inputId, outputId) {\n",
              "  const steps = uploadFilesStep(inputId, outputId);\n",
              "  const outputElement = document.getElementById(outputId);\n",
              "  // Cache steps on the outputElement to make it available for the next call\n",
              "  // to uploadFilesContinue from Python.\n",
              "  outputElement.steps = steps;\n",
              "\n",
              "  return _uploadFilesContinue(outputId);\n",
              "}\n",
              "\n",
              "// This is roughly an async generator (not supported in the browser yet),\n",
              "// where there are multiple asynchronous steps and the Python side is going\n",
              "// to poll for completion of each step.\n",
              "// This uses a Promise to block the python side on completion of each step,\n",
              "// then passes the result of the previous step as the input to the next step.\n",
              "function _uploadFilesContinue(outputId) {\n",
              "  const outputElement = document.getElementById(outputId);\n",
              "  const steps = outputElement.steps;\n",
              "\n",
              "  const next = steps.next(outputElement.lastPromiseValue);\n",
              "  return Promise.resolve(next.value.promise).then((value) => {\n",
              "    // Cache the last promise value to make it available to the next\n",
              "    // step of the generator.\n",
              "    outputElement.lastPromiseValue = value;\n",
              "    return next.value.response;\n",
              "  });\n",
              "}\n",
              "\n",
              "/**\n",
              " * Generator function which is called between each async step of the upload\n",
              " * process.\n",
              " * @param {string} inputId Element ID of the input file picker element.\n",
              " * @param {string} outputId Element ID of the output display.\n",
              " * @return {!Iterable<!Object>} Iterable of next steps.\n",
              " */\n",
              "function* uploadFilesStep(inputId, outputId) {\n",
              "  const inputElement = document.getElementById(inputId);\n",
              "  inputElement.disabled = false;\n",
              "\n",
              "  const outputElement = document.getElementById(outputId);\n",
              "  outputElement.innerHTML = '';\n",
              "\n",
              "  const pickedPromise = new Promise((resolve) => {\n",
              "    inputElement.addEventListener('change', (e) => {\n",
              "      resolve(e.target.files);\n",
              "    });\n",
              "  });\n",
              "\n",
              "  const cancel = document.createElement('button');\n",
              "  inputElement.parentElement.appendChild(cancel);\n",
              "  cancel.textContent = 'Cancel upload';\n",
              "  const cancelPromise = new Promise((resolve) => {\n",
              "    cancel.onclick = () => {\n",
              "      resolve(null);\n",
              "    };\n",
              "  });\n",
              "\n",
              "  // Wait for the user to pick the files.\n",
              "  const files = yield {\n",
              "    promise: Promise.race([pickedPromise, cancelPromise]),\n",
              "    response: {\n",
              "      action: 'starting',\n",
              "    }\n",
              "  };\n",
              "\n",
              "  cancel.remove();\n",
              "\n",
              "  // Disable the input element since further picks are not allowed.\n",
              "  inputElement.disabled = true;\n",
              "\n",
              "  if (!files) {\n",
              "    return {\n",
              "      response: {\n",
              "        action: 'complete',\n",
              "      }\n",
              "    };\n",
              "  }\n",
              "\n",
              "  for (const file of files) {\n",
              "    const li = document.createElement('li');\n",
              "    li.append(span(file.name, {fontWeight: 'bold'}));\n",
              "    li.append(span(\n",
              "        `(${file.type || 'n/a'}) - ${file.size} bytes, ` +\n",
              "        `last modified: ${\n",
              "            file.lastModifiedDate ? file.lastModifiedDate.toLocaleDateString() :\n",
              "                                    'n/a'} - `));\n",
              "    const percent = span('0% done');\n",
              "    li.appendChild(percent);\n",
              "\n",
              "    outputElement.appendChild(li);\n",
              "\n",
              "    const fileDataPromise = new Promise((resolve) => {\n",
              "      const reader = new FileReader();\n",
              "      reader.onload = (e) => {\n",
              "        resolve(e.target.result);\n",
              "      };\n",
              "      reader.readAsArrayBuffer(file);\n",
              "    });\n",
              "    // Wait for the data to be ready.\n",
              "    let fileData = yield {\n",
              "      promise: fileDataPromise,\n",
              "      response: {\n",
              "        action: 'continue',\n",
              "      }\n",
              "    };\n",
              "\n",
              "    // Use a chunked sending to avoid message size limits. See b/62115660.\n",
              "    let position = 0;\n",
              "    do {\n",
              "      const length = Math.min(fileData.byteLength - position, MAX_PAYLOAD_SIZE);\n",
              "      const chunk = new Uint8Array(fileData, position, length);\n",
              "      position += length;\n",
              "\n",
              "      const base64 = btoa(String.fromCharCode.apply(null, chunk));\n",
              "      yield {\n",
              "        response: {\n",
              "          action: 'append',\n",
              "          file: file.name,\n",
              "          data: base64,\n",
              "        },\n",
              "      };\n",
              "\n",
              "      let percentDone = fileData.byteLength === 0 ?\n",
              "          100 :\n",
              "          Math.round((position / fileData.byteLength) * 100);\n",
              "      percent.textContent = `${percentDone}% done`;\n",
              "\n",
              "    } while (position < fileData.byteLength);\n",
              "  }\n",
              "\n",
              "  // All done.\n",
              "  yield {\n",
              "    response: {\n",
              "      action: 'complete',\n",
              "    }\n",
              "  };\n",
              "}\n",
              "\n",
              "scope.google = scope.google || {};\n",
              "scope.google.colab = scope.google.colab || {};\n",
              "scope.google.colab._files = {\n",
              "  _uploadFiles,\n",
              "  _uploadFilesContinue,\n",
              "};\n",
              "})(self);\n",
              "</script> "
            ]
          },
          "metadata": {}
        },
        {
          "output_type": "stream",
          "name": "stdout",
          "text": [
            "Saving tuning_DF.csv to tuning_DF.csv\n"
          ]
        },
        {
          "output_type": "execute_result",
          "data": {
            "text/plain": [
              "      block_timestamp  block_number     gas  receipt_gas_used     gas_price  \\\n",
              "0          1514924516       4843488  121000             21000  5.100000e+10   \n",
              "1          1518851388       5105285   21000             21000  1.280000e+11   \n",
              "2          1518234307       5062740  100000             21000  9.100000e+10   \n",
              "3          1509353693       4456892   25200             21000  5.000000e+09   \n",
              "4          1521321343       5273526   21000             21000  9.000000e+10   \n",
              "...               ...           ...     ...               ...           ...   \n",
              "7119       1515950413       4908151   21000             21000  6.000000e+10   \n",
              "7120       1517271052       4996727   37297             22297  9.900000e+10   \n",
              "7121       1525374746       5550718   55176             21784  8.000000e+09   \n",
              "7122       1520779620       5236675   25200             21000  9.593750e+09   \n",
              "7123       1518275169       5065552   21000             21000  2.200000e+09   \n",
              "\n",
              "             value  class  \n",
              "0     5.880000e+18      0  \n",
              "1     7.970000e+17      0  \n",
              "2     5.540000e+17      0  \n",
              "3     2.000000e+18      0  \n",
              "4     9.980000e+17      0  \n",
              "...            ...    ...  \n",
              "7119  1.350000e+17      1  \n",
              "7120  0.000000e+00      1  \n",
              "7121  0.000000e+00      1  \n",
              "7122  2.000000e+15      0  \n",
              "7123  3.140000e+16      0  \n",
              "\n",
              "[7124 rows x 7 columns]"
            ],
            "text/html": [
              "\n",
              "  <div id=\"df-8d8e374c-40a5-44a9-8356-abbbb136ee88\">\n",
              "    <div class=\"colab-df-container\">\n",
              "      <div>\n",
              "<style scoped>\n",
              "    .dataframe tbody tr th:only-of-type {\n",
              "        vertical-align: middle;\n",
              "    }\n",
              "\n",
              "    .dataframe tbody tr th {\n",
              "        vertical-align: top;\n",
              "    }\n",
              "\n",
              "    .dataframe thead th {\n",
              "        text-align: right;\n",
              "    }\n",
              "</style>\n",
              "<table border=\"1\" class=\"dataframe\">\n",
              "  <thead>\n",
              "    <tr style=\"text-align: right;\">\n",
              "      <th></th>\n",
              "      <th>block_timestamp</th>\n",
              "      <th>block_number</th>\n",
              "      <th>gas</th>\n",
              "      <th>receipt_gas_used</th>\n",
              "      <th>gas_price</th>\n",
              "      <th>value</th>\n",
              "      <th>class</th>\n",
              "    </tr>\n",
              "  </thead>\n",
              "  <tbody>\n",
              "    <tr>\n",
              "      <th>0</th>\n",
              "      <td>1514924516</td>\n",
              "      <td>4843488</td>\n",
              "      <td>121000</td>\n",
              "      <td>21000</td>\n",
              "      <td>5.100000e+10</td>\n",
              "      <td>5.880000e+18</td>\n",
              "      <td>0</td>\n",
              "    </tr>\n",
              "    <tr>\n",
              "      <th>1</th>\n",
              "      <td>1518851388</td>\n",
              "      <td>5105285</td>\n",
              "      <td>21000</td>\n",
              "      <td>21000</td>\n",
              "      <td>1.280000e+11</td>\n",
              "      <td>7.970000e+17</td>\n",
              "      <td>0</td>\n",
              "    </tr>\n",
              "    <tr>\n",
              "      <th>2</th>\n",
              "      <td>1518234307</td>\n",
              "      <td>5062740</td>\n",
              "      <td>100000</td>\n",
              "      <td>21000</td>\n",
              "      <td>9.100000e+10</td>\n",
              "      <td>5.540000e+17</td>\n",
              "      <td>0</td>\n",
              "    </tr>\n",
              "    <tr>\n",
              "      <th>3</th>\n",
              "      <td>1509353693</td>\n",
              "      <td>4456892</td>\n",
              "      <td>25200</td>\n",
              "      <td>21000</td>\n",
              "      <td>5.000000e+09</td>\n",
              "      <td>2.000000e+18</td>\n",
              "      <td>0</td>\n",
              "    </tr>\n",
              "    <tr>\n",
              "      <th>4</th>\n",
              "      <td>1521321343</td>\n",
              "      <td>5273526</td>\n",
              "      <td>21000</td>\n",
              "      <td>21000</td>\n",
              "      <td>9.000000e+10</td>\n",
              "      <td>9.980000e+17</td>\n",
              "      <td>0</td>\n",
              "    </tr>\n",
              "    <tr>\n",
              "      <th>...</th>\n",
              "      <td>...</td>\n",
              "      <td>...</td>\n",
              "      <td>...</td>\n",
              "      <td>...</td>\n",
              "      <td>...</td>\n",
              "      <td>...</td>\n",
              "      <td>...</td>\n",
              "    </tr>\n",
              "    <tr>\n",
              "      <th>7119</th>\n",
              "      <td>1515950413</td>\n",
              "      <td>4908151</td>\n",
              "      <td>21000</td>\n",
              "      <td>21000</td>\n",
              "      <td>6.000000e+10</td>\n",
              "      <td>1.350000e+17</td>\n",
              "      <td>1</td>\n",
              "    </tr>\n",
              "    <tr>\n",
              "      <th>7120</th>\n",
              "      <td>1517271052</td>\n",
              "      <td>4996727</td>\n",
              "      <td>37297</td>\n",
              "      <td>22297</td>\n",
              "      <td>9.900000e+10</td>\n",
              "      <td>0.000000e+00</td>\n",
              "      <td>1</td>\n",
              "    </tr>\n",
              "    <tr>\n",
              "      <th>7121</th>\n",
              "      <td>1525374746</td>\n",
              "      <td>5550718</td>\n",
              "      <td>55176</td>\n",
              "      <td>21784</td>\n",
              "      <td>8.000000e+09</td>\n",
              "      <td>0.000000e+00</td>\n",
              "      <td>1</td>\n",
              "    </tr>\n",
              "    <tr>\n",
              "      <th>7122</th>\n",
              "      <td>1520779620</td>\n",
              "      <td>5236675</td>\n",
              "      <td>25200</td>\n",
              "      <td>21000</td>\n",
              "      <td>9.593750e+09</td>\n",
              "      <td>2.000000e+15</td>\n",
              "      <td>0</td>\n",
              "    </tr>\n",
              "    <tr>\n",
              "      <th>7123</th>\n",
              "      <td>1518275169</td>\n",
              "      <td>5065552</td>\n",
              "      <td>21000</td>\n",
              "      <td>21000</td>\n",
              "      <td>2.200000e+09</td>\n",
              "      <td>3.140000e+16</td>\n",
              "      <td>0</td>\n",
              "    </tr>\n",
              "  </tbody>\n",
              "</table>\n",
              "<p>7124 rows × 7 columns</p>\n",
              "</div>\n",
              "      <button class=\"colab-df-convert\" onclick=\"convertToInteractive('df-8d8e374c-40a5-44a9-8356-abbbb136ee88')\"\n",
              "              title=\"Convert this dataframe to an interactive table.\"\n",
              "              style=\"display:none;\">\n",
              "        \n",
              "  <svg xmlns=\"http://www.w3.org/2000/svg\" height=\"24px\"viewBox=\"0 0 24 24\"\n",
              "       width=\"24px\">\n",
              "    <path d=\"M0 0h24v24H0V0z\" fill=\"none\"/>\n",
              "    <path d=\"M18.56 5.44l.94 2.06.94-2.06 2.06-.94-2.06-.94-.94-2.06-.94 2.06-2.06.94zm-11 1L8.5 8.5l.94-2.06 2.06-.94-2.06-.94L8.5 2.5l-.94 2.06-2.06.94zm10 10l.94 2.06.94-2.06 2.06-.94-2.06-.94-.94-2.06-.94 2.06-2.06.94z\"/><path d=\"M17.41 7.96l-1.37-1.37c-.4-.4-.92-.59-1.43-.59-.52 0-1.04.2-1.43.59L10.3 9.45l-7.72 7.72c-.78.78-.78 2.05 0 2.83L4 21.41c.39.39.9.59 1.41.59.51 0 1.02-.2 1.41-.59l7.78-7.78 2.81-2.81c.8-.78.8-2.07 0-2.86zM5.41 20L4 18.59l7.72-7.72 1.47 1.35L5.41 20z\"/>\n",
              "  </svg>\n",
              "      </button>\n",
              "      \n",
              "  <style>\n",
              "    .colab-df-container {\n",
              "      display:flex;\n",
              "      flex-wrap:wrap;\n",
              "      gap: 12px;\n",
              "    }\n",
              "\n",
              "    .colab-df-convert {\n",
              "      background-color: #E8F0FE;\n",
              "      border: none;\n",
              "      border-radius: 50%;\n",
              "      cursor: pointer;\n",
              "      display: none;\n",
              "      fill: #1967D2;\n",
              "      height: 32px;\n",
              "      padding: 0 0 0 0;\n",
              "      width: 32px;\n",
              "    }\n",
              "\n",
              "    .colab-df-convert:hover {\n",
              "      background-color: #E2EBFA;\n",
              "      box-shadow: 0px 1px 2px rgba(60, 64, 67, 0.3), 0px 1px 3px 1px rgba(60, 64, 67, 0.15);\n",
              "      fill: #174EA6;\n",
              "    }\n",
              "\n",
              "    [theme=dark] .colab-df-convert {\n",
              "      background-color: #3B4455;\n",
              "      fill: #D2E3FC;\n",
              "    }\n",
              "\n",
              "    [theme=dark] .colab-df-convert:hover {\n",
              "      background-color: #434B5C;\n",
              "      box-shadow: 0px 1px 3px 1px rgba(0, 0, 0, 0.15);\n",
              "      filter: drop-shadow(0px 1px 2px rgba(0, 0, 0, 0.3));\n",
              "      fill: #FFFFFF;\n",
              "    }\n",
              "  </style>\n",
              "\n",
              "      <script>\n",
              "        const buttonEl =\n",
              "          document.querySelector('#df-8d8e374c-40a5-44a9-8356-abbbb136ee88 button.colab-df-convert');\n",
              "        buttonEl.style.display =\n",
              "          google.colab.kernel.accessAllowed ? 'block' : 'none';\n",
              "\n",
              "        async function convertToInteractive(key) {\n",
              "          const element = document.querySelector('#df-8d8e374c-40a5-44a9-8356-abbbb136ee88');\n",
              "          const dataTable =\n",
              "            await google.colab.kernel.invokeFunction('convertToInteractive',\n",
              "                                                     [key], {});\n",
              "          if (!dataTable) return;\n",
              "\n",
              "          const docLinkHtml = 'Like what you see? Visit the ' +\n",
              "            '<a target=\"_blank\" href=https://colab.research.google.com/notebooks/data_table.ipynb>data table notebook</a>'\n",
              "            + ' to learn more about interactive tables.';\n",
              "          element.innerHTML = '';\n",
              "          dataTable['output_type'] = 'display_data';\n",
              "          await google.colab.output.renderOutput(dataTable, element);\n",
              "          const docLink = document.createElement('div');\n",
              "          docLink.innerHTML = docLinkHtml;\n",
              "          element.appendChild(docLink);\n",
              "        }\n",
              "      </script>\n",
              "    </div>\n",
              "  </div>\n",
              "  "
            ]
          },
          "metadata": {},
          "execution_count": 109
        }
      ]
    },
    {
      "cell_type": "code",
      "execution_count": null,
      "metadata": {
        "colab": {
          "base_uri": "https://localhost:8080/"
        },
        "id": "yA6S-RKbgnv-",
        "outputId": "4323b692-7c7b-4829-8c6f-0c780eba6640"
      },
      "outputs": [
        {
          "output_type": "execute_result",
          "data": {
            "text/plain": [
              "(7124, 6)"
            ]
          },
          "metadata": {},
          "execution_count": 110
        }
      ],
      "source": [
        "# divide the dataframe into data and lable\n",
        "x=df.iloc[:,:-1]\n",
        "y=df['class']\n",
        "x.shape"
      ]
    },
    {
      "cell_type": "markdown",
      "metadata": {
        "id": "2BLyK5vz_Pir"
      },
      "source": [
        "## **3.2. Install and Import Optuna Lib**\n",
        "\n",
        "---"
      ]
    },
    {
      "cell_type": "markdown",
      "metadata": {
        "id": "PpLfCk1jprB6"
      },
      "source": [
        "* **Resources:**\n",
        "  * https://optuna.org/\n",
        "  * https://towardsdatascience.com/exploring-optuna-a-hyper-parameter-framework-using-logistic-regression-84bd622cd3a5\n",
        "\n",
        "\n",
        "---\n",
        "\n"
      ]
    },
    {
      "cell_type": "code",
      "execution_count": null,
      "metadata": {
        "colab": {
          "base_uri": "https://localhost:8080/"
        },
        "id": "wrICZgN9P_8T",
        "outputId": "b2a10ecd-ce0f-41f3-c0a5-9fe96f02d552"
      },
      "outputs": [
        {
          "output_type": "stream",
          "name": "stdout",
          "text": [
            "Looking in indexes: https://pypi.org/simple, https://us-python.pkg.dev/colab-wheels/public/simple/\n",
            "Collecting optuna\n",
            "  Downloading optuna-3.0.3-py3-none-any.whl (348 kB)\n",
            "\u001b[K     |████████████████████████████████| 348 kB 5.1 MB/s \n",
            "\u001b[?25hRequirement already satisfied: importlib-metadata<5.0.0 in /usr/local/lib/python3.7/dist-packages (from optuna) (4.13.0)\n",
            "Requirement already satisfied: numpy in /usr/local/lib/python3.7/dist-packages (from optuna) (1.21.6)\n",
            "Requirement already satisfied: packaging>=20.0 in /usr/local/lib/python3.7/dist-packages (from optuna) (21.3)\n",
            "Requirement already satisfied: sqlalchemy>=1.3.0 in /usr/local/lib/python3.7/dist-packages (from optuna) (1.4.42)\n",
            "Requirement already satisfied: PyYAML in /usr/local/lib/python3.7/dist-packages (from optuna) (6.0)\n",
            "Collecting cliff\n",
            "  Downloading cliff-3.10.1-py3-none-any.whl (81 kB)\n",
            "\u001b[K     |████████████████████████████████| 81 kB 9.8 MB/s \n",
            "\u001b[?25hCollecting alembic>=1.5.0\n",
            "  Downloading alembic-1.8.1-py3-none-any.whl (209 kB)\n",
            "\u001b[K     |████████████████████████████████| 209 kB 59.0 MB/s \n",
            "\u001b[?25hCollecting cmaes>=0.8.2\n",
            "  Downloading cmaes-0.9.0-py3-none-any.whl (23 kB)\n",
            "Collecting colorlog\n",
            "  Downloading colorlog-6.7.0-py2.py3-none-any.whl (11 kB)\n",
            "Requirement already satisfied: scipy<1.9.0,>=1.7.0 in /usr/local/lib/python3.7/dist-packages (from optuna) (1.7.3)\n",
            "Requirement already satisfied: tqdm in /usr/local/lib/python3.7/dist-packages (from optuna) (4.64.1)\n",
            "Requirement already satisfied: importlib-resources in /usr/local/lib/python3.7/dist-packages (from alembic>=1.5.0->optuna) (5.10.0)\n",
            "Collecting Mako\n",
            "  Downloading Mako-1.2.3-py3-none-any.whl (78 kB)\n",
            "\u001b[K     |████████████████████████████████| 78 kB 8.0 MB/s \n",
            "\u001b[?25hRequirement already satisfied: typing-extensions>=3.6.4 in /usr/local/lib/python3.7/dist-packages (from importlib-metadata<5.0.0->optuna) (4.1.1)\n",
            "Requirement already satisfied: zipp>=0.5 in /usr/local/lib/python3.7/dist-packages (from importlib-metadata<5.0.0->optuna) (3.10.0)\n",
            "Requirement already satisfied: pyparsing!=3.0.5,>=2.0.2 in /usr/local/lib/python3.7/dist-packages (from packaging>=20.0->optuna) (3.0.9)\n",
            "Requirement already satisfied: greenlet!=0.4.17 in /usr/local/lib/python3.7/dist-packages (from sqlalchemy>=1.3.0->optuna) (2.0.0.post0)\n",
            "Collecting pbr!=2.1.0,>=2.0.0\n",
            "  Downloading pbr-5.11.0-py2.py3-none-any.whl (112 kB)\n",
            "\u001b[K     |████████████████████████████████| 112 kB 50.5 MB/s \n",
            "\u001b[?25hCollecting cmd2>=1.0.0\n",
            "  Downloading cmd2-2.4.2-py3-none-any.whl (147 kB)\n",
            "\u001b[K     |████████████████████████████████| 147 kB 52.5 MB/s \n",
            "\u001b[?25hRequirement already satisfied: PrettyTable>=0.7.2 in /usr/local/lib/python3.7/dist-packages (from cliff->optuna) (3.5.0)\n",
            "Collecting autopage>=0.4.0\n",
            "  Downloading autopage-0.5.1-py3-none-any.whl (29 kB)\n",
            "Collecting stevedore>=2.0.1\n",
            "  Downloading stevedore-3.5.2-py3-none-any.whl (50 kB)\n",
            "\u001b[K     |████████████████████████████████| 50 kB 7.1 MB/s \n",
            "\u001b[?25hRequirement already satisfied: wcwidth>=0.1.7 in /usr/local/lib/python3.7/dist-packages (from cmd2>=1.0.0->cliff->optuna) (0.2.5)\n",
            "Requirement already satisfied: attrs>=16.3.0 in /usr/local/lib/python3.7/dist-packages (from cmd2>=1.0.0->cliff->optuna) (22.1.0)\n",
            "Collecting pyperclip>=1.6\n",
            "  Downloading pyperclip-1.8.2.tar.gz (20 kB)\n",
            "Requirement already satisfied: MarkupSafe>=0.9.2 in /usr/local/lib/python3.7/dist-packages (from Mako->alembic>=1.5.0->optuna) (2.0.1)\n",
            "Building wheels for collected packages: pyperclip\n",
            "  Building wheel for pyperclip (setup.py) ... \u001b[?25l\u001b[?25hdone\n",
            "  Created wheel for pyperclip: filename=pyperclip-1.8.2-py3-none-any.whl size=11136 sha256=f40b042d00360deaf2f76d50e217a243fb4f514550309b32fd7d1f9a76af14a7\n",
            "  Stored in directory: /root/.cache/pip/wheels/9f/18/84/8f69f8b08169c7bae2dde6bd7daf0c19fca8c8e500ee620a28\n",
            "Successfully built pyperclip\n",
            "Installing collected packages: pyperclip, pbr, stevedore, Mako, cmd2, autopage, colorlog, cmaes, cliff, alembic, optuna\n",
            "Successfully installed Mako-1.2.3 alembic-1.8.1 autopage-0.5.1 cliff-3.10.1 cmaes-0.9.0 cmd2-2.4.2 colorlog-6.7.0 optuna-3.0.3 pbr-5.11.0 pyperclip-1.8.2 stevedore-3.5.2\n"
          ]
        }
      ],
      "source": [
        "%pip install optuna"
      ]
    },
    {
      "cell_type": "code",
      "execution_count": null,
      "metadata": {
        "id": "czc_dAElPO2m"
      },
      "outputs": [],
      "source": [
        "import optuna"
      ]
    },
    {
      "cell_type": "markdown",
      "metadata": {
        "id": "wCedvjjmNN7Q"
      },
      "source": [
        "## **3.3. Objective Functions**\n",
        "\n",
        "---\n",
        "\n"
      ]
    },
    {
      "cell_type": "markdown",
      "source": [
        "#### **3.3.1. RF**\n",
        "\n",
        "---\n",
        "\n"
      ],
      "metadata": {
        "id": "rCZ5L2vjFa80"
      }
    },
    {
      "cell_type": "code",
      "execution_count": null,
      "metadata": {
        "id": "li1GJdsWQJJe"
      },
      "outputs": [],
      "source": [
        "#Step 1. Define an objective function to be maximized.\n",
        "def objective(trial):\n",
        "  from sklearn.ensemble import RandomForestClassifier\n",
        "\n",
        "  from sklearn.model_selection import RepeatedStratifiedKFold\n",
        "  from sklearn.model_selection import cross_validate\n",
        "\n",
        "  from sklearn.metrics import make_scorer\n",
        "  from sklearn.metrics import matthews_corrcoef\n",
        "\n",
        "  from sklearn.pipeline import make_pipeline\n",
        "  from sklearn.preprocessing import  StandardScaler\n",
        "\n",
        "\n",
        "  scaler = StandardScaler()\n",
        "\n",
        "  scoring = {'matthews_corrcoef': make_scorer(matthews_corrcoef)}\n",
        "  rfold= RepeatedStratifiedKFold(n_splits=10, n_repeats=10)\n",
        "\n",
        "  # Step 2. Setup values for the hyperparameters:\n",
        "\n",
        "  rf_n_estimators = trial.suggest_int(\"rf_n_estimators\", 50, 100)\n",
        "  rf_random_state = trial.suggest_categorical(\"rf_random_state\", [22,32,42])\n",
        "  classifier_obj = RandomForestClassifier(n_estimators = rf_n_estimators, random_state = rf_random_state)\n",
        "\n",
        "  pipeline = make_pipeline(scaler, classifier_obj)\n",
        "\n",
        "  # Step 3: Scoring method:\n",
        "  score=cross_validate(pipeline, x , y, cv=rfold,scoring=scoring, return_train_score=False)\n",
        "  mcc = score['test_matthews_corrcoef'].mean()\n",
        "  return mcc"
      ]
    },
    {
      "cell_type": "code",
      "execution_count": null,
      "metadata": {
        "colab": {
          "base_uri": "https://localhost:8080/"
        },
        "id": "WZYiA0q8bz9G",
        "outputId": "1513371a-84c9-44c7-c4cd-bb9267a106ef"
      },
      "outputs": [
        {
          "output_type": "stream",
          "name": "stderr",
          "text": [
            "\u001b[32m[I 2022-11-03 12:26:07,623]\u001b[0m A new study created in memory with name: no-name-cb983a24-5a86-4f94-8e3a-8d781fae4539\u001b[0m\n",
            "\u001b[32m[I 2022-11-03 12:27:39,140]\u001b[0m Trial 0 finished with value: 0.9272603954708489 and parameters: {'rf_n_estimators': 100, 'rf_random_state': 32}. Best is trial 0 with value: 0.9272603954708489.\u001b[0m\n",
            "\u001b[32m[I 2022-11-03 12:28:51,426]\u001b[0m Trial 1 finished with value: 0.9272669139171645 and parameters: {'rf_n_estimators': 79, 'rf_random_state': 32}. Best is trial 1 with value: 0.9272669139171645.\u001b[0m\n",
            "\u001b[32m[I 2022-11-03 12:29:52,286]\u001b[0m Trial 2 finished with value: 0.9281008001613964 and parameters: {'rf_n_estimators': 68, 'rf_random_state': 42}. Best is trial 2 with value: 0.9281008001613964.\u001b[0m\n",
            "\u001b[32m[I 2022-11-03 12:31:15,365]\u001b[0m Trial 3 finished with value: 0.9281988135634636 and parameters: {'rf_n_estimators': 94, 'rf_random_state': 32}. Best is trial 3 with value: 0.9281988135634636.\u001b[0m\n",
            "\u001b[32m[I 2022-11-03 12:32:14,332]\u001b[0m Trial 4 finished with value: 0.9277679346762323 and parameters: {'rf_n_estimators': 66, 'rf_random_state': 22}. Best is trial 3 with value: 0.9281988135634636.\u001b[0m\n",
            "\u001b[32m[I 2022-11-03 12:33:28,423]\u001b[0m Trial 5 finished with value: 0.9282243766230586 and parameters: {'rf_n_estimators': 81, 'rf_random_state': 42}. Best is trial 5 with value: 0.9282243766230586.\u001b[0m\n",
            "\u001b[32m[I 2022-11-03 12:34:14,957]\u001b[0m Trial 6 finished with value: 0.927762296441428 and parameters: {'rf_n_estimators': 52, 'rf_random_state': 42}. Best is trial 5 with value: 0.9282243766230586.\u001b[0m\n",
            "\u001b[32m[I 2022-11-03 12:35:25,046]\u001b[0m Trial 7 finished with value: 0.9268276992336658 and parameters: {'rf_n_estimators': 79, 'rf_random_state': 32}. Best is trial 5 with value: 0.9282243766230586.\u001b[0m\n",
            "\u001b[32m[I 2022-11-03 12:36:14,173]\u001b[0m Trial 8 finished with value: 0.9274668816698743 and parameters: {'rf_n_estimators': 55, 'rf_random_state': 22}. Best is trial 5 with value: 0.9282243766230586.\u001b[0m\n",
            "\u001b[32m[I 2022-11-03 12:37:12,350]\u001b[0m Trial 9 finished with value: 0.9290465323524794 and parameters: {'rf_n_estimators': 65, 'rf_random_state': 22}. Best is trial 9 with value: 0.9290465323524794.\u001b[0m\n",
            "\u001b[32m[I 2022-11-03 12:38:10,388]\u001b[0m Trial 10 finished with value: 0.9281459894665356 and parameters: {'rf_n_estimators': 62, 'rf_random_state': 22}. Best is trial 9 with value: 0.9290465323524794.\u001b[0m\n",
            "\u001b[32m[I 2022-11-03 12:39:30,668]\u001b[0m Trial 11 finished with value: 0.9286646403789177 and parameters: {'rf_n_estimators': 87, 'rf_random_state': 42}. Best is trial 9 with value: 0.9290465323524794.\u001b[0m\n",
            "\u001b[32m[I 2022-11-03 12:40:50,406]\u001b[0m Trial 12 finished with value: 0.9281859665621782 and parameters: {'rf_n_estimators': 89, 'rf_random_state': 42}. Best is trial 9 with value: 0.9290465323524794.\u001b[0m\n",
            "\u001b[32m[I 2022-11-03 12:42:08,153]\u001b[0m Trial 13 finished with value: 0.9291171649392627 and parameters: {'rf_n_estimators': 87, 'rf_random_state': 22}. Best is trial 13 with value: 0.9291171649392627.\u001b[0m\n",
            "\u001b[32m[I 2022-11-03 12:43:12,038]\u001b[0m Trial 14 finished with value: 0.9286544151396414 and parameters: {'rf_n_estimators': 71, 'rf_random_state': 22}. Best is trial 13 with value: 0.9291171649392627.\u001b[0m\n",
            "\u001b[32m[I 2022-11-03 12:44:07,737]\u001b[0m Trial 15 finished with value: 0.9280573895583024 and parameters: {'rf_n_estimators': 59, 'rf_random_state': 22}. Best is trial 13 with value: 0.9291171649392627.\u001b[0m\n",
            "\u001b[32m[I 2022-11-03 12:45:14,218]\u001b[0m Trial 16 finished with value: 0.9277822377726553 and parameters: {'rf_n_estimators': 74, 'rf_random_state': 22}. Best is trial 13 with value: 0.9291171649392627.\u001b[0m\n",
            "\u001b[32m[I 2022-11-03 12:46:32,206]\u001b[0m Trial 17 finished with value: 0.928459438278717 and parameters: {'rf_n_estimators': 86, 'rf_random_state': 22}. Best is trial 13 with value: 0.9291171649392627.\u001b[0m\n",
            "\u001b[32m[I 2022-11-03 12:48:04,059]\u001b[0m Trial 18 finished with value: 0.9285859471894533 and parameters: {'rf_n_estimators': 100, 'rf_random_state': 22}. Best is trial 13 with value: 0.9291171649392627.\u001b[0m\n",
            "\u001b[32m[I 2022-11-03 12:49:04,688]\u001b[0m Trial 19 finished with value: 0.9279504492972533 and parameters: {'rf_n_estimators': 63, 'rf_random_state': 22}. Best is trial 13 with value: 0.9291171649392627.\u001b[0m\n",
            "\u001b[32m[I 2022-11-03 12:50:10,369]\u001b[0m Trial 20 finished with value: 0.9286021575938885 and parameters: {'rf_n_estimators': 73, 'rf_random_state': 22}. Best is trial 13 with value: 0.9291171649392627.\u001b[0m\n",
            "\u001b[32m[I 2022-11-03 12:51:30,014]\u001b[0m Trial 21 finished with value: 0.9295314707119204 and parameters: {'rf_n_estimators': 88, 'rf_random_state': 42}. Best is trial 21 with value: 0.9295314707119204.\u001b[0m\n",
            "\u001b[32m[I 2022-11-03 12:52:53,912]\u001b[0m Trial 22 finished with value: 0.9283277783020667 and parameters: {'rf_n_estimators': 93, 'rf_random_state': 42}. Best is trial 21 with value: 0.9295314707119204.\u001b[0m\n",
            "\u001b[32m[I 2022-11-03 12:54:09,134]\u001b[0m Trial 23 finished with value: 0.9284502648675239 and parameters: {'rf_n_estimators': 82, 'rf_random_state': 42}. Best is trial 21 with value: 0.9295314707119204.\u001b[0m\n",
            "\u001b[32m[I 2022-11-03 12:55:29,691]\u001b[0m Trial 24 finished with value: 0.9291464809013295 and parameters: {'rf_n_estimators': 91, 'rf_random_state': 22}. Best is trial 21 with value: 0.9295314707119204.\u001b[0m\n",
            "\u001b[32m[I 2022-11-03 12:56:52,339]\u001b[0m Trial 25 finished with value: 0.9279916768932255 and parameters: {'rf_n_estimators': 93, 'rf_random_state': 42}. Best is trial 21 with value: 0.9295314707119204.\u001b[0m\n",
            "\u001b[32m[I 2022-11-03 12:58:07,008]\u001b[0m Trial 26 finished with value: 0.9279928459210651 and parameters: {'rf_n_estimators': 84, 'rf_random_state': 22}. Best is trial 21 with value: 0.9295314707119204.\u001b[0m\n",
            "\u001b[32m[I 2022-11-03 12:59:29,863]\u001b[0m Trial 27 finished with value: 0.9293977911694451 and parameters: {'rf_n_estimators': 91, 'rf_random_state': 22}. Best is trial 21 with value: 0.9295314707119204.\u001b[0m\n",
            "\u001b[32m[I 2022-11-03 13:00:55,257]\u001b[0m Trial 28 finished with value: 0.9274181104627774 and parameters: {'rf_n_estimators': 96, 'rf_random_state': 32}. Best is trial 21 with value: 0.9295314707119204.\u001b[0m\n",
            "\u001b[32m[I 2022-11-03 13:02:24,370]\u001b[0m Trial 29 finished with value: 0.9286862525959585 and parameters: {'rf_n_estimators': 100, 'rf_random_state': 42}. Best is trial 21 with value: 0.9295314707119204.\u001b[0m\n",
            "\u001b[32m[I 2022-11-03 13:03:50,405]\u001b[0m Trial 30 finished with value: 0.9274243352548598 and parameters: {'rf_n_estimators': 97, 'rf_random_state': 32}. Best is trial 21 with value: 0.9295314707119204.\u001b[0m\n",
            "\u001b[32m[I 2022-11-03 13:05:13,607]\u001b[0m Trial 31 finished with value: 0.9283963510182037 and parameters: {'rf_n_estimators': 91, 'rf_random_state': 22}. Best is trial 21 with value: 0.9295314707119204.\u001b[0m\n",
            "\u001b[32m[I 2022-11-03 13:06:31,001]\u001b[0m Trial 32 finished with value: 0.9286051254598452 and parameters: {'rf_n_estimators': 87, 'rf_random_state': 22}. Best is trial 21 with value: 0.9295314707119204.\u001b[0m\n",
            "\u001b[32m[I 2022-11-03 13:07:40,861]\u001b[0m Trial 33 finished with value: 0.9276482116902014 and parameters: {'rf_n_estimators': 78, 'rf_random_state': 22}. Best is trial 21 with value: 0.9295314707119204.\u001b[0m\n",
            "\u001b[32m[I 2022-11-03 13:09:01,341]\u001b[0m Trial 34 finished with value: 0.9283888906577445 and parameters: {'rf_n_estimators': 90, 'rf_random_state': 22}. Best is trial 21 with value: 0.9295314707119204.\u001b[0m\n",
            "\u001b[32m[I 2022-11-03 13:10:17,801]\u001b[0m Trial 35 finished with value: 0.9277349054576662 and parameters: {'rf_n_estimators': 84, 'rf_random_state': 32}. Best is trial 21 with value: 0.9295314707119204.\u001b[0m\n",
            "\u001b[32m[I 2022-11-03 13:11:48,709]\u001b[0m Trial 36 finished with value: 0.9281103742539194 and parameters: {'rf_n_estimators': 96, 'rf_random_state': 22}. Best is trial 21 with value: 0.9295314707119204.\u001b[0m\n",
            "\u001b[32m[I 2022-11-03 13:13:02,002]\u001b[0m Trial 37 finished with value: 0.9278667228846015 and parameters: {'rf_n_estimators': 77, 'rf_random_state': 42}. Best is trial 21 with value: 0.9295314707119204.\u001b[0m\n",
            "\u001b[32m[I 2022-11-03 13:14:19,692]\u001b[0m Trial 38 finished with value: 0.9280258196517596 and parameters: {'rf_n_estimators': 82, 'rf_random_state': 22}. Best is trial 21 with value: 0.9295314707119204.\u001b[0m\n",
            "\u001b[32m[I 2022-11-03 13:15:43,915]\u001b[0m Trial 39 finished with value: 0.9277838657171139 and parameters: {'rf_n_estimators': 91, 'rf_random_state': 32}. Best is trial 21 with value: 0.9295314707119204.\u001b[0m\n",
            "\u001b[32m[I 2022-11-03 13:17:05,903]\u001b[0m Trial 40 finished with value: 0.9292628469353826 and parameters: {'rf_n_estimators': 85, 'rf_random_state': 42}. Best is trial 21 with value: 0.9295314707119204.\u001b[0m\n",
            "\u001b[32m[I 2022-11-03 13:18:30,676]\u001b[0m Trial 41 finished with value: 0.9274596494834161 and parameters: {'rf_n_estimators': 90, 'rf_random_state': 42}. Best is trial 21 with value: 0.9295314707119204.\u001b[0m\n",
            "\u001b[32m[I 2022-11-03 13:19:51,193]\u001b[0m Trial 42 finished with value: 0.927652332827661 and parameters: {'rf_n_estimators': 86, 'rf_random_state': 42}. Best is trial 21 with value: 0.9295314707119204.\u001b[0m\n",
            "\u001b[32m[I 2022-11-03 13:21:14,827]\u001b[0m Trial 43 finished with value: 0.9274515944368171 and parameters: {'rf_n_estimators': 88, 'rf_random_state': 42}. Best is trial 21 with value: 0.9295314707119204.\u001b[0m\n",
            "\u001b[32m[I 2022-11-03 13:22:36,213]\u001b[0m Trial 44 finished with value: 0.9280507253035679 and parameters: {'rf_n_estimators': 84, 'rf_random_state': 42}. Best is trial 21 with value: 0.9295314707119204.\u001b[0m\n",
            "\u001b[32m[I 2022-11-03 13:23:50,692]\u001b[0m Trial 45 finished with value: 0.9283654361773892 and parameters: {'rf_n_estimators': 80, 'rf_random_state': 42}. Best is trial 21 with value: 0.9295314707119204.\u001b[0m\n",
            "\u001b[32m[I 2022-11-03 13:25:17,725]\u001b[0m Trial 46 finished with value: 0.9285843323200311 and parameters: {'rf_n_estimators': 94, 'rf_random_state': 22}. Best is trial 21 with value: 0.9295314707119204.\u001b[0m\n",
            "\u001b[32m[I 2022-11-03 13:26:41,979]\u001b[0m Trial 47 finished with value: 0.928389603080082 and parameters: {'rf_n_estimators': 92, 'rf_random_state': 42}. Best is trial 21 with value: 0.9295314707119204.\u001b[0m\n",
            "\u001b[32m[I 2022-11-03 13:28:03,603]\u001b[0m Trial 48 finished with value: 0.9283740343363442 and parameters: {'rf_n_estimators': 88, 'rf_random_state': 22}. Best is trial 21 with value: 0.9295314707119204.\u001b[0m\n",
            "\u001b[32m[I 2022-11-03 13:29:32,894]\u001b[0m Trial 49 finished with value: 0.9277040335829335 and parameters: {'rf_n_estimators': 98, 'rf_random_state': 22}. Best is trial 21 with value: 0.9295314707119204.\u001b[0m\n"
          ]
        }
      ],
      "source": [
        "# Step 4: Running it\n",
        "study = optuna.create_study(direction=\"maximize\")\n",
        "study.optimize(objective, n_trials=50)"
      ]
    },
    {
      "cell_type": "code",
      "execution_count": null,
      "metadata": {
        "id": "ptmxs4bUiAsu"
      },
      "outputs": [],
      "source": [
        "def get_Optimized_Parmaters():\n",
        "\n",
        "  # Getting the best trial:\n",
        "  print(f\"The best trial is : \\n{study.best_trial}\")\n",
        "\n",
        "  # Getting the best score:\n",
        "  print(f\"The best value is : \\n{study.best_value}\")\n",
        "\n",
        "  # Getting the best parameters:\n",
        "  print(f\"The best parameters are : \\n{study.best_params}\")\n",
        "\n",
        "  #Visualize the slice plot\n",
        "  #optuna.visualization.plot_slice(study, params=['rf_n_estimators', 'rf_max_depth'])\n",
        "  #optuna.visualization.plot_slice(study, params=['rf_n_estimators', 'rf_criterion',  'rf_n_estimators', 'rf_random_state', 'rf_max_depth', 'rf_min_samples_leaf'])\n",
        "  optuna.visualization.plot_slice(study, params=['rf_n_estimators', 'rf_random_state'])"
      ]
    },
    {
      "cell_type": "code",
      "execution_count": null,
      "metadata": {
        "colab": {
          "base_uri": "https://localhost:8080/"
        },
        "id": "e2lpSzFTiZ96",
        "outputId": "db1e25a1-6e58-4859-98cf-b48f1ec41f0a"
      },
      "outputs": [
        {
          "output_type": "stream",
          "name": "stdout",
          "text": [
            "The best trial is : \n",
            "FrozenTrial(number=21, values=[0.9295314707119204], datetime_start=datetime.datetime(2022, 11, 3, 12, 50, 10, 373562), datetime_complete=datetime.datetime(2022, 11, 3, 12, 51, 30, 13983), params={'rf_n_estimators': 88, 'rf_random_state': 42}, distributions={'rf_n_estimators': IntDistribution(high=100, log=False, low=50, step=1), 'rf_random_state': CategoricalDistribution(choices=(22, 32, 42))}, user_attrs={}, system_attrs={}, intermediate_values={}, trial_id=21, state=TrialState.COMPLETE, value=None)\n",
            "The best value is : \n",
            "0.9295314707119204\n",
            "The best parameters are : \n",
            "{'rf_n_estimators': 88, 'rf_random_state': 42}\n"
          ]
        }
      ],
      "source": [
        "#RF\n",
        "get_Optimized_Parmaters()"
      ]
    },
    {
      "cell_type": "code",
      "execution_count": null,
      "metadata": {
        "colab": {
          "base_uri": "https://localhost:8080/"
        },
        "id": "hbkMTcgSTB17",
        "outputId": "4ccc953c-7d95-4740-cd77-6a1ee4991fb2"
      },
      "outputs": [
        {
          "output_type": "stream",
          "name": "stdout",
          "text": [
            "The best trial is : \n",
            "FrozenTrial(number=21, values=[0.9295314707119204], datetime_start=datetime.datetime(2022, 11, 3, 12, 50, 10, 373562), datetime_complete=datetime.datetime(2022, 11, 3, 12, 51, 30, 13983), params={'rf_n_estimators': 88, 'rf_random_state': 42}, distributions={'rf_n_estimators': IntDistribution(high=100, log=False, low=50, step=1), 'rf_random_state': CategoricalDistribution(choices=(22, 32, 42))}, user_attrs={}, system_attrs={}, intermediate_values={}, trial_id=21, state=TrialState.COMPLETE, value=None)\n"
          ]
        }
      ],
      "source": [
        "# Getting the best trial:\n",
        "print(f\"The best trial is : \\n{study.best_trial}\")"
      ]
    },
    {
      "cell_type": "code",
      "execution_count": null,
      "metadata": {
        "colab": {
          "base_uri": "https://localhost:8080/"
        },
        "id": "Fs-LRcxRTK9q",
        "outputId": "3e147e31-6b93-44bc-a29c-b7240d7e6b9f"
      },
      "outputs": [
        {
          "output_type": "stream",
          "name": "stdout",
          "text": [
            "The best value is : \n",
            "0.9295314707119204\n"
          ]
        }
      ],
      "source": [
        "# Getting the best score:\n",
        "print(f\"The best value is : \\n{study.best_value}\")"
      ]
    },
    {
      "cell_type": "code",
      "execution_count": null,
      "metadata": {
        "colab": {
          "base_uri": "https://localhost:8080/"
        },
        "id": "_5DRfl7KTQUC",
        "outputId": "c1e41232-f256-439e-d4dc-df5f76e0d691"
      },
      "outputs": [
        {
          "output_type": "stream",
          "name": "stdout",
          "text": [
            "The best parameters are : \n",
            "{'rf_n_estimators': 88, 'rf_random_state': 42}\n"
          ]
        }
      ],
      "source": [
        "# Getting the best parameters:\n",
        "print(f\"The best parameters are : \\n{study.best_params}\")"
      ]
    },
    {
      "cell_type": "code",
      "execution_count": null,
      "metadata": {
        "colab": {
          "base_uri": "https://localhost:8080/",
          "height": 542
        },
        "id": "CcHNyQ7CT3GS",
        "outputId": "c2aaebfc-2392-4712-c72e-700e03090522"
      },
      "outputs": [
        {
          "output_type": "display_data",
          "data": {
            "text/html": [
              "<html>\n",
              "<head><meta charset=\"utf-8\" /></head>\n",
              "<body>\n",
              "    <div>            <script src=\"https://cdnjs.cloudflare.com/ajax/libs/mathjax/2.7.5/MathJax.js?config=TeX-AMS-MML_SVG\"></script><script type=\"text/javascript\">if (window.MathJax) {MathJax.Hub.Config({SVG: {font: \"STIX-Web\"}});}</script>                <script type=\"text/javascript\">window.PlotlyConfig = {MathJaxConfig: 'local'};</script>\n",
              "        <script src=\"https://cdn.plot.ly/plotly-2.8.3.min.js\"></script>                <div id=\"d4c84f77-b2e6-4d88-86ab-51900483f84b\" class=\"plotly-graph-div\" style=\"height:525px; width:100%;\"></div>            <script type=\"text/javascript\">                                    window.PLOTLYENV=window.PLOTLYENV || {};                                    if (document.getElementById(\"d4c84f77-b2e6-4d88-86ab-51900483f84b\")) {                    Plotly.newPlot(                        \"d4c84f77-b2e6-4d88-86ab-51900483f84b\",                        [{\"marker\":{\"color\":[0,1,2,3,4,5,6,7,8,9,10,11,12,13,14,15,16,17,18,19,20,21,22,23,24,25,26,27,28,29,30,31,32,33,34,35,36,37,38,39,40,41,42,43,44,45,46,47,48,49],\"colorbar\":{\"title\":{\"text\":\"Trial\"},\"x\":1.0,\"xpad\":40},\"colorscale\":[[0.0,\"rgb(247,251,255)\"],[0.125,\"rgb(222,235,247)\"],[0.25,\"rgb(198,219,239)\"],[0.375,\"rgb(158,202,225)\"],[0.5,\"rgb(107,174,214)\"],[0.625,\"rgb(66,146,198)\"],[0.75,\"rgb(33,113,181)\"],[0.875,\"rgb(8,81,156)\"],[1.0,\"rgb(8,48,107)\"]],\"line\":{\"color\":\"Grey\",\"width\":0.5},\"showscale\":true},\"mode\":\"markers\",\"showlegend\":false,\"x\":[100,79,68,94,66,81,52,79,55,65,62,87,89,87,71,59,74,86,100,63,73,88,93,82,91,93,84,91,96,100,97,91,87,78,90,84,96,77,82,91,85,90,86,88,84,80,94,92,88,98],\"y\":[0.9272603954708489,0.9272669139171645,0.9281008001613964,0.9281988135634636,0.9277679346762323,0.9282243766230586,0.927762296441428,0.9268276992336658,0.9274668816698743,0.9290465323524794,0.9281459894665356,0.9286646403789177,0.9281859665621782,0.9291171649392627,0.9286544151396414,0.9280573895583024,0.9277822377726553,0.928459438278717,0.9285859471894533,0.9279504492972533,0.9286021575938885,0.9295314707119204,0.9283277783020667,0.9284502648675239,0.9291464809013295,0.9279916768932255,0.9279928459210651,0.9293977911694451,0.9274181104627774,0.9286862525959585,0.9274243352548598,0.9283963510182037,0.9286051254598452,0.9276482116902014,0.9283888906577445,0.9277349054576662,0.9281103742539194,0.9278667228846015,0.9280258196517596,0.9277838657171139,0.9292628469353826,0.9274596494834161,0.927652332827661,0.9274515944368171,0.9280507253035679,0.9283654361773892,0.9285843323200311,0.928389603080082,0.9283740343363442,0.9277040335829335],\"type\":\"scatter\",\"xaxis\":\"x\",\"yaxis\":\"y\"},{\"marker\":{\"color\":[0,1,2,3,4,5,6,7,8,9,10,11,12,13,14,15,16,17,18,19,20,21,22,23,24,25,26,27,28,29,30,31,32,33,34,35,36,37,38,39,40,41,42,43,44,45,46,47,48,49],\"colorbar\":{\"title\":{\"text\":\"Trial\"},\"x\":1.0,\"xpad\":40},\"colorscale\":[[0.0,\"rgb(247,251,255)\"],[0.125,\"rgb(222,235,247)\"],[0.25,\"rgb(198,219,239)\"],[0.375,\"rgb(158,202,225)\"],[0.5,\"rgb(107,174,214)\"],[0.625,\"rgb(66,146,198)\"],[0.75,\"rgb(33,113,181)\"],[0.875,\"rgb(8,81,156)\"],[1.0,\"rgb(8,48,107)\"]],\"line\":{\"color\":\"Grey\",\"width\":0.5},\"showscale\":false},\"mode\":\"markers\",\"showlegend\":false,\"x\":[32,32,42,32,22,42,42,32,22,22,22,42,42,22,22,22,22,22,22,22,22,42,42,42,22,42,22,22,32,42,32,22,22,22,22,32,22,42,22,32,42,42,42,42,42,42,22,42,22,22],\"y\":[0.9272603954708489,0.9272669139171645,0.9281008001613964,0.9281988135634636,0.9277679346762323,0.9282243766230586,0.927762296441428,0.9268276992336658,0.9274668816698743,0.9290465323524794,0.9281459894665356,0.9286646403789177,0.9281859665621782,0.9291171649392627,0.9286544151396414,0.9280573895583024,0.9277822377726553,0.928459438278717,0.9285859471894533,0.9279504492972533,0.9286021575938885,0.9295314707119204,0.9283277783020667,0.9284502648675239,0.9291464809013295,0.9279916768932255,0.9279928459210651,0.9293977911694451,0.9274181104627774,0.9286862525959585,0.9274243352548598,0.9283963510182037,0.9286051254598452,0.9276482116902014,0.9283888906577445,0.9277349054576662,0.9281103742539194,0.9278667228846015,0.9280258196517596,0.9277838657171139,0.9292628469353826,0.9274596494834161,0.927652332827661,0.9274515944368171,0.9280507253035679,0.9283654361773892,0.9285843323200311,0.928389603080082,0.9283740343363442,0.9277040335829335],\"type\":\"scatter\",\"xaxis\":\"x2\",\"yaxis\":\"y2\"}],                        {\"template\":{\"data\":{\"bar\":[{\"error_x\":{\"color\":\"#2a3f5f\"},\"error_y\":{\"color\":\"#2a3f5f\"},\"marker\":{\"line\":{\"color\":\"#E5ECF6\",\"width\":0.5},\"pattern\":{\"fillmode\":\"overlay\",\"size\":10,\"solidity\":0.2}},\"type\":\"bar\"}],\"barpolar\":[{\"marker\":{\"line\":{\"color\":\"#E5ECF6\",\"width\":0.5},\"pattern\":{\"fillmode\":\"overlay\",\"size\":10,\"solidity\":0.2}},\"type\":\"barpolar\"}],\"carpet\":[{\"aaxis\":{\"endlinecolor\":\"#2a3f5f\",\"gridcolor\":\"white\",\"linecolor\":\"white\",\"minorgridcolor\":\"white\",\"startlinecolor\":\"#2a3f5f\"},\"baxis\":{\"endlinecolor\":\"#2a3f5f\",\"gridcolor\":\"white\",\"linecolor\":\"white\",\"minorgridcolor\":\"white\",\"startlinecolor\":\"#2a3f5f\"},\"type\":\"carpet\"}],\"choropleth\":[{\"colorbar\":{\"outlinewidth\":0,\"ticks\":\"\"},\"type\":\"choropleth\"}],\"contour\":[{\"colorbar\":{\"outlinewidth\":0,\"ticks\":\"\"},\"colorscale\":[[0.0,\"#0d0887\"],[0.1111111111111111,\"#46039f\"],[0.2222222222222222,\"#7201a8\"],[0.3333333333333333,\"#9c179e\"],[0.4444444444444444,\"#bd3786\"],[0.5555555555555556,\"#d8576b\"],[0.6666666666666666,\"#ed7953\"],[0.7777777777777778,\"#fb9f3a\"],[0.8888888888888888,\"#fdca26\"],[1.0,\"#f0f921\"]],\"type\":\"contour\"}],\"contourcarpet\":[{\"colorbar\":{\"outlinewidth\":0,\"ticks\":\"\"},\"type\":\"contourcarpet\"}],\"heatmap\":[{\"colorbar\":{\"outlinewidth\":0,\"ticks\":\"\"},\"colorscale\":[[0.0,\"#0d0887\"],[0.1111111111111111,\"#46039f\"],[0.2222222222222222,\"#7201a8\"],[0.3333333333333333,\"#9c179e\"],[0.4444444444444444,\"#bd3786\"],[0.5555555555555556,\"#d8576b\"],[0.6666666666666666,\"#ed7953\"],[0.7777777777777778,\"#fb9f3a\"],[0.8888888888888888,\"#fdca26\"],[1.0,\"#f0f921\"]],\"type\":\"heatmap\"}],\"heatmapgl\":[{\"colorbar\":{\"outlinewidth\":0,\"ticks\":\"\"},\"colorscale\":[[0.0,\"#0d0887\"],[0.1111111111111111,\"#46039f\"],[0.2222222222222222,\"#7201a8\"],[0.3333333333333333,\"#9c179e\"],[0.4444444444444444,\"#bd3786\"],[0.5555555555555556,\"#d8576b\"],[0.6666666666666666,\"#ed7953\"],[0.7777777777777778,\"#fb9f3a\"],[0.8888888888888888,\"#fdca26\"],[1.0,\"#f0f921\"]],\"type\":\"heatmapgl\"}],\"histogram\":[{\"marker\":{\"pattern\":{\"fillmode\":\"overlay\",\"size\":10,\"solidity\":0.2}},\"type\":\"histogram\"}],\"histogram2d\":[{\"colorbar\":{\"outlinewidth\":0,\"ticks\":\"\"},\"colorscale\":[[0.0,\"#0d0887\"],[0.1111111111111111,\"#46039f\"],[0.2222222222222222,\"#7201a8\"],[0.3333333333333333,\"#9c179e\"],[0.4444444444444444,\"#bd3786\"],[0.5555555555555556,\"#d8576b\"],[0.6666666666666666,\"#ed7953\"],[0.7777777777777778,\"#fb9f3a\"],[0.8888888888888888,\"#fdca26\"],[1.0,\"#f0f921\"]],\"type\":\"histogram2d\"}],\"histogram2dcontour\":[{\"colorbar\":{\"outlinewidth\":0,\"ticks\":\"\"},\"colorscale\":[[0.0,\"#0d0887\"],[0.1111111111111111,\"#46039f\"],[0.2222222222222222,\"#7201a8\"],[0.3333333333333333,\"#9c179e\"],[0.4444444444444444,\"#bd3786\"],[0.5555555555555556,\"#d8576b\"],[0.6666666666666666,\"#ed7953\"],[0.7777777777777778,\"#fb9f3a\"],[0.8888888888888888,\"#fdca26\"],[1.0,\"#f0f921\"]],\"type\":\"histogram2dcontour\"}],\"mesh3d\":[{\"colorbar\":{\"outlinewidth\":0,\"ticks\":\"\"},\"type\":\"mesh3d\"}],\"parcoords\":[{\"line\":{\"colorbar\":{\"outlinewidth\":0,\"ticks\":\"\"}},\"type\":\"parcoords\"}],\"pie\":[{\"automargin\":true,\"type\":\"pie\"}],\"scatter\":[{\"marker\":{\"colorbar\":{\"outlinewidth\":0,\"ticks\":\"\"}},\"type\":\"scatter\"}],\"scatter3d\":[{\"line\":{\"colorbar\":{\"outlinewidth\":0,\"ticks\":\"\"}},\"marker\":{\"colorbar\":{\"outlinewidth\":0,\"ticks\":\"\"}},\"type\":\"scatter3d\"}],\"scattercarpet\":[{\"marker\":{\"colorbar\":{\"outlinewidth\":0,\"ticks\":\"\"}},\"type\":\"scattercarpet\"}],\"scattergeo\":[{\"marker\":{\"colorbar\":{\"outlinewidth\":0,\"ticks\":\"\"}},\"type\":\"scattergeo\"}],\"scattergl\":[{\"marker\":{\"colorbar\":{\"outlinewidth\":0,\"ticks\":\"\"}},\"type\":\"scattergl\"}],\"scattermapbox\":[{\"marker\":{\"colorbar\":{\"outlinewidth\":0,\"ticks\":\"\"}},\"type\":\"scattermapbox\"}],\"scatterpolar\":[{\"marker\":{\"colorbar\":{\"outlinewidth\":0,\"ticks\":\"\"}},\"type\":\"scatterpolar\"}],\"scatterpolargl\":[{\"marker\":{\"colorbar\":{\"outlinewidth\":0,\"ticks\":\"\"}},\"type\":\"scatterpolargl\"}],\"scatterternary\":[{\"marker\":{\"colorbar\":{\"outlinewidth\":0,\"ticks\":\"\"}},\"type\":\"scatterternary\"}],\"surface\":[{\"colorbar\":{\"outlinewidth\":0,\"ticks\":\"\"},\"colorscale\":[[0.0,\"#0d0887\"],[0.1111111111111111,\"#46039f\"],[0.2222222222222222,\"#7201a8\"],[0.3333333333333333,\"#9c179e\"],[0.4444444444444444,\"#bd3786\"],[0.5555555555555556,\"#d8576b\"],[0.6666666666666666,\"#ed7953\"],[0.7777777777777778,\"#fb9f3a\"],[0.8888888888888888,\"#fdca26\"],[1.0,\"#f0f921\"]],\"type\":\"surface\"}],\"table\":[{\"cells\":{\"fill\":{\"color\":\"#EBF0F8\"},\"line\":{\"color\":\"white\"}},\"header\":{\"fill\":{\"color\":\"#C8D4E3\"},\"line\":{\"color\":\"white\"}},\"type\":\"table\"}]},\"layout\":{\"annotationdefaults\":{\"arrowcolor\":\"#2a3f5f\",\"arrowhead\":0,\"arrowwidth\":1},\"autotypenumbers\":\"strict\",\"coloraxis\":{\"colorbar\":{\"outlinewidth\":0,\"ticks\":\"\"}},\"colorscale\":{\"diverging\":[[0,\"#8e0152\"],[0.1,\"#c51b7d\"],[0.2,\"#de77ae\"],[0.3,\"#f1b6da\"],[0.4,\"#fde0ef\"],[0.5,\"#f7f7f7\"],[0.6,\"#e6f5d0\"],[0.7,\"#b8e186\"],[0.8,\"#7fbc41\"],[0.9,\"#4d9221\"],[1,\"#276419\"]],\"sequential\":[[0.0,\"#0d0887\"],[0.1111111111111111,\"#46039f\"],[0.2222222222222222,\"#7201a8\"],[0.3333333333333333,\"#9c179e\"],[0.4444444444444444,\"#bd3786\"],[0.5555555555555556,\"#d8576b\"],[0.6666666666666666,\"#ed7953\"],[0.7777777777777778,\"#fb9f3a\"],[0.8888888888888888,\"#fdca26\"],[1.0,\"#f0f921\"]],\"sequentialminus\":[[0.0,\"#0d0887\"],[0.1111111111111111,\"#46039f\"],[0.2222222222222222,\"#7201a8\"],[0.3333333333333333,\"#9c179e\"],[0.4444444444444444,\"#bd3786\"],[0.5555555555555556,\"#d8576b\"],[0.6666666666666666,\"#ed7953\"],[0.7777777777777778,\"#fb9f3a\"],[0.8888888888888888,\"#fdca26\"],[1.0,\"#f0f921\"]]},\"colorway\":[\"#636efa\",\"#EF553B\",\"#00cc96\",\"#ab63fa\",\"#FFA15A\",\"#19d3f3\",\"#FF6692\",\"#B6E880\",\"#FF97FF\",\"#FECB52\"],\"font\":{\"color\":\"#2a3f5f\"},\"geo\":{\"bgcolor\":\"white\",\"lakecolor\":\"white\",\"landcolor\":\"#E5ECF6\",\"showlakes\":true,\"showland\":true,\"subunitcolor\":\"white\"},\"hoverlabel\":{\"align\":\"left\"},\"hovermode\":\"closest\",\"mapbox\":{\"style\":\"light\"},\"paper_bgcolor\":\"white\",\"plot_bgcolor\":\"#E5ECF6\",\"polar\":{\"angularaxis\":{\"gridcolor\":\"white\",\"linecolor\":\"white\",\"ticks\":\"\"},\"bgcolor\":\"#E5ECF6\",\"radialaxis\":{\"gridcolor\":\"white\",\"linecolor\":\"white\",\"ticks\":\"\"}},\"scene\":{\"xaxis\":{\"backgroundcolor\":\"#E5ECF6\",\"gridcolor\":\"white\",\"gridwidth\":2,\"linecolor\":\"white\",\"showbackground\":true,\"ticks\":\"\",\"zerolinecolor\":\"white\"},\"yaxis\":{\"backgroundcolor\":\"#E5ECF6\",\"gridcolor\":\"white\",\"gridwidth\":2,\"linecolor\":\"white\",\"showbackground\":true,\"ticks\":\"\",\"zerolinecolor\":\"white\"},\"zaxis\":{\"backgroundcolor\":\"#E5ECF6\",\"gridcolor\":\"white\",\"gridwidth\":2,\"linecolor\":\"white\",\"showbackground\":true,\"ticks\":\"\",\"zerolinecolor\":\"white\"}},\"shapedefaults\":{\"line\":{\"color\":\"#2a3f5f\"}},\"ternary\":{\"aaxis\":{\"gridcolor\":\"white\",\"linecolor\":\"white\",\"ticks\":\"\"},\"baxis\":{\"gridcolor\":\"white\",\"linecolor\":\"white\",\"ticks\":\"\"},\"bgcolor\":\"#E5ECF6\",\"caxis\":{\"gridcolor\":\"white\",\"linecolor\":\"white\",\"ticks\":\"\"}},\"title\":{\"x\":0.05},\"xaxis\":{\"automargin\":true,\"gridcolor\":\"white\",\"linecolor\":\"white\",\"ticks\":\"\",\"title\":{\"standoff\":15},\"zerolinecolor\":\"white\",\"zerolinewidth\":2},\"yaxis\":{\"automargin\":true,\"gridcolor\":\"white\",\"linecolor\":\"white\",\"ticks\":\"\",\"title\":{\"standoff\":15},\"zerolinecolor\":\"white\",\"zerolinewidth\":2}}},\"xaxis\":{\"anchor\":\"y\",\"domain\":[0.0,0.45],\"title\":{\"text\":\"rf_n_estimators\"}},\"yaxis\":{\"anchor\":\"x\",\"domain\":[0.0,1.0],\"title\":{\"text\":\"Objective Value\"}},\"xaxis2\":{\"anchor\":\"y2\",\"domain\":[0.55,1.0],\"title\":{\"text\":\"rf_random_state\"}},\"yaxis2\":{\"anchor\":\"x2\",\"domain\":[0.0,1.0],\"matches\":\"y\",\"showticklabels\":false},\"title\":{\"text\":\"Slice Plot\"}},                        {\"responsive\": true}                    ).then(function(){\n",
              "                            \n",
              "var gd = document.getElementById('d4c84f77-b2e6-4d88-86ab-51900483f84b');\n",
              "var x = new MutationObserver(function (mutations, observer) {{\n",
              "        var display = window.getComputedStyle(gd).display;\n",
              "        if (!display || display === 'none') {{\n",
              "            console.log([gd, 'removed!']);\n",
              "            Plotly.purge(gd);\n",
              "            observer.disconnect();\n",
              "        }}\n",
              "}});\n",
              "\n",
              "// Listen for the removal of the full notebook cells\n",
              "var notebookContainer = gd.closest('#notebook-container');\n",
              "if (notebookContainer) {{\n",
              "    x.observe(notebookContainer, {childList: true});\n",
              "}}\n",
              "\n",
              "// Listen for the clearing of the current output cell\n",
              "var outputEl = gd.closest('.output');\n",
              "if (outputEl) {{\n",
              "    x.observe(outputEl, {childList: true});\n",
              "}}\n",
              "\n",
              "                        })                };                            </script>        </div>\n",
              "</body>\n",
              "</html>"
            ]
          },
          "metadata": {}
        }
      ],
      "source": [
        "#Visualize the slice plot\n",
        "optuna.visualization.plot_slice(study, params=['rf_n_estimators', 'rf_random_state'])"
      ]
    },
    {
      "cell_type": "markdown",
      "metadata": {
        "id": "kJMbDr_kFJ5g"
      },
      "source": [
        "### **3.3.2. Ada**\n",
        "\n",
        "---\n",
        "\n"
      ]
    },
    {
      "cell_type": "code",
      "execution_count": null,
      "metadata": {
        "id": "SbOTj8E2FJ5h"
      },
      "outputs": [],
      "source": [
        "#Step 1. Define an objective function to be maximized.\n",
        "def objective(trial):\n",
        "  from sklearn.ensemble import AdaBoostClassifier\n",
        "\n",
        "  from sklearn.model_selection import RepeatedStratifiedKFold\n",
        "  from sklearn.model_selection import cross_validate\n",
        "\n",
        "  from sklearn.metrics import make_scorer\n",
        "  from sklearn.metrics import matthews_corrcoef\n",
        "\n",
        "\n",
        "  from sklearn.pipeline import make_pipeline\n",
        "  from sklearn.preprocessing import  StandardScaler\n",
        "\n",
        "\n",
        "  scaler = StandardScaler()\n",
        "\n",
        "  scoring = {'matthews_corrcoef': make_scorer(matthews_corrcoef)}\n",
        "  rfold= RepeatedStratifiedKFold(n_splits=10, n_repeats=10)\n",
        "\n",
        "  # Step 2. Setup values for the hyperparameters:\n",
        "\n",
        "  Ada_n_estimators = trial.suggest_categorical(\"Ada_n_estimators\", [100, 300,500,700,900])\n",
        "  Ada_learning_rate = trial.suggest_float(\"Ada_learning_rate\", 0.1,1)\n",
        "  classifier_obj = AdaBoostClassifier(n_estimators = Ada_n_estimators, learning_rate = Ada_learning_rate)\n",
        "\n",
        "  pipeline = make_pipeline(scaler, classifier_obj)\n",
        "\n",
        "  # Step 3: Scoring method:\n",
        "  score=cross_validate(pipeline, x , y, cv=rfold,scoring=scoring, return_train_score=False)\n",
        "  mcc = score['test_matthews_corrcoef'].mean()\n",
        "  return mcc"
      ]
    },
    {
      "cell_type": "code",
      "source": [
        "# Step 4: Running it\n",
        "study = optuna.create_study(direction=\"maximize\")\n",
        "study.optimize(objective, n_trials=50)"
      ],
      "metadata": {
        "colab": {
          "base_uri": "https://localhost:8080/"
        },
        "id": "z_jmDicupdJg",
        "outputId": "0c0890d8-7024-4cb4-ee5f-d2f573811e71"
      },
      "execution_count": null,
      "outputs": [
        {
          "output_type": "stream",
          "name": "stderr",
          "text": [
            "\u001b[32m[I 2022-11-03 18:08:27,761]\u001b[0m A new study created in memory with name: no-name-aa01545e-e56f-4f1a-90f8-78bbf51793c1\u001b[0m\n",
            "\u001b[32m[I 2022-11-03 18:11:49,324]\u001b[0m Trial 0 finished with value: 0.8755076453933007 and parameters: {'rf_n_estimators': 300, 'Ada_learning_rate': 0.5071955099740973}. Best is trial 0 with value: 0.8755076453933007.\u001b[0m\n",
            "\u001b[32m[I 2022-11-03 18:21:44,620]\u001b[0m Trial 1 finished with value: 0.8785102974299552 and parameters: {'rf_n_estimators': 900, 'Ada_learning_rate': 0.21833990147056848}. Best is trial 1 with value: 0.8785102974299552.\u001b[0m\n",
            "\u001b[32m[I 2022-11-03 18:31:41,831]\u001b[0m Trial 2 finished with value: 0.903093782858042 and parameters: {'rf_n_estimators': 900, 'Ada_learning_rate': 0.6676309191343832}. Best is trial 2 with value: 0.903093782858042.\u001b[0m\n",
            "\u001b[32m[I 2022-11-03 18:37:09,924]\u001b[0m Trial 3 finished with value: 0.8958681738719951 and parameters: {'rf_n_estimators': 500, 'Ada_learning_rate': 0.7796120025504635}. Best is trial 2 with value: 0.903093782858042.\u001b[0m\n",
            "\u001b[32m[I 2022-11-03 18:42:38,682]\u001b[0m Trial 4 finished with value: 0.8824851440459789 and parameters: {'rf_n_estimators': 500, 'Ada_learning_rate': 0.4574953904752299}. Best is trial 2 with value: 0.903093782858042.\u001b[0m\n",
            "\u001b[32m[I 2022-11-03 18:48:07,253]\u001b[0m Trial 5 finished with value: 0.8956600720756269 and parameters: {'rf_n_estimators': 500, 'Ada_learning_rate': 0.7961119797542857}. Best is trial 2 with value: 0.903093782858042.\u001b[0m\n",
            "\u001b[32m[I 2022-11-03 18:55:37,656]\u001b[0m Trial 6 finished with value: 0.8685268671040862 and parameters: {'rf_n_estimators': 700, 'Ada_learning_rate': 0.18753622992820862}. Best is trial 2 with value: 0.903093782858042.\u001b[0m\n",
            "\u001b[32m[I 2022-11-03 19:05:18,702]\u001b[0m Trial 7 finished with value: 0.9042579181727866 and parameters: {'rf_n_estimators': 900, 'Ada_learning_rate': 0.8363814947826238}. Best is trial 7 with value: 0.9042579181727866.\u001b[0m\n",
            "\u001b[32m[I 2022-11-03 19:10:45,762]\u001b[0m Trial 8 finished with value: 0.8987935087357166 and parameters: {'rf_n_estimators': 500, 'Ada_learning_rate': 0.8898484498673154}. Best is trial 7 with value: 0.9042579181727866.\u001b[0m\n",
            "\u001b[32m[I 2022-11-03 19:11:51,172]\u001b[0m Trial 9 finished with value: 0.8488259763839803 and parameters: {'rf_n_estimators': 100, 'Ada_learning_rate': 0.456845748664516}. Best is trial 7 with value: 0.9042579181727866.\u001b[0m\n",
            "\u001b[32m[I 2022-11-03 19:21:35,169]\u001b[0m Trial 10 finished with value: 0.9071648438482386 and parameters: {'rf_n_estimators': 900, 'Ada_learning_rate': 0.9655696827854567}. Best is trial 10 with value: 0.9071648438482386.\u001b[0m\n",
            "\u001b[32m[I 2022-11-03 19:31:15,695]\u001b[0m Trial 11 finished with value: 0.9068750846135545 and parameters: {'rf_n_estimators': 900, 'Ada_learning_rate': 0.9622555351902476}. Best is trial 10 with value: 0.9071648438482386.\u001b[0m\n",
            "\u001b[32m[I 2022-11-03 19:41:04,237]\u001b[0m Trial 12 finished with value: 0.9069735378502045 and parameters: {'rf_n_estimators': 900, 'Ada_learning_rate': 0.9727024177377709}. Best is trial 10 with value: 0.9071648438482386.\u001b[0m\n",
            "\u001b[32m[I 2022-11-03 19:50:56,183]\u001b[0m Trial 13 finished with value: 0.9067026317933277 and parameters: {'rf_n_estimators': 900, 'Ada_learning_rate': 0.9957101388816615}. Best is trial 10 with value: 0.9071648438482386.\u001b[0m\n",
            "\u001b[32m[I 2022-11-03 19:58:31,336]\u001b[0m Trial 14 finished with value: 0.897905283328651 and parameters: {'rf_n_estimators': 700, 'Ada_learning_rate': 0.6575650260123767}. Best is trial 10 with value: 0.9071648438482386.\u001b[0m\n",
            "\u001b[32m[I 2022-11-03 20:01:45,068]\u001b[0m Trial 15 finished with value: 0.8843766665820127 and parameters: {'rf_n_estimators': 300, 'Ada_learning_rate': 0.6943089517723207}. Best is trial 10 with value: 0.9071648438482386.\u001b[0m\n",
            "\u001b[32m[I 2022-11-03 20:02:56,325]\u001b[0m Trial 16 finished with value: 0.8382338616650259 and parameters: {'rf_n_estimators': 100, 'Ada_learning_rate': 0.3513143423176286}. Best is trial 10 with value: 0.9071648438482386.\u001b[0m\n",
            "\u001b[32m[I 2022-11-03 20:13:20,602]\u001b[0m Trial 17 finished with value: 0.9056169237312279 and parameters: {'rf_n_estimators': 900, 'Ada_learning_rate': 0.9260716467977972}. Best is trial 10 with value: 0.9071648438482386.\u001b[0m\n",
            "\u001b[32m[I 2022-11-03 20:23:26,810]\u001b[0m Trial 18 finished with value: 0.9000070889399461 and parameters: {'rf_n_estimators': 900, 'Ada_learning_rate': 0.606939244495355}. Best is trial 10 with value: 0.9071648438482386.\u001b[0m\n",
            "\u001b[32m[I 2022-11-03 20:33:31,271]\u001b[0m Trial 19 finished with value: 0.9055160949267741 and parameters: {'rf_n_estimators': 900, 'Ada_learning_rate': 0.8613634913845073}. Best is trial 10 with value: 0.9071648438482386.\u001b[0m\n",
            "\u001b[32m[I 2022-11-03 20:41:14,902]\u001b[0m Trial 20 finished with value: 0.9006398172391148 and parameters: {'rf_n_estimators': 700, 'Ada_learning_rate': 0.74380152423006}. Best is trial 10 with value: 0.9071648438482386.\u001b[0m\n",
            "\u001b[32m[I 2022-11-03 20:51:01,703]\u001b[0m Trial 21 finished with value: 0.9067171868561755 and parameters: {'rf_n_estimators': 900, 'Ada_learning_rate': 0.9691920303880472}. Best is trial 10 with value: 0.9071648438482386.\u001b[0m\n",
            "\u001b[32m[I 2022-11-03 21:01:12,613]\u001b[0m Trial 22 finished with value: 0.9067847162737641 and parameters: {'rf_n_estimators': 900, 'Ada_learning_rate': 0.9181185286806093}. Best is trial 10 with value: 0.9071648438482386.\u001b[0m\n",
            "\u001b[32m[I 2022-11-03 21:11:11,536]\u001b[0m Trial 23 finished with value: 0.907216031575826 and parameters: {'rf_n_estimators': 900, 'Ada_learning_rate': 0.9973422680131799}. Best is trial 23 with value: 0.907216031575826.\u001b[0m\n",
            "\u001b[32m[I 2022-11-03 21:21:22,832]\u001b[0m Trial 24 finished with value: 0.9075673193598852 and parameters: {'rf_n_estimators': 900, 'Ada_learning_rate': 0.992809849087885}. Best is trial 24 with value: 0.9075673193598852.\u001b[0m\n",
            "\u001b[32m[I 2022-11-03 21:24:49,399]\u001b[0m Trial 25 finished with value: 0.8906269976730025 and parameters: {'rf_n_estimators': 300, 'Ada_learning_rate': 0.8469205252952481}. Best is trial 24 with value: 0.9075673193598852.\u001b[0m\n",
            "\u001b[32m[I 2022-11-03 21:25:58,980]\u001b[0m Trial 26 finished with value: 0.8748362650961231 and parameters: {'rf_n_estimators': 100, 'Ada_learning_rate': 0.9975049967294846}. Best is trial 24 with value: 0.9075673193598852.\u001b[0m\n",
            "\u001b[32m[I 2022-11-03 21:36:04,842]\u001b[0m Trial 27 finished with value: 0.9037096324334012 and parameters: {'rf_n_estimators': 900, 'Ada_learning_rate': 0.7391816520738139}. Best is trial 24 with value: 0.9075673193598852.\u001b[0m\n",
            "\u001b[32m[I 2022-11-03 21:46:13,067]\u001b[0m Trial 28 finished with value: 0.905466516759653 and parameters: {'rf_n_estimators': 900, 'Ada_learning_rate': 0.8817275127979816}. Best is trial 24 with value: 0.9075673193598852.\u001b[0m\n",
            "\u001b[32m[I 2022-11-03 21:49:29,943]\u001b[0m Trial 29 finished with value: 0.8799907303010057 and parameters: {'rf_n_estimators': 300, 'Ada_learning_rate': 0.5600203150751204}. Best is trial 24 with value: 0.9075673193598852.\u001b[0m\n",
            "\u001b[32m[I 2022-11-03 21:59:14,029]\u001b[0m Trial 30 finished with value: 0.9053639674039755 and parameters: {'rf_n_estimators': 900, 'Ada_learning_rate': 0.8115920111422134}. Best is trial 24 with value: 0.9075673193598852.\u001b[0m\n",
            "\u001b[32m[I 2022-11-03 22:08:57,208]\u001b[0m Trial 31 finished with value: 0.9070461897742556 and parameters: {'rf_n_estimators': 900, 'Ada_learning_rate': 0.9353044974507562}. Best is trial 24 with value: 0.9075673193598852.\u001b[0m\n",
            "\u001b[32m[I 2022-11-03 22:19:23,223]\u001b[0m Trial 32 finished with value: 0.9064667119741123 and parameters: {'rf_n_estimators': 900, 'Ada_learning_rate': 0.9202538017100219}. Best is trial 24 with value: 0.9075673193598852.\u001b[0m\n",
            "\u001b[32m[I 2022-11-03 22:29:09,713]\u001b[0m Trial 33 finished with value: 0.8862950560157492 and parameters: {'rf_n_estimators': 900, 'Ada_learning_rate': 0.3159815093048325}. Best is trial 24 with value: 0.9075673193598852.\u001b[0m\n",
            "\u001b[32m[I 2022-11-03 22:39:13,215]\u001b[0m Trial 34 finished with value: 0.9059759089926331 and parameters: {'rf_n_estimators': 900, 'Ada_learning_rate': 0.9335006532784523}. Best is trial 24 with value: 0.9075673193598852.\u001b[0m\n",
            "\u001b[32m[I 2022-11-03 22:49:13,981]\u001b[0m Trial 35 finished with value: 0.9049635278030181 and parameters: {'rf_n_estimators': 900, 'Ada_learning_rate': 0.884561504047775}. Best is trial 24 with value: 0.9075673193598852.\u001b[0m\n",
            "\u001b[32m[I 2022-11-03 22:59:28,527]\u001b[0m Trial 36 finished with value: 0.9047095206191833 and parameters: {'rf_n_estimators': 900, 'Ada_learning_rate': 0.7907886722400104}. Best is trial 24 with value: 0.9075673193598852.\u001b[0m\n",
            "\u001b[32m[I 2022-11-03 23:05:09,235]\u001b[0m Trial 37 finished with value: 0.9025249692774036 and parameters: {'rf_n_estimators': 500, 'Ada_learning_rate': 0.9977699413228232}. Best is trial 24 with value: 0.9075673193598852.\u001b[0m\n",
            "\u001b[32m[I 2022-11-03 23:13:04,986]\u001b[0m Trial 38 finished with value: 0.9041837874252452 and parameters: {'rf_n_estimators': 700, 'Ada_learning_rate': 0.9263748336344512}. Best is trial 24 with value: 0.9075673193598852.\u001b[0m\n",
            "\u001b[32m[I 2022-11-03 23:14:14,575]\u001b[0m Trial 39 finished with value: 0.8211417225582889 and parameters: {'rf_n_estimators': 100, 'Ada_learning_rate': 0.12565170712820284}. Best is trial 24 with value: 0.9075673193598852.\u001b[0m\n",
            "\u001b[32m[I 2022-11-03 23:17:39,217]\u001b[0m Trial 40 finished with value: 0.8863124499412482 and parameters: {'rf_n_estimators': 300, 'Ada_learning_rate': 0.7340544167634805}. Best is trial 24 with value: 0.9075673193598852.\u001b[0m\n",
            "\u001b[32m[I 2022-11-03 23:27:58,439]\u001b[0m Trial 41 finished with value: 0.9072326782815029 and parameters: {'rf_n_estimators': 900, 'Ada_learning_rate': 0.9542089803858759}. Best is trial 24 with value: 0.9075673193598852.\u001b[0m\n",
            "\u001b[32m[I 2022-11-03 23:38:14,287]\u001b[0m Trial 42 finished with value: 0.9053890835265408 and parameters: {'rf_n_estimators': 900, 'Ada_learning_rate': 0.8244270889930572}. Best is trial 24 with value: 0.9075673193598852.\u001b[0m\n",
            "\u001b[32m[I 2022-11-03 23:48:25,872]\u001b[0m Trial 43 finished with value: 0.9058364382983332 and parameters: {'rf_n_estimators': 900, 'Ada_learning_rate': 0.8814580034510265}. Best is trial 24 with value: 0.9075673193598852.\u001b[0m\n",
            "\u001b[32m[I 2022-11-03 23:54:09,240]\u001b[0m Trial 44 finished with value: 0.9011728963737631 and parameters: {'rf_n_estimators': 500, 'Ada_learning_rate': 0.9502848469888437}. Best is trial 24 with value: 0.9075673193598852.\u001b[0m\n",
            "\u001b[32m[I 2022-11-04 00:04:28,940]\u001b[0m Trial 45 finished with value: 0.9058013899168443 and parameters: {'rf_n_estimators': 900, 'Ada_learning_rate': 0.9533543237154479}. Best is trial 24 with value: 0.9075673193598852.\u001b[0m\n",
            "\u001b[32m[I 2022-11-04 00:14:47,835]\u001b[0m Trial 46 finished with value: 0.9055320503823513 and parameters: {'rf_n_estimators': 900, 'Ada_learning_rate': 0.8985466398356425}. Best is trial 24 with value: 0.9075673193598852.\u001b[0m\n",
            "\u001b[32m[I 2022-11-04 00:25:15,128]\u001b[0m Trial 47 finished with value: 0.9059334422627144 and parameters: {'rf_n_estimators': 900, 'Ada_learning_rate': 0.8459057001891862}. Best is trial 24 with value: 0.9075673193598852.\u001b[0m\n",
            "\u001b[32m[I 2022-11-04 00:33:13,184]\u001b[0m Trial 48 finished with value: 0.8908336279083597 and parameters: {'rf_n_estimators': 700, 'Ada_learning_rate': 0.4599473382075981}. Best is trial 24 with value: 0.9075673193598852.\u001b[0m\n"
          ]
        }
      ]
    },
    {
      "cell_type": "code",
      "execution_count": null,
      "metadata": {
        "id": "SH7sKZhyFJ5h"
      },
      "outputs": [],
      "source": [
        "def get_Optimized_Parmaters():\n",
        "\n",
        "  # Getting the best trial:\n",
        "  print(f\"The best trial is : \\n{study.best_trial}\")\n",
        "\n",
        "  # Getting the best score:\n",
        "  print(f\"The best value is : \\n{study.best_value}\")\n",
        "\n",
        "  # Getting the best parameters:\n",
        "  print(f\"The best parameters are : \\n{study.best_params}\")\n",
        "\n",
        "  #Visualize the slice plot\n",
        "  optuna.visualization.plot_slice(study, params=['rf_n_estimators', 'Ada_learning_rate'])"
      ]
    },
    {
      "cell_type": "code",
      "source": [
        "optuna.visualization.plot_slice(study, params=['Ada_n_estimators', 'Ada_learning_rate'])"
      ],
      "metadata": {
        "id": "NtsIOo3Uk6CD"
      },
      "execution_count": null,
      "outputs": []
    },
    {
      "cell_type": "code",
      "execution_count": null,
      "metadata": {
        "id": "c0pdmS3dFJ5h"
      },
      "outputs": [],
      "source": [
        "#Ada\n",
        "get_Optimized_Parmaters()"
      ]
    },
    {
      "cell_type": "code",
      "execution_count": null,
      "metadata": {
        "id": "ZqY9FzjPFJ5i"
      },
      "outputs": [],
      "source": [
        "# Getting the best trial:\n",
        "print(f\"The best trial is : \\n{study.best_trial}\")"
      ]
    },
    {
      "cell_type": "code",
      "execution_count": null,
      "metadata": {
        "id": "CGHXZMX3FJ5i"
      },
      "outputs": [],
      "source": [
        "# Getting the best score:\n",
        "print(f\"The best value is : \\n{study.best_value}\")"
      ]
    },
    {
      "cell_type": "code",
      "execution_count": null,
      "metadata": {
        "id": "CP26fd-dFJ5i"
      },
      "outputs": [],
      "source": [
        "# Getting the best parameters:\n",
        "print(f\"The best parameters are : \\n{study.best_params}\")"
      ]
    },
    {
      "cell_type": "code",
      "execution_count": null,
      "metadata": {
        "id": "jnZ1t01EFJ5i"
      },
      "outputs": [],
      "source": [
        "#Visualize the slice plot\n",
        "optuna.visualization.plot_slice(study, params=['rf_n_estimators', 'Ada_learning_rate'])"
      ]
    },
    {
      "cell_type": "code",
      "source": [
        "optuna.visualization.plot_slice(study, params=['Ada_n_estimators', 'Ada_learning_rate'])"
      ],
      "metadata": {
        "id": "jz1c-NX5ks6b"
      },
      "execution_count": null,
      "outputs": []
    },
    {
      "cell_type": "markdown",
      "source": [
        "### **3.3.3 ET**\n",
        "\n",
        "---\n",
        "\n"
      ],
      "metadata": {
        "id": "bqpejpl7DkYQ"
      }
    },
    {
      "cell_type": "code",
      "execution_count": null,
      "metadata": {
        "id": "rjVShxs0DkYR"
      },
      "outputs": [],
      "source": [
        "#Step 1. Define an objective function to be maximized.\n",
        "def objective(trial):\n",
        "  from sklearn.ensemble import ExtraTreesClassifier\n",
        "\n",
        "  from sklearn.model_selection import RepeatedStratifiedKFold\n",
        "  from sklearn.model_selection import cross_validate\n",
        "\n",
        "  from sklearn.metrics import make_scorer\n",
        "  from sklearn.metrics import matthews_corrcoef\n",
        "\n",
        "  from sklearn.pipeline import make_pipeline\n",
        "  from sklearn.preprocessing import  StandardScaler\n",
        "\n",
        "\n",
        "  scaler = StandardScaler()\n",
        "\n",
        "  scoring = {'matthews_corrcoef': make_scorer(matthews_corrcoef)}\n",
        "  rfold= RepeatedStratifiedKFold(n_splits=10, n_repeats=10)\n",
        "\n",
        "  # Step 2. Setup values for the hyperparameters:\n",
        "  ET_n_estimators = trial.suggest_int(\"ET_n_estimators\", 50, 100)\n",
        "  ET_random_state = trial.suggest_categorical(\"ET_random_state\", [22,32,42])\n",
        "  classifier_obj = ExtraTreesClassifier(n_estimators = ET_n_estimators, random_state = ET_random_state)\n",
        "\n",
        "  pipeline = make_pipeline(scaler, classifier_obj)\n",
        "\n",
        "  # Step 3: Scoring method:\n",
        "  score=cross_validate(pipeline, x , y, cv=rfold,scoring=scoring, return_train_score=False)\n",
        "  mcc = score['test_matthews_corrcoef'].mean()\n",
        "  return mcc"
      ]
    },
    {
      "cell_type": "code",
      "execution_count": null,
      "metadata": {
        "colab": {
          "base_uri": "https://localhost:8080/"
        },
        "outputId": "8c4d5b35-8a49-40ce-8830-65f42dfd5ce9",
        "id": "IcpTQZunDkYR"
      },
      "outputs": [
        {
          "output_type": "stream",
          "name": "stderr",
          "text": [
            "\u001b[32m[I 2022-11-04 14:34:38,362]\u001b[0m A new study created in memory with name: no-name-14a92f38-88dc-4703-a0e3-d2eee5ea05d3\u001b[0m\n",
            "\u001b[32m[I 2022-11-04 14:35:17,926]\u001b[0m Trial 0 finished with value: 0.9253140437313823 and parameters: {'ET_n_estimators': 58, 'ET_random_state': 42}. Best is trial 0 with value: 0.9253140437313823.\u001b[0m\n",
            "\u001b[32m[I 2022-11-04 14:35:53,174]\u001b[0m Trial 1 finished with value: 0.9249928075913946 and parameters: {'ET_n_estimators': 61, 'ET_random_state': 22}. Best is trial 0 with value: 0.9253140437313823.\u001b[0m\n",
            "\u001b[32m[I 2022-11-04 14:36:38,726]\u001b[0m Trial 2 finished with value: 0.9264092914137296 and parameters: {'ET_n_estimators': 98, 'ET_random_state': 22}. Best is trial 2 with value: 0.9264092914137296.\u001b[0m\n",
            "\u001b[32m[I 2022-11-04 14:37:13,861]\u001b[0m Trial 3 finished with value: 0.9254318561821482 and parameters: {'ET_n_estimators': 87, 'ET_random_state': 42}. Best is trial 2 with value: 0.9264092914137296.\u001b[0m\n",
            "\u001b[32m[I 2022-11-04 14:37:49,294]\u001b[0m Trial 4 finished with value: 0.9252357080642817 and parameters: {'ET_n_estimators': 87, 'ET_random_state': 32}. Best is trial 2 with value: 0.9264092914137296.\u001b[0m\n",
            "\u001b[32m[I 2022-11-04 14:38:23,490]\u001b[0m Trial 5 finished with value: 0.9258958099480046 and parameters: {'ET_n_estimators': 82, 'ET_random_state': 32}. Best is trial 2 with value: 0.9264092914137296.\u001b[0m\n",
            "\u001b[32m[I 2022-11-04 14:38:58,368]\u001b[0m Trial 6 finished with value: 0.9261116866726127 and parameters: {'ET_n_estimators': 84, 'ET_random_state': 42}. Best is trial 2 with value: 0.9264092914137296.\u001b[0m\n",
            "\u001b[32m[I 2022-11-04 14:39:32,630]\u001b[0m Trial 7 finished with value: 0.9253002631491735 and parameters: {'ET_n_estimators': 85, 'ET_random_state': 42}. Best is trial 2 with value: 0.9264092914137296.\u001b[0m\n",
            "\u001b[32m[I 2022-11-04 14:40:12,671]\u001b[0m Trial 8 finished with value: 0.9271694166241439 and parameters: {'ET_n_estimators': 100, 'ET_random_state': 42}. Best is trial 8 with value: 0.9271694166241439.\u001b[0m\n",
            "\u001b[32m[I 2022-11-04 14:40:55,253]\u001b[0m Trial 9 finished with value: 0.9267415044673704 and parameters: {'ET_n_estimators': 87, 'ET_random_state': 42}. Best is trial 8 with value: 0.9271694166241439.\u001b[0m\n",
            "\u001b[32m[I 2022-11-04 14:41:24,328]\u001b[0m Trial 10 finished with value: 0.9267207639668014 and parameters: {'ET_n_estimators': 70, 'ET_random_state': 32}. Best is trial 8 with value: 0.9271694166241439.\u001b[0m\n",
            "\u001b[32m[I 2022-11-04 14:42:09,465]\u001b[0m Trial 11 finished with value: 0.926358098804344 and parameters: {'ET_n_estimators': 99, 'ET_random_state': 42}. Best is trial 8 with value: 0.9271694166241439.\u001b[0m\n",
            "\u001b[32m[I 2022-11-04 14:42:47,463]\u001b[0m Trial 12 finished with value: 0.9256246140667069 and parameters: {'ET_n_estimators': 94, 'ET_random_state': 42}. Best is trial 8 with value: 0.9271694166241439.\u001b[0m\n",
            "\u001b[32m[I 2022-11-04 14:43:17,586]\u001b[0m Trial 13 finished with value: 0.9251581117515388 and parameters: {'ET_n_estimators': 74, 'ET_random_state': 42}. Best is trial 8 with value: 0.9271694166241439.\u001b[0m\n",
            "\u001b[32m[I 2022-11-04 14:43:54,979]\u001b[0m Trial 14 finished with value: 0.9262184434373618 and parameters: {'ET_n_estimators': 91, 'ET_random_state': 42}. Best is trial 8 with value: 0.9271694166241439.\u001b[0m\n",
            "\u001b[32m[I 2022-11-04 14:44:38,237]\u001b[0m Trial 15 finished with value: 0.9272998077818962 and parameters: {'ET_n_estimators': 100, 'ET_random_state': 22}. Best is trial 15 with value: 0.9272998077818962.\u001b[0m\n",
            "\u001b[32m[I 2022-11-04 14:45:18,949]\u001b[0m Trial 16 finished with value: 0.9258256216656882 and parameters: {'ET_n_estimators': 100, 'ET_random_state': 22}. Best is trial 15 with value: 0.9272998077818962.\u001b[0m\n",
            "\u001b[32m[I 2022-11-04 14:45:46,747]\u001b[0m Trial 17 finished with value: 0.9253838012887692 and parameters: {'ET_n_estimators': 67, 'ET_random_state': 22}. Best is trial 15 with value: 0.9272998077818962.\u001b[0m\n",
            "\u001b[32m[I 2022-11-04 14:46:19,455]\u001b[0m Trial 18 finished with value: 0.9263262092629522 and parameters: {'ET_n_estimators': 79, 'ET_random_state': 22}. Best is trial 15 with value: 0.9272998077818962.\u001b[0m\n",
            "\u001b[32m[I 2022-11-04 14:46:40,455]\u001b[0m Trial 19 finished with value: 0.9248945725793757 and parameters: {'ET_n_estimators': 50, 'ET_random_state': 22}. Best is trial 15 with value: 0.9272998077818962.\u001b[0m\n",
            "\u001b[32m[I 2022-11-04 14:47:21,226]\u001b[0m Trial 20 finished with value: 0.9261502157088966 and parameters: {'ET_n_estimators': 93, 'ET_random_state': 22}. Best is trial 15 with value: 0.9272998077818962.\u001b[0m\n",
            "\u001b[32m[I 2022-11-04 14:48:01,969]\u001b[0m Trial 21 finished with value: 0.9259924414512543 and parameters: {'ET_n_estimators': 94, 'ET_random_state': 42}. Best is trial 15 with value: 0.9272998077818962.\u001b[0m\n",
            "\u001b[32m[I 2022-11-04 14:48:38,473]\u001b[0m Trial 22 finished with value: 0.9261743986745904 and parameters: {'ET_n_estimators': 90, 'ET_random_state': 42}. Best is trial 15 with value: 0.9272998077818962.\u001b[0m\n",
            "\u001b[32m[I 2022-11-04 14:49:17,329]\u001b[0m Trial 23 finished with value: 0.9261610114615507 and parameters: {'ET_n_estimators': 96, 'ET_random_state': 32}. Best is trial 15 with value: 0.9272998077818962.\u001b[0m\n",
            "\u001b[32m[I 2022-11-04 14:49:49,463]\u001b[0m Trial 24 finished with value: 0.927011249664752 and parameters: {'ET_n_estimators': 79, 'ET_random_state': 42}. Best is trial 15 with value: 0.9272998077818962.\u001b[0m\n",
            "\u001b[32m[I 2022-11-04 14:50:20,323]\u001b[0m Trial 25 finished with value: 0.9248752538641747 and parameters: {'ET_n_estimators': 75, 'ET_random_state': 22}. Best is trial 15 with value: 0.9272998077818962.\u001b[0m\n",
            "\u001b[32m[I 2022-11-04 14:50:52,496]\u001b[0m Trial 26 finished with value: 0.9265573290386006 and parameters: {'ET_n_estimators': 79, 'ET_random_state': 42}. Best is trial 15 with value: 0.9272998077818962.\u001b[0m\n",
            "\u001b[32m[I 2022-11-04 14:51:32,988]\u001b[0m Trial 27 finished with value: 0.9260877599793714 and parameters: {'ET_n_estimators': 100, 'ET_random_state': 42}. Best is trial 15 with value: 0.9272998077818962.\u001b[0m\n",
            "\u001b[32m[I 2022-11-04 14:52:00,407]\u001b[0m Trial 28 finished with value: 0.9268419831433797 and parameters: {'ET_n_estimators': 67, 'ET_random_state': 32}. Best is trial 15 with value: 0.9272998077818962.\u001b[0m\n",
            "\u001b[32m[I 2022-11-04 14:52:23,021]\u001b[0m Trial 29 finished with value: 0.9240309434401336 and parameters: {'ET_n_estimators': 54, 'ET_random_state': 22}. Best is trial 15 with value: 0.9272998077818962.\u001b[0m\n",
            "\u001b[32m[I 2022-11-04 14:52:59,633]\u001b[0m Trial 30 finished with value: 0.9264164916368235 and parameters: {'ET_n_estimators': 90, 'ET_random_state': 42}. Best is trial 15 with value: 0.9272998077818962.\u001b[0m\n",
            "\u001b[32m[I 2022-11-04 14:53:30,924]\u001b[0m Trial 31 finished with value: 0.9259482881682929 and parameters: {'ET_n_estimators': 63, 'ET_random_state': 32}. Best is trial 15 with value: 0.9272998077818962.\u001b[0m\n",
            "\u001b[32m[I 2022-11-04 14:53:59,271]\u001b[0m Trial 32 finished with value: 0.9250381689685914 and parameters: {'ET_n_estimators': 68, 'ET_random_state': 32}. Best is trial 15 with value: 0.9272998077818962.\u001b[0m\n",
            "\u001b[32m[I 2022-11-04 14:54:25,208]\u001b[0m Trial 33 finished with value: 0.9262797331902405 and parameters: {'ET_n_estimators': 62, 'ET_random_state': 32}. Best is trial 15 with value: 0.9272998077818962.\u001b[0m\n",
            "\u001b[32m[I 2022-11-04 14:54:48,915]\u001b[0m Trial 34 finished with value: 0.9253080521043714 and parameters: {'ET_n_estimators': 57, 'ET_random_state': 32}. Best is trial 15 with value: 0.9272998077818962.\u001b[0m\n",
            "\u001b[32m[I 2022-11-04 14:55:19,409]\u001b[0m Trial 35 finished with value: 0.9270671688340895 and parameters: {'ET_n_estimators': 74, 'ET_random_state': 22}. Best is trial 15 with value: 0.9272998077818962.\u001b[0m\n",
            "\u001b[32m[I 2022-11-04 14:55:49,799]\u001b[0m Trial 36 finished with value: 0.9260240094726246 and parameters: {'ET_n_estimators': 72, 'ET_random_state': 22}. Best is trial 15 with value: 0.9272998077818962.\u001b[0m\n",
            "\u001b[32m[I 2022-11-04 14:56:23,322]\u001b[0m Trial 37 finished with value: 0.9252319646389917 and parameters: {'ET_n_estimators': 78, 'ET_random_state': 22}. Best is trial 15 with value: 0.9272998077818962.\u001b[0m\n",
            "\u001b[32m[I 2022-11-04 14:57:02,931]\u001b[0m Trial 38 finished with value: 0.926937028787461 and parameters: {'ET_n_estimators': 96, 'ET_random_state': 22}. Best is trial 15 with value: 0.9272998077818962.\u001b[0m\n",
            "\u001b[32m[I 2022-11-04 14:57:36,872]\u001b[0m Trial 39 finished with value: 0.9256958044692687 and parameters: {'ET_n_estimators': 82, 'ET_random_state': 22}. Best is trial 15 with value: 0.9272998077818962.\u001b[0m\n",
            "\u001b[32m[I 2022-11-04 14:58:16,531]\u001b[0m Trial 40 finished with value: 0.9255707112744997 and parameters: {'ET_n_estimators': 96, 'ET_random_state': 22}. Best is trial 15 with value: 0.9272998077818962.\u001b[0m\n",
            "\u001b[32m[I 2022-11-04 14:58:55,872]\u001b[0m Trial 41 finished with value: 0.9258861869009408 and parameters: {'ET_n_estimators': 96, 'ET_random_state': 22}. Best is trial 15 with value: 0.9272998077818962.\u001b[0m\n",
            "\u001b[32m[I 2022-11-04 14:59:40,918]\u001b[0m Trial 42 finished with value: 0.9270949822257846 and parameters: {'ET_n_estimators': 97, 'ET_random_state': 22}. Best is trial 15 with value: 0.9272998077818962.\u001b[0m\n",
            "\u001b[32m[I 2022-11-04 15:00:18,391]\u001b[0m Trial 43 finished with value: 0.926227685181895 and parameters: {'ET_n_estimators': 88, 'ET_random_state': 22}. Best is trial 15 with value: 0.9272998077818962.\u001b[0m\n",
            "\u001b[32m[I 2022-11-04 15:00:59,269]\u001b[0m Trial 44 finished with value: 0.9261223922627654 and parameters: {'ET_n_estimators': 98, 'ET_random_state': 42}. Best is trial 15 with value: 0.9272998077818962.\u001b[0m\n",
            "\u001b[32m[I 2022-11-04 15:01:33,606]\u001b[0m Trial 45 finished with value: 0.9269673818346453 and parameters: {'ET_n_estimators': 83, 'ET_random_state': 22}. Best is trial 15 with value: 0.9272998077818962.\u001b[0m\n",
            "\u001b[32m[I 2022-11-04 15:02:05,464]\u001b[0m Trial 46 finished with value: 0.926668723420468 and parameters: {'ET_n_estimators': 77, 'ET_random_state': 42}. Best is trial 15 with value: 0.9272998077818962.\u001b[0m\n",
            "\u001b[32m[I 2022-11-04 15:02:55,933]\u001b[0m Trial 47 finished with value: 0.9256664422858685 and parameters: {'ET_n_estimators': 92, 'ET_random_state': 22}. Best is trial 15 with value: 0.9272998077818962.\u001b[0m\n",
            "\u001b[32m[I 2022-11-04 15:03:30,945]\u001b[0m Trial 48 finished with value: 0.9262463803383874 and parameters: {'ET_n_estimators': 85, 'ET_random_state': 42}. Best is trial 15 with value: 0.9272998077818962.\u001b[0m\n",
            "\u001b[32m[I 2022-11-04 15:04:13,052]\u001b[0m Trial 49 finished with value: 0.9266294554815079 and parameters: {'ET_n_estimators': 98, 'ET_random_state': 22}. Best is trial 15 with value: 0.9272998077818962.\u001b[0m\n"
          ]
        }
      ],
      "source": [
        "# Step 4: Running it\n",
        "study = optuna.create_study(direction=\"maximize\")\n",
        "study.optimize(objective, n_trials=50)"
      ]
    },
    {
      "cell_type": "code",
      "execution_count": null,
      "metadata": {
        "id": "V5UvFFHEDkYR"
      },
      "outputs": [],
      "source": [
        "def get_Optimized_Parmaters():\n",
        "\n",
        "  # Getting the best trial:\n",
        "  print(f\"The best trial is : \\n{study.best_trial}\")\n",
        "\n",
        "  # Getting the best score:\n",
        "  print(f\"The best value is : \\n{study.best_value}\")\n",
        "\n",
        "  # Getting the best parameters:\n",
        "  print(f\"The best parameters are : \\n{study.best_params}\")\n",
        "\n",
        "  #Visualize the slice plot\n",
        "  optuna.visualization.plot_slice(study, params=['ET_n_estimators', 'ET_random_state'])"
      ]
    },
    {
      "cell_type": "code",
      "execution_count": null,
      "metadata": {
        "colab": {
          "base_uri": "https://localhost:8080/"
        },
        "outputId": "fa2565de-ceb5-4ae4-a794-42b1aa8ea03e",
        "id": "O1eH4pZRDkYR"
      },
      "outputs": [
        {
          "output_type": "stream",
          "name": "stdout",
          "text": [
            "The best trial is : \n",
            "FrozenTrial(number=15, values=[0.9272998077818962], datetime_start=datetime.datetime(2022, 11, 4, 14, 43, 54, 981761), datetime_complete=datetime.datetime(2022, 11, 4, 14, 44, 38, 236895), params={'ET_n_estimators': 100, 'ET_random_state': 22}, distributions={'ET_n_estimators': IntDistribution(high=100, log=False, low=50, step=1), 'ET_random_state': CategoricalDistribution(choices=(22, 32, 42))}, user_attrs={}, system_attrs={}, intermediate_values={}, trial_id=15, state=TrialState.COMPLETE, value=None)\n",
            "The best value is : \n",
            "0.9272998077818962\n",
            "The best parameters are : \n",
            "{'ET_n_estimators': 100, 'ET_random_state': 22}\n"
          ]
        }
      ],
      "source": [
        "get_Optimized_Parmaters()"
      ]
    },
    {
      "cell_type": "code",
      "execution_count": null,
      "metadata": {
        "colab": {
          "base_uri": "https://localhost:8080/"
        },
        "outputId": "836f30f2-5e1b-4b82-94d7-7611d1f79a1f",
        "id": "5NJicER3DkYS"
      },
      "outputs": [
        {
          "output_type": "stream",
          "name": "stdout",
          "text": [
            "The best trial is : \n",
            "FrozenTrial(number=15, values=[0.9272998077818962], datetime_start=datetime.datetime(2022, 11, 4, 14, 43, 54, 981761), datetime_complete=datetime.datetime(2022, 11, 4, 14, 44, 38, 236895), params={'ET_n_estimators': 100, 'ET_random_state': 22}, distributions={'ET_n_estimators': IntDistribution(high=100, log=False, low=50, step=1), 'ET_random_state': CategoricalDistribution(choices=(22, 32, 42))}, user_attrs={}, system_attrs={}, intermediate_values={}, trial_id=15, state=TrialState.COMPLETE, value=None)\n"
          ]
        }
      ],
      "source": [
        "# Getting the best trial:\n",
        "print(f\"The best trial is : \\n{study.best_trial}\")"
      ]
    },
    {
      "cell_type": "code",
      "execution_count": null,
      "metadata": {
        "colab": {
          "base_uri": "https://localhost:8080/"
        },
        "outputId": "615e5967-1fec-4b87-8ed8-877620ce6b52",
        "id": "eZZvfaYdDkYS"
      },
      "outputs": [
        {
          "output_type": "stream",
          "name": "stdout",
          "text": [
            "The best value is : \n",
            "0.9272998077818962\n"
          ]
        }
      ],
      "source": [
        "# Getting the best score:\n",
        "print(f\"The best value is : \\n{study.best_value}\")"
      ]
    },
    {
      "cell_type": "code",
      "execution_count": null,
      "metadata": {
        "colab": {
          "base_uri": "https://localhost:8080/"
        },
        "outputId": "e69b0315-2c28-4e1b-ef83-a05206e43939",
        "id": "O0HsZwLWDkYS"
      },
      "outputs": [
        {
          "output_type": "stream",
          "name": "stdout",
          "text": [
            "The best parameters are : \n",
            "{'ET_n_estimators': 100, 'ET_random_state': 22}\n"
          ]
        }
      ],
      "source": [
        "# Getting the best parameters:\n",
        "print(f\"The best parameters are : \\n{study.best_params}\")"
      ]
    },
    {
      "cell_type": "code",
      "execution_count": null,
      "metadata": {
        "colab": {
          "base_uri": "https://localhost:8080/",
          "height": 542
        },
        "outputId": "5b91b0ec-6883-476d-a62f-5d61a2e12049",
        "id": "Kp_hxPyaDkYS"
      },
      "outputs": [
        {
          "output_type": "display_data",
          "data": {
            "text/html": [
              "<html>\n",
              "<head><meta charset=\"utf-8\" /></head>\n",
              "<body>\n",
              "    <div>            <script src=\"https://cdnjs.cloudflare.com/ajax/libs/mathjax/2.7.5/MathJax.js?config=TeX-AMS-MML_SVG\"></script><script type=\"text/javascript\">if (window.MathJax) {MathJax.Hub.Config({SVG: {font: \"STIX-Web\"}});}</script>                <script type=\"text/javascript\">window.PlotlyConfig = {MathJaxConfig: 'local'};</script>\n",
              "        <script src=\"https://cdn.plot.ly/plotly-2.8.3.min.js\"></script>                <div id=\"d3b5bbd6-ab79-4ba1-a988-80308f28b3ee\" class=\"plotly-graph-div\" style=\"height:525px; width:100%;\"></div>            <script type=\"text/javascript\">                                    window.PLOTLYENV=window.PLOTLYENV || {};                                    if (document.getElementById(\"d3b5bbd6-ab79-4ba1-a988-80308f28b3ee\")) {                    Plotly.newPlot(                        \"d3b5bbd6-ab79-4ba1-a988-80308f28b3ee\",                        [{\"marker\":{\"color\":[0,1,2,3,4,5,6,7,8,9,10,11,12,13,14,15,16,17,18,19,20,21,22,23,24,25,26,27,28,29,30,31,32,33,34,35,36,37,38,39,40,41,42,43,44,45,46,47,48,49],\"colorbar\":{\"title\":{\"text\":\"Trial\"},\"x\":1.0,\"xpad\":40},\"colorscale\":[[0.0,\"rgb(247,251,255)\"],[0.125,\"rgb(222,235,247)\"],[0.25,\"rgb(198,219,239)\"],[0.375,\"rgb(158,202,225)\"],[0.5,\"rgb(107,174,214)\"],[0.625,\"rgb(66,146,198)\"],[0.75,\"rgb(33,113,181)\"],[0.875,\"rgb(8,81,156)\"],[1.0,\"rgb(8,48,107)\"]],\"line\":{\"color\":\"Grey\",\"width\":0.5},\"showscale\":true},\"mode\":\"markers\",\"showlegend\":false,\"x\":[58,61,98,87,87,82,84,85,100,87,70,99,94,74,91,100,100,67,79,50,93,94,90,96,79,75,79,100,67,54,90,63,68,62,57,74,72,78,96,82,96,96,97,88,98,83,77,92,85,98],\"y\":[0.9253140437313823,0.9249928075913946,0.9264092914137296,0.9254318561821482,0.9252357080642817,0.9258958099480046,0.9261116866726127,0.9253002631491735,0.9271694166241439,0.9267415044673704,0.9267207639668014,0.926358098804344,0.9256246140667069,0.9251581117515388,0.9262184434373618,0.9272998077818962,0.9258256216656882,0.9253838012887692,0.9263262092629522,0.9248945725793757,0.9261502157088966,0.9259924414512543,0.9261743986745904,0.9261610114615507,0.927011249664752,0.9248752538641747,0.9265573290386006,0.9260877599793714,0.9268419831433797,0.9240309434401336,0.9264164916368235,0.9259482881682929,0.9250381689685914,0.9262797331902405,0.9253080521043714,0.9270671688340895,0.9260240094726246,0.9252319646389917,0.926937028787461,0.9256958044692687,0.9255707112744997,0.9258861869009408,0.9270949822257846,0.926227685181895,0.9261223922627654,0.9269673818346453,0.926668723420468,0.9256664422858685,0.9262463803383874,0.9266294554815079],\"type\":\"scatter\",\"xaxis\":\"x\",\"yaxis\":\"y\"},{\"marker\":{\"color\":[0,1,2,3,4,5,6,7,8,9,10,11,12,13,14,15,16,17,18,19,20,21,22,23,24,25,26,27,28,29,30,31,32,33,34,35,36,37,38,39,40,41,42,43,44,45,46,47,48,49],\"colorbar\":{\"title\":{\"text\":\"Trial\"},\"x\":1.0,\"xpad\":40},\"colorscale\":[[0.0,\"rgb(247,251,255)\"],[0.125,\"rgb(222,235,247)\"],[0.25,\"rgb(198,219,239)\"],[0.375,\"rgb(158,202,225)\"],[0.5,\"rgb(107,174,214)\"],[0.625,\"rgb(66,146,198)\"],[0.75,\"rgb(33,113,181)\"],[0.875,\"rgb(8,81,156)\"],[1.0,\"rgb(8,48,107)\"]],\"line\":{\"color\":\"Grey\",\"width\":0.5},\"showscale\":false},\"mode\":\"markers\",\"showlegend\":false,\"x\":[42,22,22,42,32,32,42,42,42,42,32,42,42,42,42,22,22,22,22,22,22,42,42,32,42,22,42,42,32,22,42,32,32,32,32,22,22,22,22,22,22,22,22,22,42,22,42,22,42,22],\"y\":[0.9253140437313823,0.9249928075913946,0.9264092914137296,0.9254318561821482,0.9252357080642817,0.9258958099480046,0.9261116866726127,0.9253002631491735,0.9271694166241439,0.9267415044673704,0.9267207639668014,0.926358098804344,0.9256246140667069,0.9251581117515388,0.9262184434373618,0.9272998077818962,0.9258256216656882,0.9253838012887692,0.9263262092629522,0.9248945725793757,0.9261502157088966,0.9259924414512543,0.9261743986745904,0.9261610114615507,0.927011249664752,0.9248752538641747,0.9265573290386006,0.9260877599793714,0.9268419831433797,0.9240309434401336,0.9264164916368235,0.9259482881682929,0.9250381689685914,0.9262797331902405,0.9253080521043714,0.9270671688340895,0.9260240094726246,0.9252319646389917,0.926937028787461,0.9256958044692687,0.9255707112744997,0.9258861869009408,0.9270949822257846,0.926227685181895,0.9261223922627654,0.9269673818346453,0.926668723420468,0.9256664422858685,0.9262463803383874,0.9266294554815079],\"type\":\"scatter\",\"xaxis\":\"x2\",\"yaxis\":\"y2\"}],                        {\"template\":{\"data\":{\"bar\":[{\"error_x\":{\"color\":\"#2a3f5f\"},\"error_y\":{\"color\":\"#2a3f5f\"},\"marker\":{\"line\":{\"color\":\"#E5ECF6\",\"width\":0.5},\"pattern\":{\"fillmode\":\"overlay\",\"size\":10,\"solidity\":0.2}},\"type\":\"bar\"}],\"barpolar\":[{\"marker\":{\"line\":{\"color\":\"#E5ECF6\",\"width\":0.5},\"pattern\":{\"fillmode\":\"overlay\",\"size\":10,\"solidity\":0.2}},\"type\":\"barpolar\"}],\"carpet\":[{\"aaxis\":{\"endlinecolor\":\"#2a3f5f\",\"gridcolor\":\"white\",\"linecolor\":\"white\",\"minorgridcolor\":\"white\",\"startlinecolor\":\"#2a3f5f\"},\"baxis\":{\"endlinecolor\":\"#2a3f5f\",\"gridcolor\":\"white\",\"linecolor\":\"white\",\"minorgridcolor\":\"white\",\"startlinecolor\":\"#2a3f5f\"},\"type\":\"carpet\"}],\"choropleth\":[{\"colorbar\":{\"outlinewidth\":0,\"ticks\":\"\"},\"type\":\"choropleth\"}],\"contour\":[{\"colorbar\":{\"outlinewidth\":0,\"ticks\":\"\"},\"colorscale\":[[0.0,\"#0d0887\"],[0.1111111111111111,\"#46039f\"],[0.2222222222222222,\"#7201a8\"],[0.3333333333333333,\"#9c179e\"],[0.4444444444444444,\"#bd3786\"],[0.5555555555555556,\"#d8576b\"],[0.6666666666666666,\"#ed7953\"],[0.7777777777777778,\"#fb9f3a\"],[0.8888888888888888,\"#fdca26\"],[1.0,\"#f0f921\"]],\"type\":\"contour\"}],\"contourcarpet\":[{\"colorbar\":{\"outlinewidth\":0,\"ticks\":\"\"},\"type\":\"contourcarpet\"}],\"heatmap\":[{\"colorbar\":{\"outlinewidth\":0,\"ticks\":\"\"},\"colorscale\":[[0.0,\"#0d0887\"],[0.1111111111111111,\"#46039f\"],[0.2222222222222222,\"#7201a8\"],[0.3333333333333333,\"#9c179e\"],[0.4444444444444444,\"#bd3786\"],[0.5555555555555556,\"#d8576b\"],[0.6666666666666666,\"#ed7953\"],[0.7777777777777778,\"#fb9f3a\"],[0.8888888888888888,\"#fdca26\"],[1.0,\"#f0f921\"]],\"type\":\"heatmap\"}],\"heatmapgl\":[{\"colorbar\":{\"outlinewidth\":0,\"ticks\":\"\"},\"colorscale\":[[0.0,\"#0d0887\"],[0.1111111111111111,\"#46039f\"],[0.2222222222222222,\"#7201a8\"],[0.3333333333333333,\"#9c179e\"],[0.4444444444444444,\"#bd3786\"],[0.5555555555555556,\"#d8576b\"],[0.6666666666666666,\"#ed7953\"],[0.7777777777777778,\"#fb9f3a\"],[0.8888888888888888,\"#fdca26\"],[1.0,\"#f0f921\"]],\"type\":\"heatmapgl\"}],\"histogram\":[{\"marker\":{\"pattern\":{\"fillmode\":\"overlay\",\"size\":10,\"solidity\":0.2}},\"type\":\"histogram\"}],\"histogram2d\":[{\"colorbar\":{\"outlinewidth\":0,\"ticks\":\"\"},\"colorscale\":[[0.0,\"#0d0887\"],[0.1111111111111111,\"#46039f\"],[0.2222222222222222,\"#7201a8\"],[0.3333333333333333,\"#9c179e\"],[0.4444444444444444,\"#bd3786\"],[0.5555555555555556,\"#d8576b\"],[0.6666666666666666,\"#ed7953\"],[0.7777777777777778,\"#fb9f3a\"],[0.8888888888888888,\"#fdca26\"],[1.0,\"#f0f921\"]],\"type\":\"histogram2d\"}],\"histogram2dcontour\":[{\"colorbar\":{\"outlinewidth\":0,\"ticks\":\"\"},\"colorscale\":[[0.0,\"#0d0887\"],[0.1111111111111111,\"#46039f\"],[0.2222222222222222,\"#7201a8\"],[0.3333333333333333,\"#9c179e\"],[0.4444444444444444,\"#bd3786\"],[0.5555555555555556,\"#d8576b\"],[0.6666666666666666,\"#ed7953\"],[0.7777777777777778,\"#fb9f3a\"],[0.8888888888888888,\"#fdca26\"],[1.0,\"#f0f921\"]],\"type\":\"histogram2dcontour\"}],\"mesh3d\":[{\"colorbar\":{\"outlinewidth\":0,\"ticks\":\"\"},\"type\":\"mesh3d\"}],\"parcoords\":[{\"line\":{\"colorbar\":{\"outlinewidth\":0,\"ticks\":\"\"}},\"type\":\"parcoords\"}],\"pie\":[{\"automargin\":true,\"type\":\"pie\"}],\"scatter\":[{\"marker\":{\"colorbar\":{\"outlinewidth\":0,\"ticks\":\"\"}},\"type\":\"scatter\"}],\"scatter3d\":[{\"line\":{\"colorbar\":{\"outlinewidth\":0,\"ticks\":\"\"}},\"marker\":{\"colorbar\":{\"outlinewidth\":0,\"ticks\":\"\"}},\"type\":\"scatter3d\"}],\"scattercarpet\":[{\"marker\":{\"colorbar\":{\"outlinewidth\":0,\"ticks\":\"\"}},\"type\":\"scattercarpet\"}],\"scattergeo\":[{\"marker\":{\"colorbar\":{\"outlinewidth\":0,\"ticks\":\"\"}},\"type\":\"scattergeo\"}],\"scattergl\":[{\"marker\":{\"colorbar\":{\"outlinewidth\":0,\"ticks\":\"\"}},\"type\":\"scattergl\"}],\"scattermapbox\":[{\"marker\":{\"colorbar\":{\"outlinewidth\":0,\"ticks\":\"\"}},\"type\":\"scattermapbox\"}],\"scatterpolar\":[{\"marker\":{\"colorbar\":{\"outlinewidth\":0,\"ticks\":\"\"}},\"type\":\"scatterpolar\"}],\"scatterpolargl\":[{\"marker\":{\"colorbar\":{\"outlinewidth\":0,\"ticks\":\"\"}},\"type\":\"scatterpolargl\"}],\"scatterternary\":[{\"marker\":{\"colorbar\":{\"outlinewidth\":0,\"ticks\":\"\"}},\"type\":\"scatterternary\"}],\"surface\":[{\"colorbar\":{\"outlinewidth\":0,\"ticks\":\"\"},\"colorscale\":[[0.0,\"#0d0887\"],[0.1111111111111111,\"#46039f\"],[0.2222222222222222,\"#7201a8\"],[0.3333333333333333,\"#9c179e\"],[0.4444444444444444,\"#bd3786\"],[0.5555555555555556,\"#d8576b\"],[0.6666666666666666,\"#ed7953\"],[0.7777777777777778,\"#fb9f3a\"],[0.8888888888888888,\"#fdca26\"],[1.0,\"#f0f921\"]],\"type\":\"surface\"}],\"table\":[{\"cells\":{\"fill\":{\"color\":\"#EBF0F8\"},\"line\":{\"color\":\"white\"}},\"header\":{\"fill\":{\"color\":\"#C8D4E3\"},\"line\":{\"color\":\"white\"}},\"type\":\"table\"}]},\"layout\":{\"annotationdefaults\":{\"arrowcolor\":\"#2a3f5f\",\"arrowhead\":0,\"arrowwidth\":1},\"autotypenumbers\":\"strict\",\"coloraxis\":{\"colorbar\":{\"outlinewidth\":0,\"ticks\":\"\"}},\"colorscale\":{\"diverging\":[[0,\"#8e0152\"],[0.1,\"#c51b7d\"],[0.2,\"#de77ae\"],[0.3,\"#f1b6da\"],[0.4,\"#fde0ef\"],[0.5,\"#f7f7f7\"],[0.6,\"#e6f5d0\"],[0.7,\"#b8e186\"],[0.8,\"#7fbc41\"],[0.9,\"#4d9221\"],[1,\"#276419\"]],\"sequential\":[[0.0,\"#0d0887\"],[0.1111111111111111,\"#46039f\"],[0.2222222222222222,\"#7201a8\"],[0.3333333333333333,\"#9c179e\"],[0.4444444444444444,\"#bd3786\"],[0.5555555555555556,\"#d8576b\"],[0.6666666666666666,\"#ed7953\"],[0.7777777777777778,\"#fb9f3a\"],[0.8888888888888888,\"#fdca26\"],[1.0,\"#f0f921\"]],\"sequentialminus\":[[0.0,\"#0d0887\"],[0.1111111111111111,\"#46039f\"],[0.2222222222222222,\"#7201a8\"],[0.3333333333333333,\"#9c179e\"],[0.4444444444444444,\"#bd3786\"],[0.5555555555555556,\"#d8576b\"],[0.6666666666666666,\"#ed7953\"],[0.7777777777777778,\"#fb9f3a\"],[0.8888888888888888,\"#fdca26\"],[1.0,\"#f0f921\"]]},\"colorway\":[\"#636efa\",\"#EF553B\",\"#00cc96\",\"#ab63fa\",\"#FFA15A\",\"#19d3f3\",\"#FF6692\",\"#B6E880\",\"#FF97FF\",\"#FECB52\"],\"font\":{\"color\":\"#2a3f5f\"},\"geo\":{\"bgcolor\":\"white\",\"lakecolor\":\"white\",\"landcolor\":\"#E5ECF6\",\"showlakes\":true,\"showland\":true,\"subunitcolor\":\"white\"},\"hoverlabel\":{\"align\":\"left\"},\"hovermode\":\"closest\",\"mapbox\":{\"style\":\"light\"},\"paper_bgcolor\":\"white\",\"plot_bgcolor\":\"#E5ECF6\",\"polar\":{\"angularaxis\":{\"gridcolor\":\"white\",\"linecolor\":\"white\",\"ticks\":\"\"},\"bgcolor\":\"#E5ECF6\",\"radialaxis\":{\"gridcolor\":\"white\",\"linecolor\":\"white\",\"ticks\":\"\"}},\"scene\":{\"xaxis\":{\"backgroundcolor\":\"#E5ECF6\",\"gridcolor\":\"white\",\"gridwidth\":2,\"linecolor\":\"white\",\"showbackground\":true,\"ticks\":\"\",\"zerolinecolor\":\"white\"},\"yaxis\":{\"backgroundcolor\":\"#E5ECF6\",\"gridcolor\":\"white\",\"gridwidth\":2,\"linecolor\":\"white\",\"showbackground\":true,\"ticks\":\"\",\"zerolinecolor\":\"white\"},\"zaxis\":{\"backgroundcolor\":\"#E5ECF6\",\"gridcolor\":\"white\",\"gridwidth\":2,\"linecolor\":\"white\",\"showbackground\":true,\"ticks\":\"\",\"zerolinecolor\":\"white\"}},\"shapedefaults\":{\"line\":{\"color\":\"#2a3f5f\"}},\"ternary\":{\"aaxis\":{\"gridcolor\":\"white\",\"linecolor\":\"white\",\"ticks\":\"\"},\"baxis\":{\"gridcolor\":\"white\",\"linecolor\":\"white\",\"ticks\":\"\"},\"bgcolor\":\"#E5ECF6\",\"caxis\":{\"gridcolor\":\"white\",\"linecolor\":\"white\",\"ticks\":\"\"}},\"title\":{\"x\":0.05},\"xaxis\":{\"automargin\":true,\"gridcolor\":\"white\",\"linecolor\":\"white\",\"ticks\":\"\",\"title\":{\"standoff\":15},\"zerolinecolor\":\"white\",\"zerolinewidth\":2},\"yaxis\":{\"automargin\":true,\"gridcolor\":\"white\",\"linecolor\":\"white\",\"ticks\":\"\",\"title\":{\"standoff\":15},\"zerolinecolor\":\"white\",\"zerolinewidth\":2}}},\"xaxis\":{\"anchor\":\"y\",\"domain\":[0.0,0.45],\"title\":{\"text\":\"ET_n_estimators\"}},\"yaxis\":{\"anchor\":\"x\",\"domain\":[0.0,1.0],\"title\":{\"text\":\"Objective Value\"}},\"xaxis2\":{\"anchor\":\"y2\",\"domain\":[0.55,1.0],\"title\":{\"text\":\"ET_random_state\"}},\"yaxis2\":{\"anchor\":\"x2\",\"domain\":[0.0,1.0],\"matches\":\"y\",\"showticklabels\":false},\"title\":{\"text\":\"Slice Plot\"}},                        {\"responsive\": true}                    ).then(function(){\n",
              "                            \n",
              "var gd = document.getElementById('d3b5bbd6-ab79-4ba1-a988-80308f28b3ee');\n",
              "var x = new MutationObserver(function (mutations, observer) {{\n",
              "        var display = window.getComputedStyle(gd).display;\n",
              "        if (!display || display === 'none') {{\n",
              "            console.log([gd, 'removed!']);\n",
              "            Plotly.purge(gd);\n",
              "            observer.disconnect();\n",
              "        }}\n",
              "}});\n",
              "\n",
              "// Listen for the removal of the full notebook cells\n",
              "var notebookContainer = gd.closest('#notebook-container');\n",
              "if (notebookContainer) {{\n",
              "    x.observe(notebookContainer, {childList: true});\n",
              "}}\n",
              "\n",
              "// Listen for the clearing of the current output cell\n",
              "var outputEl = gd.closest('.output');\n",
              "if (outputEl) {{\n",
              "    x.observe(outputEl, {childList: true});\n",
              "}}\n",
              "\n",
              "                        })                };                            </script>        </div>\n",
              "</body>\n",
              "</html>"
            ]
          },
          "metadata": {}
        }
      ],
      "source": [
        "#Visualize the slice plot\n",
        "optuna.visualization.plot_slice(study, params=['ET_n_estimators', 'ET_random_state'])"
      ]
    },
    {
      "cell_type": "markdown",
      "source": [
        "### **3.3.4. DT**\n",
        "\n",
        "---\n",
        "\n"
      ],
      "metadata": {
        "id": "UxJWSOfLPydT"
      }
    },
    {
      "cell_type": "code",
      "execution_count": null,
      "metadata": {
        "id": "PC_7D5TdPydU"
      },
      "outputs": [],
      "source": [
        "#Step 1. Define an objective function to be maximized.\n",
        "def objective(trial):\n",
        "  from sklearn import tree\n",
        "\n",
        "  from sklearn.model_selection import RepeatedStratifiedKFold\n",
        "  from sklearn.model_selection import cross_validate\n",
        "\n",
        "  from sklearn.metrics import make_scorer\n",
        "  from sklearn.metrics import matthews_corrcoef\n",
        "\n",
        "  from sklearn.pipeline import make_pipeline\n",
        "  from sklearn.preprocessing import  StandardScaler\n",
        "\n",
        "\n",
        "  scaler = StandardScaler()\n",
        "\n",
        "  scoring = {'matthews_corrcoef': make_scorer(matthews_corrcoef)}\n",
        "  rfold= RepeatedStratifiedKFold(n_splits=10, n_repeats=10)\n",
        "\n",
        "  # Step 2. Setup values for the hyperparameters:\n",
        "\n",
        "  DT_criterion = trial.suggest_categorical(\"DT_criterion\", ['gini', 'entropy'])\n",
        "  DT_random_state = trial.suggest_categorical(\"DT_random_state\", [22,32,42])\n",
        "  DT_max_depth = trial.suggest_int(\"DT_max_depth\", 1,8)\n",
        "\n",
        "  classifier_obj =tree.DecisionTreeClassifier(random_state = DT_random_state, criterion = DT_criterion, max_depth = DT_max_depth)\n",
        "\n",
        "  pipeline = make_pipeline(scaler, classifier_obj)\n",
        "\n",
        "  # Step 3: Scoring method:\n",
        "  score=cross_validate(pipeline, x , y, cv=rfold,scoring=scoring, return_train_score=False)\n",
        "  mcc = score['test_matthews_corrcoef'].mean()\n",
        "  return mcc"
      ]
    },
    {
      "cell_type": "code",
      "execution_count": null,
      "metadata": {
        "colab": {
          "base_uri": "https://localhost:8080/"
        },
        "outputId": "f0725384-76b8-4441-e26b-f948192897fe",
        "id": "yQRqKTIRPydU"
      },
      "outputs": [
        {
          "output_type": "stream",
          "name": "stderr",
          "text": [
            "\u001b[32m[I 2022-11-04 15:46:38,151]\u001b[0m A new study created in memory with name: no-name-1ca3b0a9-0e7a-469d-8362-cf2cb49fa08f\u001b[0m\n",
            "\u001b[32m[I 2022-11-04 15:46:40,119]\u001b[0m Trial 0 finished with value: 0.8275747083091304 and parameters: {'DT_criterion': 'gini', 'DT_random_state': 32, 'DT_max_depth': 3}. Best is trial 0 with value: 0.8275747083091304.\u001b[0m\n",
            "\u001b[32m[I 2022-11-04 15:46:42,814]\u001b[0m Trial 1 finished with value: 0.8619208915500305 and parameters: {'DT_criterion': 'gini', 'DT_random_state': 42, 'DT_max_depth': 6}. Best is trial 1 with value: 0.8619208915500305.\u001b[0m\n",
            "\u001b[32m[I 2022-11-04 15:46:45,297]\u001b[0m Trial 2 finished with value: 0.8497273461574908 and parameters: {'DT_criterion': 'gini', 'DT_random_state': 32, 'DT_max_depth': 5}. Best is trial 1 with value: 0.8619208915500305.\u001b[0m\n",
            "\u001b[32m[I 2022-11-04 15:46:49,972]\u001b[0m Trial 3 finished with value: 0.8877456797752766 and parameters: {'DT_criterion': 'entropy', 'DT_random_state': 32, 'DT_max_depth': 8}. Best is trial 3 with value: 0.8877456797752766.\u001b[0m\n",
            "\u001b[32m[I 2022-11-04 15:46:53,719]\u001b[0m Trial 4 finished with value: 0.8799959764351395 and parameters: {'DT_criterion': 'entropy', 'DT_random_state': 22, 'DT_max_depth': 7}. Best is trial 3 with value: 0.8877456797752766.\u001b[0m\n",
            "\u001b[32m[I 2022-11-04 15:46:55,197]\u001b[0m Trial 5 finished with value: 0.7355601050194447 and parameters: {'DT_criterion': 'entropy', 'DT_random_state': 32, 'DT_max_depth': 1}. Best is trial 3 with value: 0.8877456797752766.\u001b[0m\n",
            "\u001b[32m[I 2022-11-04 15:46:58,925]\u001b[0m Trial 6 finished with value: 0.8795861390089971 and parameters: {'DT_criterion': 'entropy', 'DT_random_state': 32, 'DT_max_depth': 7}. Best is trial 3 with value: 0.8877456797752766.\u001b[0m\n",
            "\u001b[32m[I 2022-11-04 15:47:02,638]\u001b[0m Trial 7 finished with value: 0.880776377018569 and parameters: {'DT_criterion': 'entropy', 'DT_random_state': 22, 'DT_max_depth': 7}. Best is trial 3 with value: 0.8877456797752766.\u001b[0m\n",
            "\u001b[32m[I 2022-11-04 15:47:04,026]\u001b[0m Trial 8 finished with value: 0.7354258494113637 and parameters: {'DT_criterion': 'gini', 'DT_random_state': 32, 'DT_max_depth': 1}. Best is trial 3 with value: 0.8877456797752766.\u001b[0m\n",
            "\u001b[32m[I 2022-11-04 15:47:06,891]\u001b[0m Trial 9 finished with value: 0.8763453691138514 and parameters: {'DT_criterion': 'gini', 'DT_random_state': 22, 'DT_max_depth': 7}. Best is trial 3 with value: 0.8877456797752766.\u001b[0m\n",
            "\u001b[32m[I 2022-11-04 15:47:09,639]\u001b[0m Trial 10 finished with value: 0.8409775466155655 and parameters: {'DT_criterion': 'entropy', 'DT_random_state': 42, 'DT_max_depth': 4}. Best is trial 3 with value: 0.8877456797752766.\u001b[0m\n",
            "\u001b[32m[I 2022-11-04 15:47:14,030]\u001b[0m Trial 11 finished with value: 0.8884755545861773 and parameters: {'DT_criterion': 'entropy', 'DT_random_state': 22, 'DT_max_depth': 8}. Best is trial 11 with value: 0.8884755545861773.\u001b[0m\n",
            "\u001b[32m[I 2022-11-04 15:47:20,174]\u001b[0m Trial 12 finished with value: 0.8863032739637355 and parameters: {'DT_criterion': 'entropy', 'DT_random_state': 22, 'DT_max_depth': 8}. Best is trial 11 with value: 0.8884755545861773.\u001b[0m\n",
            "\u001b[32m[I 2022-11-04 15:47:24,243]\u001b[0m Trial 13 finished with value: 0.8885708408648277 and parameters: {'DT_criterion': 'entropy', 'DT_random_state': 22, 'DT_max_depth': 8}. Best is trial 13 with value: 0.8885708408648277.\u001b[0m\n",
            "\u001b[32m[I 2022-11-04 15:47:29,446]\u001b[0m Trial 14 finished with value: 0.8479417698286915 and parameters: {'DT_criterion': 'entropy', 'DT_random_state': 22, 'DT_max_depth': 5}. Best is trial 13 with value: 0.8885708408648277.\u001b[0m\n",
            "\u001b[32m[I 2022-11-04 15:47:35,768]\u001b[0m Trial 15 finished with value: 0.8871767938556032 and parameters: {'DT_criterion': 'entropy', 'DT_random_state': 22, 'DT_max_depth': 8}. Best is trial 13 with value: 0.8885708408648277.\u001b[0m\n",
            "\u001b[32m[I 2022-11-04 15:47:40,765]\u001b[0m Trial 16 finished with value: 0.8725332495665775 and parameters: {'DT_criterion': 'entropy', 'DT_random_state': 22, 'DT_max_depth': 6}. Best is trial 13 with value: 0.8885708408648277.\u001b[0m\n",
            "\u001b[32m[I 2022-11-04 15:47:43,207]\u001b[0m Trial 17 finished with value: 0.8342713658920711 and parameters: {'DT_criterion': 'entropy', 'DT_random_state': 42, 'DT_max_depth': 3}. Best is trial 13 with value: 0.8885708408648277.\u001b[0m\n",
            "\u001b[32m[I 2022-11-04 15:47:46,690]\u001b[0m Trial 18 finished with value: 0.8720933832213632 and parameters: {'DT_criterion': 'entropy', 'DT_random_state': 22, 'DT_max_depth': 6}. Best is trial 13 with value: 0.8885708408648277.\u001b[0m\n",
            "\u001b[32m[I 2022-11-04 15:47:51,051]\u001b[0m Trial 19 finished with value: 0.888548687049483 and parameters: {'DT_criterion': 'entropy', 'DT_random_state': 22, 'DT_max_depth': 8}. Best is trial 13 with value: 0.8885708408648277.\u001b[0m\n",
            "\u001b[32m[I 2022-11-04 15:47:54,265]\u001b[0m Trial 20 finished with value: 0.8410597248772873 and parameters: {'DT_criterion': 'entropy', 'DT_random_state': 22, 'DT_max_depth': 4}. Best is trial 13 with value: 0.8885708408648277.\u001b[0m\n",
            "\u001b[32m[I 2022-11-04 15:47:58,292]\u001b[0m Trial 21 finished with value: 0.8889523833437313 and parameters: {'DT_criterion': 'entropy', 'DT_random_state': 22, 'DT_max_depth': 8}. Best is trial 21 with value: 0.8889523833437313.\u001b[0m\n",
            "\u001b[32m[I 2022-11-04 15:48:02,287]\u001b[0m Trial 22 finished with value: 0.8890369053803979 and parameters: {'DT_criterion': 'entropy', 'DT_random_state': 22, 'DT_max_depth': 8}. Best is trial 22 with value: 0.8890369053803979.\u001b[0m\n",
            "\u001b[32m[I 2022-11-04 15:48:06,033]\u001b[0m Trial 23 finished with value: 0.8794645497999557 and parameters: {'DT_criterion': 'entropy', 'DT_random_state': 22, 'DT_max_depth': 7}. Best is trial 22 with value: 0.8890369053803979.\u001b[0m\n",
            "\u001b[32m[I 2022-11-04 15:48:09,463]\u001b[0m Trial 24 finished with value: 0.8728293659125481 and parameters: {'DT_criterion': 'entropy', 'DT_random_state': 22, 'DT_max_depth': 6}. Best is trial 22 with value: 0.8890369053803979.\u001b[0m\n",
            "\u001b[32m[I 2022-11-04 15:48:14,947]\u001b[0m Trial 25 finished with value: 0.8891692684634048 and parameters: {'DT_criterion': 'entropy', 'DT_random_state': 42, 'DT_max_depth': 8}. Best is trial 25 with value: 0.8891692684634048.\u001b[0m\n",
            "\u001b[32m[I 2022-11-04 15:48:17,852]\u001b[0m Trial 26 finished with value: 0.877336178176563 and parameters: {'DT_criterion': 'gini', 'DT_random_state': 42, 'DT_max_depth': 7}. Best is trial 25 with value: 0.8891692684634048.\u001b[0m\n",
            "\u001b[32m[I 2022-11-04 15:48:21,827]\u001b[0m Trial 27 finished with value: 0.8875112610310641 and parameters: {'DT_criterion': 'entropy', 'DT_random_state': 42, 'DT_max_depth': 8}. Best is trial 25 with value: 0.8891692684634048.\u001b[0m\n",
            "\u001b[32m[I 2022-11-04 15:48:23,825]\u001b[0m Trial 28 finished with value: 0.8032672948397392 and parameters: {'DT_criterion': 'entropy', 'DT_random_state': 42, 'DT_max_depth': 2}. Best is trial 25 with value: 0.8891692684634048.\u001b[0m\n",
            "\u001b[32m[I 2022-11-04 15:48:26,276]\u001b[0m Trial 29 finished with value: 0.8496993044991732 and parameters: {'DT_criterion': 'gini', 'DT_random_state': 42, 'DT_max_depth': 5}. Best is trial 25 with value: 0.8891692684634048.\u001b[0m\n",
            "\u001b[32m[I 2022-11-04 15:48:29,801]\u001b[0m Trial 30 finished with value: 0.8720406427913007 and parameters: {'DT_criterion': 'entropy', 'DT_random_state': 42, 'DT_max_depth': 6}. Best is trial 25 with value: 0.8891692684634048.\u001b[0m\n",
            "\u001b[32m[I 2022-11-04 15:48:33,817]\u001b[0m Trial 31 finished with value: 0.890212371087119 and parameters: {'DT_criterion': 'entropy', 'DT_random_state': 22, 'DT_max_depth': 8}. Best is trial 31 with value: 0.890212371087119.\u001b[0m\n",
            "\u001b[32m[I 2022-11-04 15:48:37,535]\u001b[0m Trial 32 finished with value: 0.8780802779581193 and parameters: {'DT_criterion': 'entropy', 'DT_random_state': 22, 'DT_max_depth': 7}. Best is trial 31 with value: 0.890212371087119.\u001b[0m\n",
            "\u001b[32m[I 2022-11-04 15:48:42,891]\u001b[0m Trial 33 finished with value: 0.8886792379629646 and parameters: {'DT_criterion': 'entropy', 'DT_random_state': 42, 'DT_max_depth': 8}. Best is trial 31 with value: 0.890212371087119.\u001b[0m\n",
            "\u001b[32m[I 2022-11-04 15:48:46,821]\u001b[0m Trial 34 finished with value: 0.884858844135829 and parameters: {'DT_criterion': 'gini', 'DT_random_state': 22, 'DT_max_depth': 8}. Best is trial 31 with value: 0.890212371087119.\u001b[0m\n",
            "\u001b[32m[I 2022-11-04 15:48:50,618]\u001b[0m Trial 35 finished with value: 0.880724318553262 and parameters: {'DT_criterion': 'entropy', 'DT_random_state': 22, 'DT_max_depth': 7}. Best is trial 31 with value: 0.890212371087119.\u001b[0m\n",
            "\u001b[32m[I 2022-11-04 15:48:54,698]\u001b[0m Trial 36 finished with value: 0.8895392377705226 and parameters: {'DT_criterion': 'entropy', 'DT_random_state': 32, 'DT_max_depth': 8}. Best is trial 31 with value: 0.890212371087119.\u001b[0m\n",
            "\u001b[32m[I 2022-11-04 15:48:58,241]\u001b[0m Trial 37 finished with value: 0.8727962566928623 and parameters: {'DT_criterion': 'entropy', 'DT_random_state': 32, 'DT_max_depth': 6}. Best is trial 31 with value: 0.890212371087119.\u001b[0m\n",
            "\u001b[32m[I 2022-11-04 15:49:01,164]\u001b[0m Trial 38 finished with value: 0.8763825133628893 and parameters: {'DT_criterion': 'gini', 'DT_random_state': 32, 'DT_max_depth': 7}. Best is trial 31 with value: 0.890212371087119.\u001b[0m\n",
            "\u001b[32m[I 2022-11-04 15:49:06,878]\u001b[0m Trial 39 finished with value: 0.8783820520651408 and parameters: {'DT_criterion': 'entropy', 'DT_random_state': 32, 'DT_max_depth': 7}. Best is trial 31 with value: 0.890212371087119.\u001b[0m\n",
            "\u001b[32m[I 2022-11-04 15:49:11,146]\u001b[0m Trial 40 finished with value: 0.8879661645191717 and parameters: {'DT_criterion': 'entropy', 'DT_random_state': 32, 'DT_max_depth': 8}. Best is trial 31 with value: 0.890212371087119.\u001b[0m\n",
            "\u001b[32m[I 2022-11-04 15:49:15,894]\u001b[0m Trial 41 finished with value: 0.8882695730343572 and parameters: {'DT_criterion': 'entropy', 'DT_random_state': 32, 'DT_max_depth': 8}. Best is trial 31 with value: 0.890212371087119.\u001b[0m\n",
            "\u001b[32m[I 2022-11-04 15:49:19,927]\u001b[0m Trial 42 finished with value: 0.8872909538145555 and parameters: {'DT_criterion': 'entropy', 'DT_random_state': 32, 'DT_max_depth': 8}. Best is trial 31 with value: 0.890212371087119.\u001b[0m\n",
            "\u001b[32m[I 2022-11-04 15:49:23,665]\u001b[0m Trial 43 finished with value: 0.8773608398937991 and parameters: {'DT_criterion': 'entropy', 'DT_random_state': 22, 'DT_max_depth': 7}. Best is trial 31 with value: 0.890212371087119.\u001b[0m\n",
            "\u001b[32m[I 2022-11-04 15:49:27,693]\u001b[0m Trial 44 finished with value: 0.8911208940474882 and parameters: {'DT_criterion': 'entropy', 'DT_random_state': 42, 'DT_max_depth': 8}. Best is trial 44 with value: 0.8911208940474882.\u001b[0m\n",
            "\u001b[32m[I 2022-11-04 15:49:32,922]\u001b[0m Trial 45 finished with value: 0.8886574147226695 and parameters: {'DT_criterion': 'entropy', 'DT_random_state': 42, 'DT_max_depth': 8}. Best is trial 44 with value: 0.8911208940474882.\u001b[0m\n",
            "\u001b[32m[I 2022-11-04 15:49:39,099]\u001b[0m Trial 46 finished with value: 0.8795600085407274 and parameters: {'DT_criterion': 'entropy', 'DT_random_state': 42, 'DT_max_depth': 7}. Best is trial 44 with value: 0.8911208940474882.\u001b[0m\n",
            "\u001b[32m[I 2022-11-04 15:49:42,539]\u001b[0m Trial 47 finished with value: 0.8844081131276539 and parameters: {'DT_criterion': 'gini', 'DT_random_state': 42, 'DT_max_depth': 8}. Best is trial 44 with value: 0.8911208940474882.\u001b[0m\n",
            "\u001b[32m[I 2022-11-04 15:49:48,536]\u001b[0m Trial 48 finished with value: 0.878368049955818 and parameters: {'DT_criterion': 'entropy', 'DT_random_state': 42, 'DT_max_depth': 7}. Best is trial 44 with value: 0.8911208940474882.\u001b[0m\n",
            "\u001b[32m[I 2022-11-04 15:49:55,753]\u001b[0m Trial 49 finished with value: 0.8506396419203632 and parameters: {'DT_criterion': 'entropy', 'DT_random_state': 32, 'DT_max_depth': 5}. Best is trial 44 with value: 0.8911208940474882.\u001b[0m\n"
          ]
        }
      ],
      "source": [
        "# Step 4: Running it\n",
        "study = optuna.create_study(direction=\"maximize\")\n",
        "study.optimize(objective, n_trials=50)"
      ]
    },
    {
      "cell_type": "code",
      "execution_count": null,
      "metadata": {
        "id": "RCI09zKuPydU"
      },
      "outputs": [],
      "source": [
        "def get_Optimized_Parmaters():\n",
        "\n",
        "  # Getting the best trial:\n",
        "  print(f\"The best trial is : \\n{study.best_trial}\")\n",
        "\n",
        "  # Getting the best score:\n",
        "  print(f\"The best value is : \\n{study.best_value}\")\n",
        "\n",
        "  # Getting the best parameters:\n",
        "  print(f\"The best parameters are : \\n{study.best_params}\")\n",
        "\n",
        "  #Visualize the slice plot\n",
        "  optuna.visualization.plot_slice(study, params=['DT_random_state', 'DT_criterion','DT_max_depth'])"
      ]
    },
    {
      "cell_type": "code",
      "execution_count": null,
      "metadata": {
        "colab": {
          "base_uri": "https://localhost:8080/"
        },
        "outputId": "84e61ae9-5094-46a5-da56-a32e26f68103",
        "id": "zJ8c_HuaPydU"
      },
      "outputs": [
        {
          "output_type": "stream",
          "name": "stdout",
          "text": [
            "The best trial is : \n",
            "FrozenTrial(number=44, values=[0.8911208940474882], datetime_start=datetime.datetime(2022, 11, 4, 15, 49, 23, 667691), datetime_complete=datetime.datetime(2022, 11, 4, 15, 49, 27, 692896), params={'DT_criterion': 'entropy', 'DT_random_state': 42, 'DT_max_depth': 8}, distributions={'DT_criterion': CategoricalDistribution(choices=('gini', 'entropy')), 'DT_random_state': CategoricalDistribution(choices=(22, 32, 42)), 'DT_max_depth': IntDistribution(high=8, log=False, low=1, step=1)}, user_attrs={}, system_attrs={}, intermediate_values={}, trial_id=44, state=TrialState.COMPLETE, value=None)\n",
            "The best value is : \n",
            "0.8911208940474882\n",
            "The best parameters are : \n",
            "{'DT_criterion': 'entropy', 'DT_random_state': 42, 'DT_max_depth': 8}\n"
          ]
        }
      ],
      "source": [
        "get_Optimized_Parmaters()"
      ]
    },
    {
      "cell_type": "code",
      "execution_count": null,
      "metadata": {
        "colab": {
          "base_uri": "https://localhost:8080/"
        },
        "outputId": "d9d2ba21-cbe4-407e-fcb6-3314d52363ff",
        "id": "M02_IBkQPydV"
      },
      "outputs": [
        {
          "output_type": "stream",
          "name": "stdout",
          "text": [
            "The best trial is : \n",
            "FrozenTrial(number=44, values=[0.8911208940474882], datetime_start=datetime.datetime(2022, 11, 4, 15, 49, 23, 667691), datetime_complete=datetime.datetime(2022, 11, 4, 15, 49, 27, 692896), params={'DT_criterion': 'entropy', 'DT_random_state': 42, 'DT_max_depth': 8}, distributions={'DT_criterion': CategoricalDistribution(choices=('gini', 'entropy')), 'DT_random_state': CategoricalDistribution(choices=(22, 32, 42)), 'DT_max_depth': IntDistribution(high=8, log=False, low=1, step=1)}, user_attrs={}, system_attrs={}, intermediate_values={}, trial_id=44, state=TrialState.COMPLETE, value=None)\n"
          ]
        }
      ],
      "source": [
        "# Getting the best trial:\n",
        "print(f\"The best trial is : \\n{study.best_trial}\")"
      ]
    },
    {
      "cell_type": "code",
      "execution_count": null,
      "metadata": {
        "colab": {
          "base_uri": "https://localhost:8080/"
        },
        "outputId": "1e554b91-86fd-475e-948c-2b09468b9361",
        "id": "Vcasaqp1PydV"
      },
      "outputs": [
        {
          "output_type": "stream",
          "name": "stdout",
          "text": [
            "The best value is : \n",
            "0.8911208940474882\n"
          ]
        }
      ],
      "source": [
        "# Getting the best score:\n",
        "print(f\"The best value is : \\n{study.best_value}\")"
      ]
    },
    {
      "cell_type": "code",
      "execution_count": null,
      "metadata": {
        "colab": {
          "base_uri": "https://localhost:8080/"
        },
        "outputId": "c9b3dce4-b893-46c4-f8fc-07e252dbe321",
        "id": "aADBYwVAPydV"
      },
      "outputs": [
        {
          "output_type": "stream",
          "name": "stdout",
          "text": [
            "The best parameters are : \n",
            "{'DT_criterion': 'entropy', 'DT_random_state': 42, 'DT_max_depth': 8}\n"
          ]
        }
      ],
      "source": [
        "# Getting the best parameters:\n",
        "print(f\"The best parameters are : \\n{study.best_params}\")"
      ]
    },
    {
      "cell_type": "code",
      "execution_count": null,
      "metadata": {
        "colab": {
          "base_uri": "https://localhost:8080/",
          "height": 542
        },
        "outputId": "c9d66fba-e347-4ce3-8bb4-4328075f18ee",
        "id": "2y67c-fZPydV"
      },
      "outputs": [
        {
          "output_type": "display_data",
          "data": {
            "text/html": [
              "<html>\n",
              "<head><meta charset=\"utf-8\" /></head>\n",
              "<body>\n",
              "    <div>            <script src=\"https://cdnjs.cloudflare.com/ajax/libs/mathjax/2.7.5/MathJax.js?config=TeX-AMS-MML_SVG\"></script><script type=\"text/javascript\">if (window.MathJax) {MathJax.Hub.Config({SVG: {font: \"STIX-Web\"}});}</script>                <script type=\"text/javascript\">window.PlotlyConfig = {MathJaxConfig: 'local'};</script>\n",
              "        <script src=\"https://cdn.plot.ly/plotly-2.8.3.min.js\"></script>                <div id=\"40c12aad-0273-4740-b891-0b09ca684343\" class=\"plotly-graph-div\" style=\"height:525px; width:100%;\"></div>            <script type=\"text/javascript\">                                    window.PLOTLYENV=window.PLOTLYENV || {};                                    if (document.getElementById(\"40c12aad-0273-4740-b891-0b09ca684343\")) {                    Plotly.newPlot(                        \"40c12aad-0273-4740-b891-0b09ca684343\",                        [{\"marker\":{\"color\":[0,1,2,3,4,5,6,7,8,9,10,11,12,13,14,15,16,17,18,19,20,21,22,23,24,25,26,27,28,29,30,31,32,33,34,35,36,37,38,39,40,41,42,43,44,45,46,47,48,49],\"colorbar\":{\"title\":{\"text\":\"Trial\"},\"x\":1.0,\"xpad\":40},\"colorscale\":[[0.0,\"rgb(247,251,255)\"],[0.125,\"rgb(222,235,247)\"],[0.25,\"rgb(198,219,239)\"],[0.375,\"rgb(158,202,225)\"],[0.5,\"rgb(107,174,214)\"],[0.625,\"rgb(66,146,198)\"],[0.75,\"rgb(33,113,181)\"],[0.875,\"rgb(8,81,156)\"],[1.0,\"rgb(8,48,107)\"]],\"line\":{\"color\":\"Grey\",\"width\":0.5},\"showscale\":true},\"mode\":\"markers\",\"showlegend\":false,\"x\":[\"gini\",\"gini\",\"gini\",\"entropy\",\"entropy\",\"entropy\",\"entropy\",\"entropy\",\"gini\",\"gini\",\"entropy\",\"entropy\",\"entropy\",\"entropy\",\"entropy\",\"entropy\",\"entropy\",\"entropy\",\"entropy\",\"entropy\",\"entropy\",\"entropy\",\"entropy\",\"entropy\",\"entropy\",\"entropy\",\"gini\",\"entropy\",\"entropy\",\"gini\",\"entropy\",\"entropy\",\"entropy\",\"entropy\",\"gini\",\"entropy\",\"entropy\",\"entropy\",\"gini\",\"entropy\",\"entropy\",\"entropy\",\"entropy\",\"entropy\",\"entropy\",\"entropy\",\"entropy\",\"gini\",\"entropy\",\"entropy\"],\"y\":[0.8275747083091304,0.8619208915500305,0.8497273461574908,0.8877456797752766,0.8799959764351395,0.7355601050194447,0.8795861390089971,0.880776377018569,0.7354258494113637,0.8763453691138514,0.8409775466155655,0.8884755545861773,0.8863032739637355,0.8885708408648277,0.8479417698286915,0.8871767938556032,0.8725332495665775,0.8342713658920711,0.8720933832213632,0.888548687049483,0.8410597248772873,0.8889523833437313,0.8890369053803979,0.8794645497999557,0.8728293659125481,0.8891692684634048,0.877336178176563,0.8875112610310641,0.8032672948397392,0.8496993044991732,0.8720406427913007,0.890212371087119,0.8780802779581193,0.8886792379629646,0.884858844135829,0.880724318553262,0.8895392377705226,0.8727962566928623,0.8763825133628893,0.8783820520651408,0.8879661645191717,0.8882695730343572,0.8872909538145555,0.8773608398937991,0.8911208940474882,0.8886574147226695,0.8795600085407274,0.8844081131276539,0.878368049955818,0.8506396419203632],\"type\":\"scatter\",\"xaxis\":\"x\",\"yaxis\":\"y\"},{\"marker\":{\"color\":[0,1,2,3,4,5,6,7,8,9,10,11,12,13,14,15,16,17,18,19,20,21,22,23,24,25,26,27,28,29,30,31,32,33,34,35,36,37,38,39,40,41,42,43,44,45,46,47,48,49],\"colorbar\":{\"title\":{\"text\":\"Trial\"},\"x\":1.0,\"xpad\":40},\"colorscale\":[[0.0,\"rgb(247,251,255)\"],[0.125,\"rgb(222,235,247)\"],[0.25,\"rgb(198,219,239)\"],[0.375,\"rgb(158,202,225)\"],[0.5,\"rgb(107,174,214)\"],[0.625,\"rgb(66,146,198)\"],[0.75,\"rgb(33,113,181)\"],[0.875,\"rgb(8,81,156)\"],[1.0,\"rgb(8,48,107)\"]],\"line\":{\"color\":\"Grey\",\"width\":0.5},\"showscale\":false},\"mode\":\"markers\",\"showlegend\":false,\"x\":[3,6,5,8,7,1,7,7,1,7,4,8,8,8,5,8,6,3,6,8,4,8,8,7,6,8,7,8,2,5,6,8,7,8,8,7,8,6,7,7,8,8,8,7,8,8,7,8,7,5],\"y\":[0.8275747083091304,0.8619208915500305,0.8497273461574908,0.8877456797752766,0.8799959764351395,0.7355601050194447,0.8795861390089971,0.880776377018569,0.7354258494113637,0.8763453691138514,0.8409775466155655,0.8884755545861773,0.8863032739637355,0.8885708408648277,0.8479417698286915,0.8871767938556032,0.8725332495665775,0.8342713658920711,0.8720933832213632,0.888548687049483,0.8410597248772873,0.8889523833437313,0.8890369053803979,0.8794645497999557,0.8728293659125481,0.8891692684634048,0.877336178176563,0.8875112610310641,0.8032672948397392,0.8496993044991732,0.8720406427913007,0.890212371087119,0.8780802779581193,0.8886792379629646,0.884858844135829,0.880724318553262,0.8895392377705226,0.8727962566928623,0.8763825133628893,0.8783820520651408,0.8879661645191717,0.8882695730343572,0.8872909538145555,0.8773608398937991,0.8911208940474882,0.8886574147226695,0.8795600085407274,0.8844081131276539,0.878368049955818,0.8506396419203632],\"type\":\"scatter\",\"xaxis\":\"x2\",\"yaxis\":\"y2\"},{\"marker\":{\"color\":[0,1,2,3,4,5,6,7,8,9,10,11,12,13,14,15,16,17,18,19,20,21,22,23,24,25,26,27,28,29,30,31,32,33,34,35,36,37,38,39,40,41,42,43,44,45,46,47,48,49],\"colorbar\":{\"title\":{\"text\":\"Trial\"},\"x\":1.0,\"xpad\":40},\"colorscale\":[[0.0,\"rgb(247,251,255)\"],[0.125,\"rgb(222,235,247)\"],[0.25,\"rgb(198,219,239)\"],[0.375,\"rgb(158,202,225)\"],[0.5,\"rgb(107,174,214)\"],[0.625,\"rgb(66,146,198)\"],[0.75,\"rgb(33,113,181)\"],[0.875,\"rgb(8,81,156)\"],[1.0,\"rgb(8,48,107)\"]],\"line\":{\"color\":\"Grey\",\"width\":0.5},\"showscale\":false},\"mode\":\"markers\",\"showlegend\":false,\"x\":[32,42,32,32,22,32,32,22,32,22,42,22,22,22,22,22,22,42,22,22,22,22,22,22,22,42,42,42,42,42,42,22,22,42,22,22,32,32,32,32,32,32,32,22,42,42,42,42,42,32],\"y\":[0.8275747083091304,0.8619208915500305,0.8497273461574908,0.8877456797752766,0.8799959764351395,0.7355601050194447,0.8795861390089971,0.880776377018569,0.7354258494113637,0.8763453691138514,0.8409775466155655,0.8884755545861773,0.8863032739637355,0.8885708408648277,0.8479417698286915,0.8871767938556032,0.8725332495665775,0.8342713658920711,0.8720933832213632,0.888548687049483,0.8410597248772873,0.8889523833437313,0.8890369053803979,0.8794645497999557,0.8728293659125481,0.8891692684634048,0.877336178176563,0.8875112610310641,0.8032672948397392,0.8496993044991732,0.8720406427913007,0.890212371087119,0.8780802779581193,0.8886792379629646,0.884858844135829,0.880724318553262,0.8895392377705226,0.8727962566928623,0.8763825133628893,0.8783820520651408,0.8879661645191717,0.8882695730343572,0.8872909538145555,0.8773608398937991,0.8911208940474882,0.8886574147226695,0.8795600085407274,0.8844081131276539,0.878368049955818,0.8506396419203632],\"type\":\"scatter\",\"xaxis\":\"x3\",\"yaxis\":\"y3\"}],                        {\"template\":{\"data\":{\"bar\":[{\"error_x\":{\"color\":\"#2a3f5f\"},\"error_y\":{\"color\":\"#2a3f5f\"},\"marker\":{\"line\":{\"color\":\"#E5ECF6\",\"width\":0.5},\"pattern\":{\"fillmode\":\"overlay\",\"size\":10,\"solidity\":0.2}},\"type\":\"bar\"}],\"barpolar\":[{\"marker\":{\"line\":{\"color\":\"#E5ECF6\",\"width\":0.5},\"pattern\":{\"fillmode\":\"overlay\",\"size\":10,\"solidity\":0.2}},\"type\":\"barpolar\"}],\"carpet\":[{\"aaxis\":{\"endlinecolor\":\"#2a3f5f\",\"gridcolor\":\"white\",\"linecolor\":\"white\",\"minorgridcolor\":\"white\",\"startlinecolor\":\"#2a3f5f\"},\"baxis\":{\"endlinecolor\":\"#2a3f5f\",\"gridcolor\":\"white\",\"linecolor\":\"white\",\"minorgridcolor\":\"white\",\"startlinecolor\":\"#2a3f5f\"},\"type\":\"carpet\"}],\"choropleth\":[{\"colorbar\":{\"outlinewidth\":0,\"ticks\":\"\"},\"type\":\"choropleth\"}],\"contour\":[{\"colorbar\":{\"outlinewidth\":0,\"ticks\":\"\"},\"colorscale\":[[0.0,\"#0d0887\"],[0.1111111111111111,\"#46039f\"],[0.2222222222222222,\"#7201a8\"],[0.3333333333333333,\"#9c179e\"],[0.4444444444444444,\"#bd3786\"],[0.5555555555555556,\"#d8576b\"],[0.6666666666666666,\"#ed7953\"],[0.7777777777777778,\"#fb9f3a\"],[0.8888888888888888,\"#fdca26\"],[1.0,\"#f0f921\"]],\"type\":\"contour\"}],\"contourcarpet\":[{\"colorbar\":{\"outlinewidth\":0,\"ticks\":\"\"},\"type\":\"contourcarpet\"}],\"heatmap\":[{\"colorbar\":{\"outlinewidth\":0,\"ticks\":\"\"},\"colorscale\":[[0.0,\"#0d0887\"],[0.1111111111111111,\"#46039f\"],[0.2222222222222222,\"#7201a8\"],[0.3333333333333333,\"#9c179e\"],[0.4444444444444444,\"#bd3786\"],[0.5555555555555556,\"#d8576b\"],[0.6666666666666666,\"#ed7953\"],[0.7777777777777778,\"#fb9f3a\"],[0.8888888888888888,\"#fdca26\"],[1.0,\"#f0f921\"]],\"type\":\"heatmap\"}],\"heatmapgl\":[{\"colorbar\":{\"outlinewidth\":0,\"ticks\":\"\"},\"colorscale\":[[0.0,\"#0d0887\"],[0.1111111111111111,\"#46039f\"],[0.2222222222222222,\"#7201a8\"],[0.3333333333333333,\"#9c179e\"],[0.4444444444444444,\"#bd3786\"],[0.5555555555555556,\"#d8576b\"],[0.6666666666666666,\"#ed7953\"],[0.7777777777777778,\"#fb9f3a\"],[0.8888888888888888,\"#fdca26\"],[1.0,\"#f0f921\"]],\"type\":\"heatmapgl\"}],\"histogram\":[{\"marker\":{\"pattern\":{\"fillmode\":\"overlay\",\"size\":10,\"solidity\":0.2}},\"type\":\"histogram\"}],\"histogram2d\":[{\"colorbar\":{\"outlinewidth\":0,\"ticks\":\"\"},\"colorscale\":[[0.0,\"#0d0887\"],[0.1111111111111111,\"#46039f\"],[0.2222222222222222,\"#7201a8\"],[0.3333333333333333,\"#9c179e\"],[0.4444444444444444,\"#bd3786\"],[0.5555555555555556,\"#d8576b\"],[0.6666666666666666,\"#ed7953\"],[0.7777777777777778,\"#fb9f3a\"],[0.8888888888888888,\"#fdca26\"],[1.0,\"#f0f921\"]],\"type\":\"histogram2d\"}],\"histogram2dcontour\":[{\"colorbar\":{\"outlinewidth\":0,\"ticks\":\"\"},\"colorscale\":[[0.0,\"#0d0887\"],[0.1111111111111111,\"#46039f\"],[0.2222222222222222,\"#7201a8\"],[0.3333333333333333,\"#9c179e\"],[0.4444444444444444,\"#bd3786\"],[0.5555555555555556,\"#d8576b\"],[0.6666666666666666,\"#ed7953\"],[0.7777777777777778,\"#fb9f3a\"],[0.8888888888888888,\"#fdca26\"],[1.0,\"#f0f921\"]],\"type\":\"histogram2dcontour\"}],\"mesh3d\":[{\"colorbar\":{\"outlinewidth\":0,\"ticks\":\"\"},\"type\":\"mesh3d\"}],\"parcoords\":[{\"line\":{\"colorbar\":{\"outlinewidth\":0,\"ticks\":\"\"}},\"type\":\"parcoords\"}],\"pie\":[{\"automargin\":true,\"type\":\"pie\"}],\"scatter\":[{\"marker\":{\"colorbar\":{\"outlinewidth\":0,\"ticks\":\"\"}},\"type\":\"scatter\"}],\"scatter3d\":[{\"line\":{\"colorbar\":{\"outlinewidth\":0,\"ticks\":\"\"}},\"marker\":{\"colorbar\":{\"outlinewidth\":0,\"ticks\":\"\"}},\"type\":\"scatter3d\"}],\"scattercarpet\":[{\"marker\":{\"colorbar\":{\"outlinewidth\":0,\"ticks\":\"\"}},\"type\":\"scattercarpet\"}],\"scattergeo\":[{\"marker\":{\"colorbar\":{\"outlinewidth\":0,\"ticks\":\"\"}},\"type\":\"scattergeo\"}],\"scattergl\":[{\"marker\":{\"colorbar\":{\"outlinewidth\":0,\"ticks\":\"\"}},\"type\":\"scattergl\"}],\"scattermapbox\":[{\"marker\":{\"colorbar\":{\"outlinewidth\":0,\"ticks\":\"\"}},\"type\":\"scattermapbox\"}],\"scatterpolar\":[{\"marker\":{\"colorbar\":{\"outlinewidth\":0,\"ticks\":\"\"}},\"type\":\"scatterpolar\"}],\"scatterpolargl\":[{\"marker\":{\"colorbar\":{\"outlinewidth\":0,\"ticks\":\"\"}},\"type\":\"scatterpolargl\"}],\"scatterternary\":[{\"marker\":{\"colorbar\":{\"outlinewidth\":0,\"ticks\":\"\"}},\"type\":\"scatterternary\"}],\"surface\":[{\"colorbar\":{\"outlinewidth\":0,\"ticks\":\"\"},\"colorscale\":[[0.0,\"#0d0887\"],[0.1111111111111111,\"#46039f\"],[0.2222222222222222,\"#7201a8\"],[0.3333333333333333,\"#9c179e\"],[0.4444444444444444,\"#bd3786\"],[0.5555555555555556,\"#d8576b\"],[0.6666666666666666,\"#ed7953\"],[0.7777777777777778,\"#fb9f3a\"],[0.8888888888888888,\"#fdca26\"],[1.0,\"#f0f921\"]],\"type\":\"surface\"}],\"table\":[{\"cells\":{\"fill\":{\"color\":\"#EBF0F8\"},\"line\":{\"color\":\"white\"}},\"header\":{\"fill\":{\"color\":\"#C8D4E3\"},\"line\":{\"color\":\"white\"}},\"type\":\"table\"}]},\"layout\":{\"annotationdefaults\":{\"arrowcolor\":\"#2a3f5f\",\"arrowhead\":0,\"arrowwidth\":1},\"autotypenumbers\":\"strict\",\"coloraxis\":{\"colorbar\":{\"outlinewidth\":0,\"ticks\":\"\"}},\"colorscale\":{\"diverging\":[[0,\"#8e0152\"],[0.1,\"#c51b7d\"],[0.2,\"#de77ae\"],[0.3,\"#f1b6da\"],[0.4,\"#fde0ef\"],[0.5,\"#f7f7f7\"],[0.6,\"#e6f5d0\"],[0.7,\"#b8e186\"],[0.8,\"#7fbc41\"],[0.9,\"#4d9221\"],[1,\"#276419\"]],\"sequential\":[[0.0,\"#0d0887\"],[0.1111111111111111,\"#46039f\"],[0.2222222222222222,\"#7201a8\"],[0.3333333333333333,\"#9c179e\"],[0.4444444444444444,\"#bd3786\"],[0.5555555555555556,\"#d8576b\"],[0.6666666666666666,\"#ed7953\"],[0.7777777777777778,\"#fb9f3a\"],[0.8888888888888888,\"#fdca26\"],[1.0,\"#f0f921\"]],\"sequentialminus\":[[0.0,\"#0d0887\"],[0.1111111111111111,\"#46039f\"],[0.2222222222222222,\"#7201a8\"],[0.3333333333333333,\"#9c179e\"],[0.4444444444444444,\"#bd3786\"],[0.5555555555555556,\"#d8576b\"],[0.6666666666666666,\"#ed7953\"],[0.7777777777777778,\"#fb9f3a\"],[0.8888888888888888,\"#fdca26\"],[1.0,\"#f0f921\"]]},\"colorway\":[\"#636efa\",\"#EF553B\",\"#00cc96\",\"#ab63fa\",\"#FFA15A\",\"#19d3f3\",\"#FF6692\",\"#B6E880\",\"#FF97FF\",\"#FECB52\"],\"font\":{\"color\":\"#2a3f5f\"},\"geo\":{\"bgcolor\":\"white\",\"lakecolor\":\"white\",\"landcolor\":\"#E5ECF6\",\"showlakes\":true,\"showland\":true,\"subunitcolor\":\"white\"},\"hoverlabel\":{\"align\":\"left\"},\"hovermode\":\"closest\",\"mapbox\":{\"style\":\"light\"},\"paper_bgcolor\":\"white\",\"plot_bgcolor\":\"#E5ECF6\",\"polar\":{\"angularaxis\":{\"gridcolor\":\"white\",\"linecolor\":\"white\",\"ticks\":\"\"},\"bgcolor\":\"#E5ECF6\",\"radialaxis\":{\"gridcolor\":\"white\",\"linecolor\":\"white\",\"ticks\":\"\"}},\"scene\":{\"xaxis\":{\"backgroundcolor\":\"#E5ECF6\",\"gridcolor\":\"white\",\"gridwidth\":2,\"linecolor\":\"white\",\"showbackground\":true,\"ticks\":\"\",\"zerolinecolor\":\"white\"},\"yaxis\":{\"backgroundcolor\":\"#E5ECF6\",\"gridcolor\":\"white\",\"gridwidth\":2,\"linecolor\":\"white\",\"showbackground\":true,\"ticks\":\"\",\"zerolinecolor\":\"white\"},\"zaxis\":{\"backgroundcolor\":\"#E5ECF6\",\"gridcolor\":\"white\",\"gridwidth\":2,\"linecolor\":\"white\",\"showbackground\":true,\"ticks\":\"\",\"zerolinecolor\":\"white\"}},\"shapedefaults\":{\"line\":{\"color\":\"#2a3f5f\"}},\"ternary\":{\"aaxis\":{\"gridcolor\":\"white\",\"linecolor\":\"white\",\"ticks\":\"\"},\"baxis\":{\"gridcolor\":\"white\",\"linecolor\":\"white\",\"ticks\":\"\"},\"bgcolor\":\"#E5ECF6\",\"caxis\":{\"gridcolor\":\"white\",\"linecolor\":\"white\",\"ticks\":\"\"}},\"title\":{\"x\":0.05},\"xaxis\":{\"automargin\":true,\"gridcolor\":\"white\",\"linecolor\":\"white\",\"ticks\":\"\",\"title\":{\"standoff\":15},\"zerolinecolor\":\"white\",\"zerolinewidth\":2},\"yaxis\":{\"automargin\":true,\"gridcolor\":\"white\",\"linecolor\":\"white\",\"ticks\":\"\",\"title\":{\"standoff\":15},\"zerolinecolor\":\"white\",\"zerolinewidth\":2}}},\"xaxis\":{\"anchor\":\"y\",\"domain\":[0.0,0.2888888888888889],\"title\":{\"text\":\"DT_criterion\"}},\"yaxis\":{\"anchor\":\"x\",\"domain\":[0.0,1.0],\"title\":{\"text\":\"Objective Value\"}},\"xaxis2\":{\"anchor\":\"y2\",\"domain\":[0.35555555555555557,0.6444444444444445],\"title\":{\"text\":\"DT_max_depth\"}},\"yaxis2\":{\"anchor\":\"x2\",\"domain\":[0.0,1.0],\"matches\":\"y\",\"showticklabels\":false},\"xaxis3\":{\"anchor\":\"y3\",\"domain\":[0.7111111111111111,1.0],\"title\":{\"text\":\"DT_random_state\"}},\"yaxis3\":{\"anchor\":\"x3\",\"domain\":[0.0,1.0],\"matches\":\"y\",\"showticklabels\":false},\"title\":{\"text\":\"Slice Plot\"}},                        {\"responsive\": true}                    ).then(function(){\n",
              "                            \n",
              "var gd = document.getElementById('40c12aad-0273-4740-b891-0b09ca684343');\n",
              "var x = new MutationObserver(function (mutations, observer) {{\n",
              "        var display = window.getComputedStyle(gd).display;\n",
              "        if (!display || display === 'none') {{\n",
              "            console.log([gd, 'removed!']);\n",
              "            Plotly.purge(gd);\n",
              "            observer.disconnect();\n",
              "        }}\n",
              "}});\n",
              "\n",
              "// Listen for the removal of the full notebook cells\n",
              "var notebookContainer = gd.closest('#notebook-container');\n",
              "if (notebookContainer) {{\n",
              "    x.observe(notebookContainer, {childList: true});\n",
              "}}\n",
              "\n",
              "// Listen for the clearing of the current output cell\n",
              "var outputEl = gd.closest('.output');\n",
              "if (outputEl) {{\n",
              "    x.observe(outputEl, {childList: true});\n",
              "}}\n",
              "\n",
              "                        })                };                            </script>        </div>\n",
              "</body>\n",
              "</html>"
            ]
          },
          "metadata": {}
        }
      ],
      "source": [
        "#Visualize the slice plot\n",
        "optuna.visualization.plot_slice(study, params=['DT_random_state', 'DT_criterion','DT_max_depth'])"
      ]
    },
    {
      "cell_type": "markdown",
      "source": [
        "### **3.3.5. GBM**\n",
        "\n",
        "---\n",
        "\n"
      ],
      "metadata": {
        "id": "KToehxvZFehm"
      }
    },
    {
      "cell_type": "code",
      "execution_count": null,
      "metadata": {
        "id": "W5ctXbyfFehm"
      },
      "outputs": [],
      "source": [
        "#Step 1. Define an objective function to be maximized.\n",
        "def objective(trial):\n",
        "  from sklearn.ensemble import GradientBoostingClassifier\n",
        "\n",
        "  from sklearn.model_selection import RepeatedStratifiedKFold\n",
        "  from sklearn.model_selection import cross_validate\n",
        "\n",
        "  from sklearn.metrics import make_scorer\n",
        "  from sklearn.metrics import matthews_corrcoef\n",
        "\n",
        "  from sklearn.pipeline import make_pipeline\n",
        "  from sklearn.preprocessing import  StandardScaler\n",
        "\n",
        "\n",
        "  scaler = StandardScaler()\n",
        "\n",
        "  scoring = {'matthews_corrcoef': make_scorer(matthews_corrcoef)}\n",
        "  rfold= RepeatedStratifiedKFold(n_splits=10, n_repeats=10)\n",
        "\n",
        "  # Step 2. Setup values for the hyperparameters:\n",
        "\n",
        "  GB_n_estimators = trial.suggest_categorical(\"GB_n_estimators\", [50,100,500,1000])\n",
        "  GB_learning_rate = trial.suggest_categorical(\"GB_learning_rate\", [0.001,0.01,0.1])\n",
        "  GB_min_samples_leaf = trial.suggest_categorical(\"GB_min_samples_leaf\", [1,5,10])\n",
        "  GB_max_depth=trial.suggest_categorical(\"GB_max_depth\", [3,7,9])\n",
        "  GB_loss=trial.suggest_categorical(\"GB_loss\", ['deviance','exponential'])\n",
        "\n",
        "  classifier_obj =GradientBoostingClassifier(n_estimators=GB_n_estimators,learning_rate=GB_learning_rate,min_samples_leaf=GB_min_samples_leaf,max_depth=GB_max_depth,loss=GB_loss)\n",
        "\n",
        "  pipeline = make_pipeline(scaler, classifier_obj)\n",
        "\n",
        "  # Step 3: Scoring method:\n",
        "  score=cross_validate(pipeline, x , y, cv=rfold,scoring=scoring, return_train_score=False)\n",
        "  mcc = score['test_matthews_corrcoef'].mean()\n",
        "  return mcc"
      ]
    },
    {
      "cell_type": "code",
      "execution_count": null,
      "metadata": {
        "colab": {
          "base_uri": "https://localhost:8080/"
        },
        "outputId": "611e7166-d390-49a0-c70f-c1ecb5e44afe",
        "id": "LSBy8p1WFehn"
      },
      "outputs": [
        {
          "output_type": "stream",
          "name": "stderr",
          "text": [
            "\u001b[32m[I 2022-11-04 19:59:37,903]\u001b[0m A new study created in memory with name: no-name-9e5a9bfb-8630-4bd9-bc5c-9f7026f2fd37\u001b[0m\n",
            "\u001b[32m[I 2022-11-04 20:15:58,374]\u001b[0m Trial 0 finished with value: 0.0 and parameters: {'GB_n_estimators': 500, 'GB_learning_rate': 0.001, 'GB_min_samples_leaf': 10, 'GB_max_depth': 9, 'GB_loss': 'exponential'}. Best is trial 0 with value: 0.0.\u001b[0m\n",
            "\u001b[32m[I 2022-11-04 20:18:38,125]\u001b[0m Trial 1 finished with value: 0.0 and parameters: {'GB_n_estimators': 100, 'GB_learning_rate': 0.001, 'GB_min_samples_leaf': 5, 'GB_max_depth': 7, 'GB_loss': 'exponential'}. Best is trial 0 with value: 0.0.\u001b[0m\n",
            "\u001b[32m[I 2022-11-04 20:21:52,018]\u001b[0m Trial 2 finished with value: 0.0 and parameters: {'GB_n_estimators': 100, 'GB_learning_rate': 0.001, 'GB_min_samples_leaf': 5, 'GB_max_depth': 9, 'GB_loss': 'deviance'}. Best is trial 0 with value: 0.0.\u001b[0m\n",
            "\u001b[32m[I 2022-11-04 20:35:47,680]\u001b[0m Trial 3 finished with value: 0.9033259758894373 and parameters: {'GB_n_estimators': 500, 'GB_learning_rate': 0.01, 'GB_min_samples_leaf': 10, 'GB_max_depth': 7, 'GB_loss': 'exponential'}. Best is trial 3 with value: 0.9033259758894373.\u001b[0m\n",
            "\u001b[32m[I 2022-11-04 20:37:11,409]\u001b[0m Trial 4 finished with value: 0.9214245155701508 and parameters: {'GB_n_estimators': 50, 'GB_learning_rate': 0.1, 'GB_min_samples_leaf': 10, 'GB_max_depth': 7, 'GB_loss': 'deviance'}. Best is trial 4 with value: 0.9214245155701508.\u001b[0m\n",
            "\u001b[32m[I 2022-11-04 21:14:09,046]\u001b[0m Trial 5 finished with value: 0.9416562713317006 and parameters: {'GB_n_estimators': 1000, 'GB_learning_rate': 0.01, 'GB_min_samples_leaf': 5, 'GB_max_depth': 9, 'GB_loss': 'exponential'}. Best is trial 5 with value: 0.9416562713317006.\u001b[0m\n",
            "\u001b[32m[I 2022-11-04 21:15:31,061]\u001b[0m Trial 6 finished with value: 0.0 and parameters: {'GB_n_estimators': 50, 'GB_learning_rate': 0.001, 'GB_min_samples_leaf': 1, 'GB_max_depth': 7, 'GB_loss': 'exponential'}. Best is trial 5 with value: 0.9416562713317006.\u001b[0m\n",
            "\u001b[32m[I 2022-11-04 21:45:15,405]\u001b[0m Trial 7 finished with value: 0.9504430473298983 and parameters: {'GB_n_estimators': 1000, 'GB_learning_rate': 0.1, 'GB_min_samples_leaf': 1, 'GB_max_depth': 7, 'GB_loss': 'deviance'}. Best is trial 7 with value: 0.9504430473298983.\u001b[0m\n",
            "\u001b[32m[I 2022-11-04 21:59:43,444]\u001b[0m Trial 8 finished with value: 0.95071889435186 and parameters: {'GB_n_estimators': 500, 'GB_learning_rate': 0.1, 'GB_min_samples_leaf': 10, 'GB_max_depth': 7, 'GB_loss': 'exponential'}. Best is trial 8 with value: 0.95071889435186.\u001b[0m\n",
            "\u001b[32m[I 2022-11-04 22:28:39,766]\u001b[0m Trial 9 finished with value: 0.9345649812574781 and parameters: {'GB_n_estimators': 1000, 'GB_learning_rate': 0.01, 'GB_min_samples_leaf': 10, 'GB_max_depth': 7, 'GB_loss': 'exponential'}. Best is trial 8 with value: 0.95071889435186.\u001b[0m\n",
            "\u001b[32m[I 2022-11-04 22:35:26,022]\u001b[0m Trial 10 finished with value: 0.9381028529782163 and parameters: {'GB_n_estimators': 500, 'GB_learning_rate': 0.1, 'GB_min_samples_leaf': 10, 'GB_max_depth': 3, 'GB_loss': 'exponential'}. Best is trial 8 with value: 0.95071889435186.\u001b[0m\n",
            "\u001b[32m[I 2022-11-04 22:48:52,238]\u001b[0m Trial 11 finished with value: 0.9491901098555718 and parameters: {'GB_n_estimators': 1000, 'GB_learning_rate': 0.1, 'GB_min_samples_leaf': 1, 'GB_max_depth': 3, 'GB_loss': 'deviance'}. Best is trial 8 with value: 0.95071889435186.\u001b[0m\n",
            "\u001b[32m[I 2022-11-04 23:18:54,304]\u001b[0m Trial 12 finished with value: 0.950902542271046 and parameters: {'GB_n_estimators': 1000, 'GB_learning_rate': 0.1, 'GB_min_samples_leaf': 1, 'GB_max_depth': 7, 'GB_loss': 'deviance'}. Best is trial 12 with value: 0.950902542271046.\u001b[0m\n",
            "\u001b[32m[I 2022-11-04 23:33:48,822]\u001b[0m Trial 13 finished with value: 0.9488086140467962 and parameters: {'GB_n_estimators': 500, 'GB_learning_rate': 0.1, 'GB_min_samples_leaf': 1, 'GB_max_depth': 7, 'GB_loss': 'deviance'}. Best is trial 12 with value: 0.950902542271046.\u001b[0m\n",
            "\u001b[32m[I 2022-11-05 00:03:33,043]\u001b[0m Trial 14 finished with value: 0.950532056155817 and parameters: {'GB_n_estimators': 1000, 'GB_learning_rate': 0.1, 'GB_min_samples_leaf': 1, 'GB_max_depth': 7, 'GB_loss': 'deviance'}. Best is trial 12 with value: 0.950902542271046.\u001b[0m\n",
            "\u001b[32m[I 2022-11-05 00:10:11,754]\u001b[0m Trial 15 finished with value: 0.9442374837425039 and parameters: {'GB_n_estimators': 500, 'GB_learning_rate': 0.1, 'GB_min_samples_leaf': 10, 'GB_max_depth': 3, 'GB_loss': 'deviance'}. Best is trial 12 with value: 0.950902542271046.\u001b[0m\n",
            "\u001b[32m[I 2022-11-05 00:13:10,063]\u001b[0m Trial 16 finished with value: 0.9303008225777858 and parameters: {'GB_n_estimators': 100, 'GB_learning_rate': 0.1, 'GB_min_samples_leaf': 1, 'GB_max_depth': 7, 'GB_loss': 'exponential'}. Best is trial 12 with value: 0.950902542271046.\u001b[0m\n",
            "\u001b[32m[I 2022-11-05 00:14:32,727]\u001b[0m Trial 17 finished with value: 0.9172669346601502 and parameters: {'GB_n_estimators': 50, 'GB_learning_rate': 0.1, 'GB_min_samples_leaf': 1, 'GB_max_depth': 7, 'GB_loss': 'deviance'}. Best is trial 12 with value: 0.950902542271046.\u001b[0m\n",
            "\u001b[32m[I 2022-11-05 00:28:00,620]\u001b[0m Trial 18 finished with value: 0.9470885228305042 and parameters: {'GB_n_estimators': 1000, 'GB_learning_rate': 0.1, 'GB_min_samples_leaf': 10, 'GB_max_depth': 3, 'GB_loss': 'exponential'}. Best is trial 12 with value: 0.950902542271046.\u001b[0m\n",
            "\u001b[32m[I 2022-11-05 00:45:01,487]\u001b[0m Trial 19 finished with value: 0.9302760657614578 and parameters: {'GB_n_estimators': 500, 'GB_learning_rate': 0.01, 'GB_min_samples_leaf': 5, 'GB_max_depth': 9, 'GB_loss': 'deviance'}. Best is trial 12 with value: 0.950902542271046.\u001b[0m\n",
            "\u001b[32m[I 2022-11-05 01:14:02,838]\u001b[0m Trial 20 finished with value: 0.9512144547024072 and parameters: {'GB_n_estimators': 1000, 'GB_learning_rate': 0.1, 'GB_min_samples_leaf': 10, 'GB_max_depth': 7, 'GB_loss': 'exponential'}. Best is trial 20 with value: 0.9512144547024072.\u001b[0m\n",
            "\u001b[32m[I 2022-11-05 01:43:03,110]\u001b[0m Trial 21 finished with value: 0.9510375927519393 and parameters: {'GB_n_estimators': 1000, 'GB_learning_rate': 0.1, 'GB_min_samples_leaf': 10, 'GB_max_depth': 7, 'GB_loss': 'exponential'}. Best is trial 20 with value: 0.9512144547024072.\u001b[0m\n",
            "\u001b[32m[I 2022-11-05 02:12:03,446]\u001b[0m Trial 22 finished with value: 0.9512294850318328 and parameters: {'GB_n_estimators': 1000, 'GB_learning_rate': 0.1, 'GB_min_samples_leaf': 10, 'GB_max_depth': 7, 'GB_loss': 'exponential'}. Best is trial 22 with value: 0.9512294850318328.\u001b[0m\n"
          ]
        }
      ],
      "source": [
        "# Step 4: Running it\n",
        "study = optuna.create_study(direction=\"maximize\")\n",
        "study.optimize(objective, n_trials=50)"
      ]
    },
    {
      "cell_type": "code",
      "execution_count": null,
      "metadata": {
        "id": "Tb5Ek6zGFehn"
      },
      "outputs": [],
      "source": [
        "def get_Optimized_Parmaters():\n",
        "\n",
        "  # Getting the best trial:\n",
        "  print(f\"The best trial is : \\n{study.best_trial}\")\n",
        "\n",
        "  # Getting the best score:\n",
        "  print(f\"The best value is : \\n{study.best_value}\")\n",
        "\n",
        "  # Getting the best parameters:\n",
        "  print(f\"The best parameters are : \\n{study.best_params}\")\n",
        "\n",
        "  #Visualize the slice plot\n",
        "  optuna.visualization.plot_slice(study, params=['GB_n_estimators','GB_learning_rate','GB_min_samples_leaf','GB_max_depth','GB_loss'])"
      ]
    },
    {
      "cell_type": "code",
      "execution_count": null,
      "metadata": {
        "id": "4VVdht-AFehn"
      },
      "outputs": [],
      "source": [
        "get_Optimized_Parmaters()"
      ]
    },
    {
      "cell_type": "code",
      "execution_count": null,
      "metadata": {
        "id": "oCLmBhyWFehn"
      },
      "outputs": [],
      "source": [
        "# Getting the best trial:\n",
        "print(f\"The best trial is : \\n{study.best_trial}\")"
      ]
    },
    {
      "cell_type": "code",
      "execution_count": null,
      "metadata": {
        "id": "RGMqMuxZFehn"
      },
      "outputs": [],
      "source": [
        "# Getting the best score:\n",
        "print(f\"The best value is : \\n{study.best_value}\")"
      ]
    },
    {
      "cell_type": "code",
      "execution_count": null,
      "metadata": {
        "id": "RtgCCY9UFeho"
      },
      "outputs": [],
      "source": [
        "# Getting the best parameters:\n",
        "print(f\"The best parameters are : \\n{study.best_params}\")"
      ]
    },
    {
      "cell_type": "code",
      "execution_count": null,
      "metadata": {
        "id": "uXxOyapUFeho"
      },
      "outputs": [],
      "source": [
        "#Visualize the slice plot\n",
        "optuna.visualization.plot_slice(study, params=['GB_n_estimators','GB_learning_rate','GB_min_samples_leaf','GB_max_depth','GB_loss'])"
      ]
    },
    {
      "cell_type": "markdown",
      "source": [
        "### **3.3.6. XGB**\n",
        " * https://xgboost.readthedocs.io/en/stable/python/python_api.html#module-xgboost.sklearn\n",
        "---\n",
        "\n"
      ],
      "metadata": {
        "id": "FWQwY0asR1kR"
      }
    },
    {
      "cell_type": "code",
      "execution_count": null,
      "metadata": {
        "id": "WyQkHphMR1kR"
      },
      "outputs": [],
      "source": [
        "#Step 1. Define an objective function to be maximized.\n",
        "def objective(trial):\n",
        "  from xgboost import XGBClassifier\n",
        "\n",
        "  from sklearn.model_selection import RepeatedStratifiedKFold\n",
        "  from sklearn.model_selection import cross_validate\n",
        "\n",
        "  from sklearn.metrics import make_scorer\n",
        "  from sklearn.metrics import matthews_corrcoef\n",
        "\n",
        "  from sklearn.pipeline import make_pipeline\n",
        "  from sklearn.preprocessing import  StandardScaler\n",
        "\n",
        "\n",
        "  scaler = StandardScaler()\n",
        "\n",
        "  scoring = {'matthews_corrcoef': make_scorer(matthews_corrcoef)}\n",
        "  rfold= RepeatedStratifiedKFold(n_splits=10, n_repeats=10)\n",
        "\n",
        "  # Step 2. Setup values for the hyperparameters:\n",
        "\n",
        "  XGB_n_estimators = trial.suggest_categorical(\"XGB_n_estimators\", [100,300,500,700,900])\n",
        "  XGB_learning_rate = trial.suggest_float(\"XGB_learning_rate\", 0.1,0.7)\n",
        "  XGB_max_depth=trial.suggest_int(\"XGB_max_depth\", 3,7)\n",
        "  XGB_random_state = trial.suggest_int(\"XGB_random_state\", 0,42)\n",
        "\n",
        "  classifier_obj =XGBClassifier(n_estimators=XGB_n_estimators,learning_rate=XGB_learning_rate,max_depth=XGB_max_depth, random_state=XGB_random_state)\n",
        "\n",
        "  pipeline = make_pipeline(scaler, classifier_obj)\n",
        "\n",
        "  # Step 3: Scoring method:\n",
        "  score=cross_validate(pipeline, x , y, cv=rfold,scoring=scoring, return_train_score=False)\n",
        "  mcc = score['test_matthews_corrcoef'].mean()\n",
        "  return mcc"
      ]
    },
    {
      "cell_type": "code",
      "execution_count": null,
      "metadata": {
        "colab": {
          "base_uri": "https://localhost:8080/"
        },
        "outputId": "952b1f6f-cab8-4e22-c15a-99e5ccb1298a",
        "id": "5W8wvd6hR1kR"
      },
      "outputs": [
        {
          "output_type": "stream",
          "name": "stderr",
          "text": [
            "\u001b[32m[I 2022-11-05 18:07:16,880]\u001b[0m A new study created in memory with name: no-name-4ea31841-78f8-4518-ab00-2aa0f12386ae\u001b[0m\n",
            "\u001b[32m[I 2022-11-05 18:07:48,240]\u001b[0m Trial 0 finished with value: 0.881730137578108 and parameters: {'XGB_n_estimators': 100, 'XGB_learning_rate': 0.33116162101885166, 'XGB_max_depth': 3, 'XGB_random_state': 25}. Best is trial 0 with value: 0.881730137578108.\u001b[0m\n",
            "\u001b[32m[I 2022-11-05 18:08:20,393]\u001b[0m Trial 1 finished with value: 0.8983542850033086 and parameters: {'XGB_n_estimators': 100, 'XGB_learning_rate': 0.34194878246945604, 'XGB_max_depth': 3, 'XGB_random_state': 36}. Best is trial 1 with value: 0.8983542850033086.\u001b[0m\n",
            "\u001b[32m[I 2022-11-05 18:13:30,625]\u001b[0m Trial 2 finished with value: 0.9082840872953666 and parameters: {'XGB_n_estimators': 700, 'XGB_learning_rate': 0.6857989009271866, 'XGB_max_depth': 6, 'XGB_random_state': 9}. Best is trial 2 with value: 0.9082840872953666.\u001b[0m\n",
            "\u001b[32m[I 2022-11-05 18:16:00,394]\u001b[0m Trial 3 finished with value: 0.8771612095943678 and parameters: {'XGB_n_estimators': 500, 'XGB_learning_rate': 0.11229318401669015, 'XGB_max_depth': 3, 'XGB_random_state': 34}. Best is trial 2 with value: 0.9082840872953666.\u001b[0m\n",
            "\u001b[32m[I 2022-11-05 18:18:24,899]\u001b[0m Trial 4 finished with value: 0.8957136725928837 and parameters: {'XGB_n_estimators': 300, 'XGB_learning_rate': 0.5796848736443512, 'XGB_max_depth': 6, 'XGB_random_state': 35}. Best is trial 2 with value: 0.9082840872953666.\u001b[0m\n",
            "\u001b[32m[I 2022-11-05 18:19:26,388]\u001b[0m Trial 5 finished with value: 0.9214723873690975 and parameters: {'XGB_n_estimators': 100, 'XGB_learning_rate': 0.4561448822847649, 'XGB_max_depth': 7, 'XGB_random_state': 17}. Best is trial 5 with value: 0.9214723873690975.\u001b[0m\n",
            "\u001b[32m[I 2022-11-05 18:26:29,558]\u001b[0m Trial 6 finished with value: 0.8916750058899775 and parameters: {'XGB_n_estimators': 900, 'XGB_learning_rate': 0.6103174379874438, 'XGB_max_depth': 7, 'XGB_random_state': 41}. Best is trial 5 with value: 0.9214723873690975.\u001b[0m\n",
            "\u001b[32m[I 2022-11-05 18:32:15,887]\u001b[0m Trial 7 finished with value: 0.8887931762967074 and parameters: {'XGB_n_estimators': 700, 'XGB_learning_rate': 0.20141038103281186, 'XGB_max_depth': 6, 'XGB_random_state': 1}. Best is trial 5 with value: 0.9214723873690975.\u001b[0m\n",
            "\u001b[32m[I 2022-11-05 18:34:57,976]\u001b[0m Trial 8 finished with value: 0.9073726663789156 and parameters: {'XGB_n_estimators': 300, 'XGB_learning_rate': 0.4757674315909143, 'XGB_max_depth': 7, 'XGB_random_state': 26}. Best is trial 5 with value: 0.9214723873690975.\u001b[0m\n",
            "\u001b[32m[I 2022-11-05 18:40:24,763]\u001b[0m Trial 9 finished with value: 0.8878173847322154 and parameters: {'XGB_n_estimators': 900, 'XGB_learning_rate': 0.1734219165480593, 'XGB_max_depth': 4, 'XGB_random_state': 26}. Best is trial 5 with value: 0.9214723873690975.\u001b[0m\n",
            "\u001b[32m[I 2022-11-05 18:41:10,449]\u001b[0m Trial 10 finished with value: 0.9101271037208511 and parameters: {'XGB_n_estimators': 100, 'XGB_learning_rate': 0.46146846366030425, 'XGB_max_depth': 5, 'XGB_random_state': 13}. Best is trial 5 with value: 0.9214723873690975.\u001b[0m\n",
            "\u001b[32m[I 2022-11-05 18:41:56,668]\u001b[0m Trial 11 finished with value: 0.9169001514349044 and parameters: {'XGB_n_estimators': 100, 'XGB_learning_rate': 0.44642285473165594, 'XGB_max_depth': 5, 'XGB_random_state': 11}. Best is trial 5 with value: 0.9214723873690975.\u001b[0m\n",
            "\u001b[32m[I 2022-11-05 18:42:41,986]\u001b[0m Trial 12 finished with value: 0.9021308594800053 and parameters: {'XGB_n_estimators': 100, 'XGB_learning_rate': 0.43371079543632085, 'XGB_max_depth': 5, 'XGB_random_state': 15}. Best is trial 5 with value: 0.9214723873690975.\u001b[0m\n",
            "\u001b[32m[I 2022-11-05 18:43:20,207]\u001b[0m Trial 13 finished with value: 0.8782947665912821 and parameters: {'XGB_n_estimators': 100, 'XGB_learning_rate': 0.5404546034731127, 'XGB_max_depth': 4, 'XGB_random_state': 4}. Best is trial 5 with value: 0.9214723873690975.\u001b[0m\n",
            "\u001b[32m[I 2022-11-05 18:46:24,544]\u001b[0m Trial 14 finished with value: 0.9017923386481178 and parameters: {'XGB_n_estimators': 500, 'XGB_learning_rate': 0.33300734232968254, 'XGB_max_depth': 4, 'XGB_random_state': 18}. Best is trial 5 with value: 0.9214723873690975.\u001b[0m\n",
            "\u001b[32m[I 2022-11-05 18:47:17,310]\u001b[0m Trial 15 finished with value: 0.900243555645633 and parameters: {'XGB_n_estimators': 100, 'XGB_learning_rate': 0.379652483556248, 'XGB_max_depth': 6, 'XGB_random_state': 10}. Best is trial 5 with value: 0.9214723873690975.\u001b[0m\n",
            "\u001b[32m[I 2022-11-05 18:48:16,818]\u001b[0m Trial 16 finished with value: 0.9219747578450265 and parameters: {'XGB_n_estimators': 100, 'XGB_learning_rate': 0.513713483627989, 'XGB_max_depth': 7, 'XGB_random_state': 19}. Best is trial 16 with value: 0.9219747578450265.\u001b[0m\n",
            "\u001b[32m[I 2022-11-05 18:49:18,265]\u001b[0m Trial 17 finished with value: 0.9161023537948147 and parameters: {'XGB_n_estimators': 100, 'XGB_learning_rate': 0.5153840495617336, 'XGB_max_depth': 7, 'XGB_random_state': 21}. Best is trial 16 with value: 0.9219747578450265.\u001b[0m\n",
            "\u001b[32m[I 2022-11-05 18:53:32,278]\u001b[0m Trial 18 finished with value: 0.895629475350332 and parameters: {'XGB_n_estimators': 500, 'XGB_learning_rate': 0.655429953425688, 'XGB_max_depth': 7, 'XGB_random_state': 18}. Best is trial 16 with value: 0.9219747578450265.\u001b[0m\n",
            "\u001b[32m[I 2022-11-05 18:59:46,456]\u001b[0m Trial 19 finished with value: 0.8839744850059535 and parameters: {'XGB_n_estimators': 700, 'XGB_learning_rate': 0.257729858322291, 'XGB_max_depth': 7, 'XGB_random_state': 22}. Best is trial 16 with value: 0.9219747578450265.\u001b[0m\n",
            "\u001b[32m[I 2022-11-05 19:02:18,904]\u001b[0m Trial 20 finished with value: 0.883285699501726 and parameters: {'XGB_n_estimators': 300, 'XGB_learning_rate': 0.5406952457226148, 'XGB_max_depth': 6, 'XGB_random_state': 30}. Best is trial 16 with value: 0.9219747578450265.\u001b[0m\n",
            "\u001b[32m[I 2022-11-05 19:03:04,789]\u001b[0m Trial 21 finished with value: 0.8973195953922348 and parameters: {'XGB_n_estimators': 100, 'XGB_learning_rate': 0.3979405244632823, 'XGB_max_depth': 5, 'XGB_random_state': 9}. Best is trial 16 with value: 0.9219747578450265.\u001b[0m\n",
            "\u001b[32m[I 2022-11-05 19:03:50,360]\u001b[0m Trial 22 finished with value: 0.9145151199413551 and parameters: {'XGB_n_estimators': 100, 'XGB_learning_rate': 0.47993604342331264, 'XGB_max_depth': 5, 'XGB_random_state': 14}. Best is trial 16 with value: 0.9219747578450265.\u001b[0m\n",
            "\u001b[32m[I 2022-11-05 19:04:41,431]\u001b[0m Trial 23 finished with value: 0.8789429711527713 and parameters: {'XGB_n_estimators': 100, 'XGB_learning_rate': 0.6011638536551424, 'XGB_max_depth': 6, 'XGB_random_state': 18}. Best is trial 16 with value: 0.9219747578450265.\u001b[0m\n",
            "\u001b[32m[I 2022-11-05 19:05:41,717]\u001b[0m Trial 24 finished with value: 0.893723938856228 and parameters: {'XGB_n_estimators': 100, 'XGB_learning_rate': 0.435079534709438, 'XGB_max_depth': 7, 'XGB_random_state': 5}. Best is trial 16 with value: 0.9219747578450265.\u001b[0m\n",
            "\u001b[32m[I 2022-11-05 19:11:04,113]\u001b[0m Trial 25 finished with value: 0.90784311686569 and parameters: {'XGB_n_estimators': 900, 'XGB_learning_rate': 0.2768909941793104, 'XGB_max_depth': 4, 'XGB_random_state': 12}. Best is trial 16 with value: 0.9219747578450265.\u001b[0m\n",
            "\u001b[32m[I 2022-11-05 19:11:55,526]\u001b[0m Trial 26 finished with value: 0.9127255325062785 and parameters: {'XGB_n_estimators': 100, 'XGB_learning_rate': 0.5137316427299362, 'XGB_max_depth': 6, 'XGB_random_state': 6}. Best is trial 16 with value: 0.9219747578450265.\u001b[0m\n",
            "\u001b[32m[I 2022-11-05 19:12:41,749]\u001b[0m Trial 27 finished with value: 0.9123784422524107 and parameters: {'XGB_n_estimators': 100, 'XGB_learning_rate': 0.40485061381307197, 'XGB_max_depth': 5, 'XGB_random_state': 17}. Best is trial 16 with value: 0.9219747578450265.\u001b[0m\n",
            "\u001b[32m[I 2022-11-05 19:13:43,182]\u001b[0m Trial 28 finished with value: 0.8957446321508435 and parameters: {'XGB_n_estimators': 100, 'XGB_learning_rate': 0.566665620144911, 'XGB_max_depth': 7, 'XGB_random_state': 22}. Best is trial 16 with value: 0.9219747578450265.\u001b[0m\n",
            "\u001b[32m[I 2022-11-05 19:14:30,410]\u001b[0m Trial 29 finished with value: 0.9132438735805753 and parameters: {'XGB_n_estimators': 100, 'XGB_learning_rate': 0.3713411425432859, 'XGB_max_depth': 5, 'XGB_random_state': 24}. Best is trial 16 with value: 0.9219747578450265.\u001b[0m\n",
            "\u001b[32m[I 2022-11-05 19:20:04,514]\u001b[0m Trial 30 finished with value: 0.8998536183633976 and parameters: {'XGB_n_estimators': 700, 'XGB_learning_rate': 0.29492888745134704, 'XGB_max_depth': 6, 'XGB_random_state': 29}. Best is trial 16 with value: 0.9219747578450265.\u001b[0m\n",
            "\u001b[32m[I 2022-11-05 19:21:03,172]\u001b[0m Trial 31 finished with value: 0.9210766341726233 and parameters: {'XGB_n_estimators': 100, 'XGB_learning_rate': 0.5210467339751904, 'XGB_max_depth': 7, 'XGB_random_state': 19}. Best is trial 16 with value: 0.9219747578450265.\u001b[0m\n",
            "\u001b[32m[I 2022-11-05 19:22:03,701]\u001b[0m Trial 32 finished with value: 0.9176949203438792 and parameters: {'XGB_n_estimators': 100, 'XGB_learning_rate': 0.503754524630985, 'XGB_max_depth': 7, 'XGB_random_state': 20}. Best is trial 16 with value: 0.9219747578450265.\u001b[0m\n",
            "\u001b[32m[I 2022-11-05 19:23:02,674]\u001b[0m Trial 33 finished with value: 0.9141244884223576 and parameters: {'XGB_n_estimators': 100, 'XGB_learning_rate': 0.49991738644013517, 'XGB_max_depth': 7, 'XGB_random_state': 16}. Best is trial 16 with value: 0.9219747578450265.\u001b[0m\n",
            "\u001b[32m[I 2022-11-05 19:24:01,783]\u001b[0m Trial 34 finished with value: 0.8939094743479832 and parameters: {'XGB_n_estimators': 100, 'XGB_learning_rate': 0.639351147619222, 'XGB_max_depth': 7, 'XGB_random_state': 20}. Best is trial 16 with value: 0.9219747578450265.\u001b[0m\n",
            "\u001b[32m[I 2022-11-05 19:28:18,908]\u001b[0m Trial 35 finished with value: 0.8797935227747823 and parameters: {'XGB_n_estimators': 500, 'XGB_learning_rate': 0.5520030514289309, 'XGB_max_depth': 7, 'XGB_random_state': 29}. Best is trial 16 with value: 0.9219747578450265.\u001b[0m\n",
            "\u001b[32m[I 2022-11-05 19:31:01,256]\u001b[0m Trial 36 finished with value: 0.8769762645975787 and parameters: {'XGB_n_estimators': 300, 'XGB_learning_rate': 0.5886145824718608, 'XGB_max_depth': 7, 'XGB_random_state': 25}. Best is trial 16 with value: 0.9219747578450265.\u001b[0m\n",
            "\u001b[32m[I 2022-11-05 19:38:24,880]\u001b[0m Trial 37 finished with value: 0.9121199409959704 and parameters: {'XGB_n_estimators': 900, 'XGB_learning_rate': 0.49815371720530816, 'XGB_max_depth': 7, 'XGB_random_state': 20}. Best is trial 16 with value: 0.9219747578450265.\u001b[0m\n",
            "\u001b[32m[I 2022-11-05 19:39:16,851]\u001b[0m Trial 38 finished with value: 0.8995047676545443 and parameters: {'XGB_n_estimators': 100, 'XGB_learning_rate': 0.6754494613151963, 'XGB_max_depth': 6, 'XGB_random_state': 23}. Best is trial 16 with value: 0.9219747578450265.\u001b[0m\n",
            "\u001b[32m[I 2022-11-05 19:44:53,625]\u001b[0m Trial 39 finished with value: 0.887876676457918 and parameters: {'XGB_n_estimators': 700, 'XGB_learning_rate': 0.6283133698644657, 'XGB_max_depth': 7, 'XGB_random_state': 33}. Best is trial 16 with value: 0.9219747578450265.\u001b[0m\n",
            "\u001b[32m[I 2022-11-05 19:45:46,375]\u001b[0m Trial 40 finished with value: 0.905851760360482 and parameters: {'XGB_n_estimators': 100, 'XGB_learning_rate': 0.4127243156153083, 'XGB_max_depth': 6, 'XGB_random_state': 27}. Best is trial 16 with value: 0.9219747578450265.\u001b[0m\n",
            "\u001b[32m[I 2022-11-05 19:46:47,907]\u001b[0m Trial 41 finished with value: 0.9104192930177833 and parameters: {'XGB_n_estimators': 100, 'XGB_learning_rate': 0.45176045648206137, 'XGB_max_depth': 7, 'XGB_random_state': 10}. Best is trial 16 with value: 0.9219747578450265.\u001b[0m\n",
            "\u001b[32m[I 2022-11-05 19:47:19,775]\u001b[0m Trial 42 finished with value: 0.912931258626369 and parameters: {'XGB_n_estimators': 100, 'XGB_learning_rate': 0.47137178001538665, 'XGB_max_depth': 3, 'XGB_random_state': 13}. Best is trial 16 with value: 0.9219747578450265.\u001b[0m\n",
            "\u001b[32m[I 2022-11-05 19:48:19,081]\u001b[0m Trial 43 finished with value: 0.9213221198562748 and parameters: {'XGB_n_estimators': 100, 'XGB_learning_rate': 0.524027567895713, 'XGB_max_depth': 7, 'XGB_random_state': 15}. Best is trial 16 with value: 0.9219747578450265.\u001b[0m\n",
            "\u001b[32m[I 2022-11-05 19:51:01,463]\u001b[0m Trial 44 finished with value: 0.9069253855609688 and parameters: {'XGB_n_estimators': 300, 'XGB_learning_rate': 0.5247313635509036, 'XGB_max_depth': 7, 'XGB_random_state': 15}. Best is trial 16 with value: 0.9219747578450265.\u001b[0m\n",
            "\u001b[32m[I 2022-11-05 19:51:59,575]\u001b[0m Trial 45 finished with value: 0.8866493509720281 and parameters: {'XGB_n_estimators': 100, 'XGB_learning_rate': 0.5773823620436148, 'XGB_max_depth': 7, 'XGB_random_state': 19}. Best is trial 16 with value: 0.9219747578450265.\u001b[0m\n",
            "\u001b[32m[I 2022-11-05 19:58:51,292]\u001b[0m Trial 46 finished with value: 0.9094250429634658 and parameters: {'XGB_n_estimators': 900, 'XGB_learning_rate': 0.48593050131729315, 'XGB_max_depth': 6, 'XGB_random_state': 16}. Best is trial 16 with value: 0.9219747578450265.\u001b[0m\n",
            "\u001b[32m[I 2022-11-05 19:59:49,442]\u001b[0m Trial 47 finished with value: 0.879885027475389 and parameters: {'XGB_n_estimators': 100, 'XGB_learning_rate': 0.5617025431396686, 'XGB_max_depth': 7, 'XGB_random_state': 13}. Best is trial 16 with value: 0.9219747578450265.\u001b[0m\n",
            "\u001b[32m[I 2022-11-05 20:04:10,263]\u001b[0m Trial 48 finished with value: 0.9181230109148618 and parameters: {'XGB_n_estimators': 500, 'XGB_learning_rate': 0.5240690854599712, 'XGB_max_depth': 7, 'XGB_random_state': 40}. Best is trial 16 with value: 0.9219747578450265.\u001b[0m\n",
            "\u001b[32m[I 2022-11-05 20:08:03,206]\u001b[0m Trial 49 finished with value: 0.8891551345093225 and parameters: {'XGB_n_estimators': 500, 'XGB_learning_rate': 0.6138947218753302, 'XGB_max_depth': 6, 'XGB_random_state': 42}. Best is trial 16 with value: 0.9219747578450265.\u001b[0m\n"
          ]
        }
      ],
      "source": [
        "# Step 4: Running it\n",
        "study = optuna.create_study(direction=\"maximize\")\n",
        "study.optimize(objective, n_trials=50)"
      ]
    },
    {
      "cell_type": "code",
      "execution_count": null,
      "metadata": {
        "id": "0lSTopb6R1kS"
      },
      "outputs": [],
      "source": [
        "def get_Optimized_Parmaters():\n",
        "\n",
        "  # Getting the best trial:\n",
        "  print(f\"The best trial is : \\n{study.best_trial}\")\n",
        "\n",
        "  # Getting the best score:\n",
        "  print(f\"The best value is : \\n{study.best_value}\")\n",
        "\n",
        "  # Getting the best parameters:\n",
        "  print(f\"The best parameters are : \\n{study.best_params}\")\n",
        "\n",
        "  #Visualize the slice plot\n",
        "  optuna.visualization.plot_slice(study, params=['XGB_n_estimators','XGB_learning_rate','XGB_max_depth','XGB_random_state'])"
      ]
    },
    {
      "cell_type": "code",
      "execution_count": null,
      "metadata": {
        "id": "y_rSpxRsR1kS",
        "colab": {
          "base_uri": "https://localhost:8080/"
        },
        "outputId": "9f41b377-f892-45f6-b5d7-294d4c3bbb0e"
      },
      "outputs": [
        {
          "output_type": "stream",
          "name": "stdout",
          "text": [
            "The best trial is : \n",
            "FrozenTrial(number=16, values=[0.9219747578450265], datetime_start=datetime.datetime(2022, 11, 5, 18, 47, 17, 312500), datetime_complete=datetime.datetime(2022, 11, 5, 18, 48, 16, 817930), params={'XGB_n_estimators': 100, 'XGB_learning_rate': 0.513713483627989, 'XGB_max_depth': 7, 'XGB_random_state': 19}, distributions={'XGB_n_estimators': CategoricalDistribution(choices=(100, 300, 500, 700, 900)), 'XGB_learning_rate': FloatDistribution(high=0.7, log=False, low=0.1, step=None), 'XGB_max_depth': IntDistribution(high=7, log=False, low=3, step=1), 'XGB_random_state': IntDistribution(high=42, log=False, low=0, step=1)}, user_attrs={}, system_attrs={}, intermediate_values={}, trial_id=16, state=TrialState.COMPLETE, value=None)\n",
            "The best value is : \n",
            "0.9219747578450265\n",
            "The best parameters are : \n",
            "{'XGB_n_estimators': 100, 'XGB_learning_rate': 0.513713483627989, 'XGB_max_depth': 7, 'XGB_random_state': 19}\n"
          ]
        }
      ],
      "source": [
        "get_Optimized_Parmaters()"
      ]
    },
    {
      "cell_type": "code",
      "execution_count": null,
      "metadata": {
        "id": "q03SOLcUR1kS",
        "colab": {
          "base_uri": "https://localhost:8080/"
        },
        "outputId": "e5b038b5-0f0b-4bf0-acb6-308e2e395555"
      },
      "outputs": [
        {
          "output_type": "stream",
          "name": "stdout",
          "text": [
            "The best trial is : \n",
            "FrozenTrial(number=1, values=[0.9213258757657282], datetime_start=datetime.datetime(2022, 11, 5, 15, 4, 25, 514656), datetime_complete=datetime.datetime(2022, 11, 5, 15, 6, 28, 732260), params={'XGB_n_estimators': 326, 'XGB_learning_rate': 0.45172512178720314, 'XGB_max_depth': 4}, distributions={'XGB_n_estimators': IntDistribution(high=1000, log=False, low=100, step=1), 'XGB_learning_rate': FloatDistribution(high=0.5, log=False, low=0.1, step=None), 'XGB_max_depth': IntDistribution(high=6, log=False, low=3, step=1)}, user_attrs={}, system_attrs={}, intermediate_values={}, trial_id=1, state=TrialState.COMPLETE, value=None)\n"
          ]
        }
      ],
      "source": [
        "# Getting the best trial:\n",
        "print(f\"The best trial is : \\n{study.best_trial}\")"
      ]
    },
    {
      "cell_type": "code",
      "execution_count": null,
      "metadata": {
        "id": "F3HR5PdXR1kS",
        "colab": {
          "base_uri": "https://localhost:8080/"
        },
        "outputId": "e1c09cec-7c9f-46b5-e5db-4a488e2057cb"
      },
      "outputs": [
        {
          "output_type": "stream",
          "name": "stdout",
          "text": [
            "The best value is : \n",
            "0.9213258757657282\n"
          ]
        }
      ],
      "source": [
        "# Getting the best score:\n",
        "print(f\"The best value is : \\n{study.best_value}\")"
      ]
    },
    {
      "cell_type": "code",
      "execution_count": null,
      "metadata": {
        "id": "EnFVDpcKR1kS",
        "colab": {
          "base_uri": "https://localhost:8080/"
        },
        "outputId": "dcb58a68-82dc-45a4-c9e3-1d76ef33c9ce"
      },
      "outputs": [
        {
          "output_type": "stream",
          "name": "stdout",
          "text": [
            "The best parameters are : \n",
            "{'XGB_n_estimators': 326, 'XGB_learning_rate': 0.45172512178720314, 'XGB_max_depth': 4}\n"
          ]
        }
      ],
      "source": [
        "# Getting the best parameters:\n",
        "print(f\"The best parameters are : \\n{study.best_params}\")"
      ]
    },
    {
      "cell_type": "code",
      "execution_count": null,
      "metadata": {
        "id": "Xi2bd_9HR1kS",
        "colab": {
          "base_uri": "https://localhost:8080/",
          "height": 542
        },
        "outputId": "b21e3b8c-02c0-4c42-9b2f-7ff10df3008f"
      },
      "outputs": [
        {
          "output_type": "display_data",
          "data": {
            "text/html": [
              "<html>\n",
              "<head><meta charset=\"utf-8\" /></head>\n",
              "<body>\n",
              "    <div>            <script src=\"https://cdnjs.cloudflare.com/ajax/libs/mathjax/2.7.5/MathJax.js?config=TeX-AMS-MML_SVG\"></script><script type=\"text/javascript\">if (window.MathJax) {MathJax.Hub.Config({SVG: {font: \"STIX-Web\"}});}</script>                <script type=\"text/javascript\">window.PlotlyConfig = {MathJaxConfig: 'local'};</script>\n",
              "        <script src=\"https://cdn.plot.ly/plotly-2.8.3.min.js\"></script>                <div id=\"1cc69789-8544-422c-a0cf-52cbd97a4461\" class=\"plotly-graph-div\" style=\"height:525px; width:100%;\"></div>            <script type=\"text/javascript\">                                    window.PLOTLYENV=window.PLOTLYENV || {};                                    if (document.getElementById(\"1cc69789-8544-422c-a0cf-52cbd97a4461\")) {                    Plotly.newPlot(                        \"1cc69789-8544-422c-a0cf-52cbd97a4461\",                        [{\"marker\":{\"color\":[0,1,2,3,4,5,6,7,8,9,10,11,12,13,14,15,16,17,18,19,20,21,22,23,24,25,26,27,28,29,30,31,32,33,34,35,36,37,38,39,40,41,42,43,44,45,46,47,48,49],\"colorbar\":{\"title\":{\"text\":\"Trial\"},\"x\":1.0,\"xpad\":40},\"colorscale\":[[0.0,\"rgb(247,251,255)\"],[0.125,\"rgb(222,235,247)\"],[0.25,\"rgb(198,219,239)\"],[0.375,\"rgb(158,202,225)\"],[0.5,\"rgb(107,174,214)\"],[0.625,\"rgb(66,146,198)\"],[0.75,\"rgb(33,113,181)\"],[0.875,\"rgb(8,81,156)\"],[1.0,\"rgb(8,48,107)\"]],\"line\":{\"color\":\"Grey\",\"width\":0.5},\"showscale\":true},\"mode\":\"markers\",\"showlegend\":false,\"x\":[0.45482152545433896,0.45172512178720314,0.3860449973559179,0.3393715913386002,0.33786765660119206,0.3142175258001928,0.43531139349312786,0.14817079531129204,0.25505054193406945,0.3088380545029866,0.2007772293466687,0.4779051206428008,0.4890465340384674,0.40381114114963645,0.4382619318831935,0.3906488690996672,0.2517596306524251,0.4942742708379999,0.4289862710732687,0.36098072795835245,0.4161136486780603,0.36296606360260364,0.36756919997256976,0.2762205526287297,0.4388865281412749,0.10167186600797445,0.46777684536811415,0.4543458855336392,0.4733485792611124,0.4599380845225832,0.4160929440795295,0.4997454773288624,0.49890060962095634,0.4606166664122315,0.4193855963756537,0.45066710404067156,0.47672455662856844,0.3827804876176682,0.4234873740971682,0.34558896951921303,0.4715196706182768,0.49836855153547616,0.47398229728948255,0.4464620393350119,0.44170806341885005,0.4374695624042931,0.399531111198531,0.32400891564430256,0.20693892737328462,0.38346845551092984],\"y\":[0.9068823723860541,0.9213258757657282,0.8992340770911355,0.8930374233058269,0.8946326438368731,0.8975311523387837,0.8947331652703602,0.8916201267728293,0.891301781089251,0.8958050156290966,0.884263420355798,0.904162841511727,0.9058314195699851,0.9060481872558406,0.9062953332803582,0.8949418804513156,0.8885021492946815,0.902020119017218,0.9092957225305018,0.9079537720903184,0.9033887168861865,0.9068829611359077,0.9072800647412721,0.8993670436442319,0.9030130808157558,0.8899779875297414,0.9086378671030227,0.907081833454726,0.896960388392716,0.8974197162703388,0.8934028403972204,0.9084050731398869,0.9082265816237074,0.9077395641972814,0.8941664611391547,0.904431488825454,0.912870019006655,0.8877598304476365,0.8870682141779049,0.8913905743023096,0.903231088111055,0.9049102306464725,0.908110622799097,0.9130909685022656,0.9106021024234445,0.9036430768996323,0.9072440118909562,0.89520968565246,0.879190808763182,0.8801669821433387],\"type\":\"scatter\",\"xaxis\":\"x\",\"yaxis\":\"y\"},{\"marker\":{\"color\":[0,1,2,3,4,5,6,7,8,9,10,11,12,13,14,15,16,17,18,19,20,21,22,23,24,25,26,27,28,29,30,31,32,33,34,35,36,37,38,39,40,41,42,43,44,45,46,47,48,49],\"colorbar\":{\"title\":{\"text\":\"Trial\"},\"x\":1.0,\"xpad\":40},\"colorscale\":[[0.0,\"rgb(247,251,255)\"],[0.125,\"rgb(222,235,247)\"],[0.25,\"rgb(198,219,239)\"],[0.375,\"rgb(158,202,225)\"],[0.5,\"rgb(107,174,214)\"],[0.625,\"rgb(66,146,198)\"],[0.75,\"rgb(33,113,181)\"],[0.875,\"rgb(8,81,156)\"],[1.0,\"rgb(8,48,107)\"]],\"line\":{\"color\":\"Grey\",\"width\":0.5},\"showscale\":false},\"mode\":\"markers\",\"showlegend\":false,\"x\":[3,4,5,3,3,3,3,4,3,4,6,4,5,4,5,4,6,3,4,5,4,5,5,6,4,5,4,4,4,4,4,5,5,5,4,3,4,4,3,3,4,4,4,5,4,4,5,4,4,3],\"y\":[0.9068823723860541,0.9213258757657282,0.8992340770911355,0.8930374233058269,0.8946326438368731,0.8975311523387837,0.8947331652703602,0.8916201267728293,0.891301781089251,0.8958050156290966,0.884263420355798,0.904162841511727,0.9058314195699851,0.9060481872558406,0.9062953332803582,0.8949418804513156,0.8885021492946815,0.902020119017218,0.9092957225305018,0.9079537720903184,0.9033887168861865,0.9068829611359077,0.9072800647412721,0.8993670436442319,0.9030130808157558,0.8899779875297414,0.9086378671030227,0.907081833454726,0.896960388392716,0.8974197162703388,0.8934028403972204,0.9084050731398869,0.9082265816237074,0.9077395641972814,0.8941664611391547,0.904431488825454,0.912870019006655,0.8877598304476365,0.8870682141779049,0.8913905743023096,0.903231088111055,0.9049102306464725,0.908110622799097,0.9130909685022656,0.9106021024234445,0.9036430768996323,0.9072440118909562,0.89520968565246,0.879190808763182,0.8801669821433387],\"type\":\"scatter\",\"xaxis\":\"x2\",\"yaxis\":\"y2\"},{\"marker\":{\"color\":[0,1,2,3,4,5,6,7,8,9,10,11,12,13,14,15,16,17,18,19,20,21,22,23,24,25,26,27,28,29,30,31,32,33,34,35,36,37,38,39,40,41,42,43,44,45,46,47,48,49],\"colorbar\":{\"title\":{\"text\":\"Trial\"},\"x\":1.0,\"xpad\":40},\"colorscale\":[[0.0,\"rgb(247,251,255)\"],[0.125,\"rgb(222,235,247)\"],[0.25,\"rgb(198,219,239)\"],[0.375,\"rgb(158,202,225)\"],[0.5,\"rgb(107,174,214)\"],[0.625,\"rgb(66,146,198)\"],[0.75,\"rgb(33,113,181)\"],[0.875,\"rgb(8,81,156)\"],[1.0,\"rgb(8,48,107)\"]],\"line\":{\"color\":\"Grey\",\"width\":0.5},\"showscale\":false},\"mode\":\"markers\",\"showlegend\":false,\"x\":[388,326,722,515,305,879,541,565,204,883,140,353,377,441,236,669,116,451,274,263,681,264,188,306,101,305,452,430,608,466,367,266,980,183,347,485,415,591,514,400,411,334,263,232,215,167,218,151,222,307],\"y\":[0.9068823723860541,0.9213258757657282,0.8992340770911355,0.8930374233058269,0.8946326438368731,0.8975311523387837,0.8947331652703602,0.8916201267728293,0.891301781089251,0.8958050156290966,0.884263420355798,0.904162841511727,0.9058314195699851,0.9060481872558406,0.9062953332803582,0.8949418804513156,0.8885021492946815,0.902020119017218,0.9092957225305018,0.9079537720903184,0.9033887168861865,0.9068829611359077,0.9072800647412721,0.8993670436442319,0.9030130808157558,0.8899779875297414,0.9086378671030227,0.907081833454726,0.896960388392716,0.8974197162703388,0.8934028403972204,0.9084050731398869,0.9082265816237074,0.9077395641972814,0.8941664611391547,0.904431488825454,0.912870019006655,0.8877598304476365,0.8870682141779049,0.8913905743023096,0.903231088111055,0.9049102306464725,0.908110622799097,0.9130909685022656,0.9106021024234445,0.9036430768996323,0.9072440118909562,0.89520968565246,0.879190808763182,0.8801669821433387],\"type\":\"scatter\",\"xaxis\":\"x3\",\"yaxis\":\"y3\"}],                        {\"template\":{\"data\":{\"bar\":[{\"error_x\":{\"color\":\"#2a3f5f\"},\"error_y\":{\"color\":\"#2a3f5f\"},\"marker\":{\"line\":{\"color\":\"#E5ECF6\",\"width\":0.5},\"pattern\":{\"fillmode\":\"overlay\",\"size\":10,\"solidity\":0.2}},\"type\":\"bar\"}],\"barpolar\":[{\"marker\":{\"line\":{\"color\":\"#E5ECF6\",\"width\":0.5},\"pattern\":{\"fillmode\":\"overlay\",\"size\":10,\"solidity\":0.2}},\"type\":\"barpolar\"}],\"carpet\":[{\"aaxis\":{\"endlinecolor\":\"#2a3f5f\",\"gridcolor\":\"white\",\"linecolor\":\"white\",\"minorgridcolor\":\"white\",\"startlinecolor\":\"#2a3f5f\"},\"baxis\":{\"endlinecolor\":\"#2a3f5f\",\"gridcolor\":\"white\",\"linecolor\":\"white\",\"minorgridcolor\":\"white\",\"startlinecolor\":\"#2a3f5f\"},\"type\":\"carpet\"}],\"choropleth\":[{\"colorbar\":{\"outlinewidth\":0,\"ticks\":\"\"},\"type\":\"choropleth\"}],\"contour\":[{\"colorbar\":{\"outlinewidth\":0,\"ticks\":\"\"},\"colorscale\":[[0.0,\"#0d0887\"],[0.1111111111111111,\"#46039f\"],[0.2222222222222222,\"#7201a8\"],[0.3333333333333333,\"#9c179e\"],[0.4444444444444444,\"#bd3786\"],[0.5555555555555556,\"#d8576b\"],[0.6666666666666666,\"#ed7953\"],[0.7777777777777778,\"#fb9f3a\"],[0.8888888888888888,\"#fdca26\"],[1.0,\"#f0f921\"]],\"type\":\"contour\"}],\"contourcarpet\":[{\"colorbar\":{\"outlinewidth\":0,\"ticks\":\"\"},\"type\":\"contourcarpet\"}],\"heatmap\":[{\"colorbar\":{\"outlinewidth\":0,\"ticks\":\"\"},\"colorscale\":[[0.0,\"#0d0887\"],[0.1111111111111111,\"#46039f\"],[0.2222222222222222,\"#7201a8\"],[0.3333333333333333,\"#9c179e\"],[0.4444444444444444,\"#bd3786\"],[0.5555555555555556,\"#d8576b\"],[0.6666666666666666,\"#ed7953\"],[0.7777777777777778,\"#fb9f3a\"],[0.8888888888888888,\"#fdca26\"],[1.0,\"#f0f921\"]],\"type\":\"heatmap\"}],\"heatmapgl\":[{\"colorbar\":{\"outlinewidth\":0,\"ticks\":\"\"},\"colorscale\":[[0.0,\"#0d0887\"],[0.1111111111111111,\"#46039f\"],[0.2222222222222222,\"#7201a8\"],[0.3333333333333333,\"#9c179e\"],[0.4444444444444444,\"#bd3786\"],[0.5555555555555556,\"#d8576b\"],[0.6666666666666666,\"#ed7953\"],[0.7777777777777778,\"#fb9f3a\"],[0.8888888888888888,\"#fdca26\"],[1.0,\"#f0f921\"]],\"type\":\"heatmapgl\"}],\"histogram\":[{\"marker\":{\"pattern\":{\"fillmode\":\"overlay\",\"size\":10,\"solidity\":0.2}},\"type\":\"histogram\"}],\"histogram2d\":[{\"colorbar\":{\"outlinewidth\":0,\"ticks\":\"\"},\"colorscale\":[[0.0,\"#0d0887\"],[0.1111111111111111,\"#46039f\"],[0.2222222222222222,\"#7201a8\"],[0.3333333333333333,\"#9c179e\"],[0.4444444444444444,\"#bd3786\"],[0.5555555555555556,\"#d8576b\"],[0.6666666666666666,\"#ed7953\"],[0.7777777777777778,\"#fb9f3a\"],[0.8888888888888888,\"#fdca26\"],[1.0,\"#f0f921\"]],\"type\":\"histogram2d\"}],\"histogram2dcontour\":[{\"colorbar\":{\"outlinewidth\":0,\"ticks\":\"\"},\"colorscale\":[[0.0,\"#0d0887\"],[0.1111111111111111,\"#46039f\"],[0.2222222222222222,\"#7201a8\"],[0.3333333333333333,\"#9c179e\"],[0.4444444444444444,\"#bd3786\"],[0.5555555555555556,\"#d8576b\"],[0.6666666666666666,\"#ed7953\"],[0.7777777777777778,\"#fb9f3a\"],[0.8888888888888888,\"#fdca26\"],[1.0,\"#f0f921\"]],\"type\":\"histogram2dcontour\"}],\"mesh3d\":[{\"colorbar\":{\"outlinewidth\":0,\"ticks\":\"\"},\"type\":\"mesh3d\"}],\"parcoords\":[{\"line\":{\"colorbar\":{\"outlinewidth\":0,\"ticks\":\"\"}},\"type\":\"parcoords\"}],\"pie\":[{\"automargin\":true,\"type\":\"pie\"}],\"scatter\":[{\"marker\":{\"colorbar\":{\"outlinewidth\":0,\"ticks\":\"\"}},\"type\":\"scatter\"}],\"scatter3d\":[{\"line\":{\"colorbar\":{\"outlinewidth\":0,\"ticks\":\"\"}},\"marker\":{\"colorbar\":{\"outlinewidth\":0,\"ticks\":\"\"}},\"type\":\"scatter3d\"}],\"scattercarpet\":[{\"marker\":{\"colorbar\":{\"outlinewidth\":0,\"ticks\":\"\"}},\"type\":\"scattercarpet\"}],\"scattergeo\":[{\"marker\":{\"colorbar\":{\"outlinewidth\":0,\"ticks\":\"\"}},\"type\":\"scattergeo\"}],\"scattergl\":[{\"marker\":{\"colorbar\":{\"outlinewidth\":0,\"ticks\":\"\"}},\"type\":\"scattergl\"}],\"scattermapbox\":[{\"marker\":{\"colorbar\":{\"outlinewidth\":0,\"ticks\":\"\"}},\"type\":\"scattermapbox\"}],\"scatterpolar\":[{\"marker\":{\"colorbar\":{\"outlinewidth\":0,\"ticks\":\"\"}},\"type\":\"scatterpolar\"}],\"scatterpolargl\":[{\"marker\":{\"colorbar\":{\"outlinewidth\":0,\"ticks\":\"\"}},\"type\":\"scatterpolargl\"}],\"scatterternary\":[{\"marker\":{\"colorbar\":{\"outlinewidth\":0,\"ticks\":\"\"}},\"type\":\"scatterternary\"}],\"surface\":[{\"colorbar\":{\"outlinewidth\":0,\"ticks\":\"\"},\"colorscale\":[[0.0,\"#0d0887\"],[0.1111111111111111,\"#46039f\"],[0.2222222222222222,\"#7201a8\"],[0.3333333333333333,\"#9c179e\"],[0.4444444444444444,\"#bd3786\"],[0.5555555555555556,\"#d8576b\"],[0.6666666666666666,\"#ed7953\"],[0.7777777777777778,\"#fb9f3a\"],[0.8888888888888888,\"#fdca26\"],[1.0,\"#f0f921\"]],\"type\":\"surface\"}],\"table\":[{\"cells\":{\"fill\":{\"color\":\"#EBF0F8\"},\"line\":{\"color\":\"white\"}},\"header\":{\"fill\":{\"color\":\"#C8D4E3\"},\"line\":{\"color\":\"white\"}},\"type\":\"table\"}]},\"layout\":{\"annotationdefaults\":{\"arrowcolor\":\"#2a3f5f\",\"arrowhead\":0,\"arrowwidth\":1},\"autotypenumbers\":\"strict\",\"coloraxis\":{\"colorbar\":{\"outlinewidth\":0,\"ticks\":\"\"}},\"colorscale\":{\"diverging\":[[0,\"#8e0152\"],[0.1,\"#c51b7d\"],[0.2,\"#de77ae\"],[0.3,\"#f1b6da\"],[0.4,\"#fde0ef\"],[0.5,\"#f7f7f7\"],[0.6,\"#e6f5d0\"],[0.7,\"#b8e186\"],[0.8,\"#7fbc41\"],[0.9,\"#4d9221\"],[1,\"#276419\"]],\"sequential\":[[0.0,\"#0d0887\"],[0.1111111111111111,\"#46039f\"],[0.2222222222222222,\"#7201a8\"],[0.3333333333333333,\"#9c179e\"],[0.4444444444444444,\"#bd3786\"],[0.5555555555555556,\"#d8576b\"],[0.6666666666666666,\"#ed7953\"],[0.7777777777777778,\"#fb9f3a\"],[0.8888888888888888,\"#fdca26\"],[1.0,\"#f0f921\"]],\"sequentialminus\":[[0.0,\"#0d0887\"],[0.1111111111111111,\"#46039f\"],[0.2222222222222222,\"#7201a8\"],[0.3333333333333333,\"#9c179e\"],[0.4444444444444444,\"#bd3786\"],[0.5555555555555556,\"#d8576b\"],[0.6666666666666666,\"#ed7953\"],[0.7777777777777778,\"#fb9f3a\"],[0.8888888888888888,\"#fdca26\"],[1.0,\"#f0f921\"]]},\"colorway\":[\"#636efa\",\"#EF553B\",\"#00cc96\",\"#ab63fa\",\"#FFA15A\",\"#19d3f3\",\"#FF6692\",\"#B6E880\",\"#FF97FF\",\"#FECB52\"],\"font\":{\"color\":\"#2a3f5f\"},\"geo\":{\"bgcolor\":\"white\",\"lakecolor\":\"white\",\"landcolor\":\"#E5ECF6\",\"showlakes\":true,\"showland\":true,\"subunitcolor\":\"white\"},\"hoverlabel\":{\"align\":\"left\"},\"hovermode\":\"closest\",\"mapbox\":{\"style\":\"light\"},\"paper_bgcolor\":\"white\",\"plot_bgcolor\":\"#E5ECF6\",\"polar\":{\"angularaxis\":{\"gridcolor\":\"white\",\"linecolor\":\"white\",\"ticks\":\"\"},\"bgcolor\":\"#E5ECF6\",\"radialaxis\":{\"gridcolor\":\"white\",\"linecolor\":\"white\",\"ticks\":\"\"}},\"scene\":{\"xaxis\":{\"backgroundcolor\":\"#E5ECF6\",\"gridcolor\":\"white\",\"gridwidth\":2,\"linecolor\":\"white\",\"showbackground\":true,\"ticks\":\"\",\"zerolinecolor\":\"white\"},\"yaxis\":{\"backgroundcolor\":\"#E5ECF6\",\"gridcolor\":\"white\",\"gridwidth\":2,\"linecolor\":\"white\",\"showbackground\":true,\"ticks\":\"\",\"zerolinecolor\":\"white\"},\"zaxis\":{\"backgroundcolor\":\"#E5ECF6\",\"gridcolor\":\"white\",\"gridwidth\":2,\"linecolor\":\"white\",\"showbackground\":true,\"ticks\":\"\",\"zerolinecolor\":\"white\"}},\"shapedefaults\":{\"line\":{\"color\":\"#2a3f5f\"}},\"ternary\":{\"aaxis\":{\"gridcolor\":\"white\",\"linecolor\":\"white\",\"ticks\":\"\"},\"baxis\":{\"gridcolor\":\"white\",\"linecolor\":\"white\",\"ticks\":\"\"},\"bgcolor\":\"#E5ECF6\",\"caxis\":{\"gridcolor\":\"white\",\"linecolor\":\"white\",\"ticks\":\"\"}},\"title\":{\"x\":0.05},\"xaxis\":{\"automargin\":true,\"gridcolor\":\"white\",\"linecolor\":\"white\",\"ticks\":\"\",\"title\":{\"standoff\":15},\"zerolinecolor\":\"white\",\"zerolinewidth\":2},\"yaxis\":{\"automargin\":true,\"gridcolor\":\"white\",\"linecolor\":\"white\",\"ticks\":\"\",\"title\":{\"standoff\":15},\"zerolinecolor\":\"white\",\"zerolinewidth\":2}}},\"xaxis\":{\"anchor\":\"y\",\"domain\":[0.0,0.2888888888888889],\"title\":{\"text\":\"XGB_learning_rate\"}},\"yaxis\":{\"anchor\":\"x\",\"domain\":[0.0,1.0],\"title\":{\"text\":\"Objective Value\"}},\"xaxis2\":{\"anchor\":\"y2\",\"domain\":[0.35555555555555557,0.6444444444444445],\"title\":{\"text\":\"XGB_max_depth\"}},\"yaxis2\":{\"anchor\":\"x2\",\"domain\":[0.0,1.0],\"matches\":\"y\",\"showticklabels\":false},\"xaxis3\":{\"anchor\":\"y3\",\"domain\":[0.7111111111111111,1.0],\"title\":{\"text\":\"XGB_n_estimators\"}},\"yaxis3\":{\"anchor\":\"x3\",\"domain\":[0.0,1.0],\"matches\":\"y\",\"showticklabels\":false},\"title\":{\"text\":\"Slice Plot\"}},                        {\"responsive\": true}                    ).then(function(){\n",
              "                            \n",
              "var gd = document.getElementById('1cc69789-8544-422c-a0cf-52cbd97a4461');\n",
              "var x = new MutationObserver(function (mutations, observer) {{\n",
              "        var display = window.getComputedStyle(gd).display;\n",
              "        if (!display || display === 'none') {{\n",
              "            console.log([gd, 'removed!']);\n",
              "            Plotly.purge(gd);\n",
              "            observer.disconnect();\n",
              "        }}\n",
              "}});\n",
              "\n",
              "// Listen for the removal of the full notebook cells\n",
              "var notebookContainer = gd.closest('#notebook-container');\n",
              "if (notebookContainer) {{\n",
              "    x.observe(notebookContainer, {childList: true});\n",
              "}}\n",
              "\n",
              "// Listen for the clearing of the current output cell\n",
              "var outputEl = gd.closest('.output');\n",
              "if (outputEl) {{\n",
              "    x.observe(outputEl, {childList: true});\n",
              "}}\n",
              "\n",
              "                        })                };                            </script>        </div>\n",
              "</body>\n",
              "</html>"
            ]
          },
          "metadata": {}
        }
      ],
      "source": [
        "#Visualize the slice plot\n",
        "optuna.visualization.plot_slice(study, params=['XGB_n_estimators','XGB_learning_rate','XGB_max_depth','XGB_random_state'])"
      ]
    },
    {
      "cell_type": "markdown",
      "source": [
        "### **3.3.7. HGB**\n",
        "* https://scikit-learn.org/stable/modules/generated/sklearn.ensemble.HistGradientBoostingClassifier.html\n",
        "---\n",
        "\n"
      ],
      "metadata": {
        "id": "1FAqKo0cjLIY"
      }
    },
    {
      "cell_type": "code",
      "execution_count": null,
      "metadata": {
        "id": "rrTvzmiVjLIY"
      },
      "outputs": [],
      "source": [
        "#Step 1. Define an objective function to be maximized.\n",
        "def objective(trial):\n",
        "  from sklearn.ensemble import HistGradientBoostingClassifier\n",
        "\n",
        "  from sklearn.model_selection import RepeatedStratifiedKFold\n",
        "  from sklearn.model_selection import cross_validate\n",
        "\n",
        "  from sklearn.metrics import make_scorer\n",
        "  from sklearn.metrics import matthews_corrcoef\n",
        "\n",
        "  from sklearn.pipeline import make_pipeline\n",
        "  from sklearn.preprocessing import  StandardScaler\n",
        "\n",
        "\n",
        "  scaler = StandardScaler()\n",
        "\n",
        "  scoring = {'matthews_corrcoef': make_scorer(matthews_corrcoef)}\n",
        "  rfold= RepeatedStratifiedKFold(n_splits=10, n_repeats=10)\n",
        "\n",
        "  # Step 2. Setup values for the hyperparameters:\n",
        "\n",
        "  HGB_max_iter = trial.suggest_categorical(\"HGB_max_iter\", [100,300,500,700,900])\n",
        "  HGB_learning_rate = trial.suggest_float(\"HGB_learning_rate\", 0.1,0.7)\n",
        "  HGB_min_samples_leaf = trial.suggest_int('HGB_min_samples_leaf', 5,25)\n",
        "  HGB_max_depth = trial.suggest_categorical(\"HGB_max_depth\", [None,1,3,5,7])\n",
        "\n",
        "  classifier_obj =HistGradientBoostingClassifier(max_iter = HGB_max_iter,learning_rate = HGB_learning_rate,\n",
        "                                min_samples_leaf = HGB_min_samples_leaf, max_depth = HGB_max_depth)\n",
        "\n",
        "  pipeline = make_pipeline(scaler, classifier_obj)\n",
        "\n",
        "  # Step 3: Scoring method:\n",
        "  score=cross_validate(pipeline, x , y, cv=rfold,scoring=scoring, return_train_score=False)\n",
        "  mcc = score['test_matthews_corrcoef'].mean()\n",
        "  return mcc"
      ]
    },
    {
      "cell_type": "code",
      "execution_count": null,
      "metadata": {
        "colab": {
          "base_uri": "https://localhost:8080/"
        },
        "outputId": "a3274d4c-d05c-4fa7-e763-53d8169998c3",
        "id": "NTom89wTjLIY"
      },
      "outputs": [
        {
          "output_type": "stream",
          "name": "stderr",
          "text": [
            "\u001b[32m[I 2022-11-09 19:24:53,485]\u001b[0m A new study created in memory with name: no-name-b12d1e7b-3710-4260-b8de-deaef9c4e525\u001b[0m\n",
            "\u001b[32m[I 2022-11-09 19:25:24,606]\u001b[0m Trial 0 finished with value: 0.9157198868033453 and parameters: {'HGB_max_iter': 100, 'HGB_learning_rate': 0.21549812589555356, 'HGB_min_samples_leaf': 15, 'HGB_max_depth': 3}. Best is trial 0 with value: 0.9157198868033453.\u001b[0m\n",
            "\u001b[32m[I 2022-11-09 19:27:27,765]\u001b[0m Trial 1 finished with value: 0.9399904169357814 and parameters: {'HGB_max_iter': 900, 'HGB_learning_rate': 0.21266216212884387, 'HGB_min_samples_leaf': 15, 'HGB_max_depth': 3}. Best is trial 1 with value: 0.9399904169357814.\u001b[0m\n",
            "\u001b[32m[I 2022-11-09 19:30:25,188]\u001b[0m Trial 2 finished with value: 0.939535858261341 and parameters: {'HGB_max_iter': 700, 'HGB_learning_rate': 0.3556307890904531, 'HGB_min_samples_leaf': 17, 'HGB_max_depth': None}. Best is trial 1 with value: 0.9399904169357814.\u001b[0m\n",
            "\u001b[32m[I 2022-11-09 19:32:59,812]\u001b[0m Trial 3 finished with value: 0.9392761810686114 and parameters: {'HGB_max_iter': 500, 'HGB_learning_rate': 0.32649211500607134, 'HGB_min_samples_leaf': 14, 'HGB_max_depth': None}. Best is trial 1 with value: 0.9399904169357814.\u001b[0m\n",
            "\u001b[32m[I 2022-11-09 19:33:15,228]\u001b[0m Trial 4 finished with value: 0.927550511007334 and parameters: {'HGB_max_iter': 100, 'HGB_learning_rate': 0.3057259470969168, 'HGB_min_samples_leaf': 12, 'HGB_max_depth': 3}. Best is trial 1 with value: 0.9399904169357814.\u001b[0m\n",
            "\u001b[32m[I 2022-11-09 19:33:59,990]\u001b[0m Trial 5 finished with value: 0.9387962349821253 and parameters: {'HGB_max_iter': 100, 'HGB_learning_rate': 0.1752931634061486, 'HGB_min_samples_leaf': 9, 'HGB_max_depth': None}. Best is trial 1 with value: 0.9399904169357814.\u001b[0m\n",
            "\u001b[32m[I 2022-11-09 19:35:58,623]\u001b[0m Trial 6 finished with value: 0.8804809096242863 and parameters: {'HGB_max_iter': 500, 'HGB_learning_rate': 0.5384844110271699, 'HGB_min_samples_leaf': 13, 'HGB_max_depth': None}. Best is trial 1 with value: 0.9399904169357814.\u001b[0m\n",
            "\u001b[32m[I 2022-11-09 19:36:07,812]\u001b[0m Trial 7 finished with value: 0.8484477682643816 and parameters: {'HGB_max_iter': 100, 'HGB_learning_rate': 0.6191034248194421, 'HGB_min_samples_leaf': 22, 'HGB_max_depth': 1}. Best is trial 1 with value: 0.9399904169357814.\u001b[0m\n",
            "\u001b[32m[I 2022-11-09 19:36:36,997]\u001b[0m Trial 8 finished with value: 0.9385156695519978 and parameters: {'HGB_max_iter': 100, 'HGB_learning_rate': 0.2817503311680798, 'HGB_min_samples_leaf': 20, 'HGB_max_depth': 5}. Best is trial 1 with value: 0.9399904169357814.\u001b[0m\n",
            "\u001b[32m[I 2022-11-09 19:38:37,910]\u001b[0m Trial 9 finished with value: 0.9400080006917482 and parameters: {'HGB_max_iter': 300, 'HGB_learning_rate': 0.11943931139962788, 'HGB_min_samples_leaf': 7, 'HGB_max_depth': 7}. Best is trial 9 with value: 0.9400080006917482.\u001b[0m\n",
            "\u001b[32m[I 2022-11-09 19:40:04,833]\u001b[0m Trial 10 finished with value: 0.8775156029720438 and parameters: {'HGB_max_iter': 300, 'HGB_learning_rate': 0.47448778169354777, 'HGB_min_samples_leaf': 5, 'HGB_max_depth': 7}. Best is trial 9 with value: 0.9400080006917482.\u001b[0m\n",
            "\u001b[32m[I 2022-11-09 19:46:01,101]\u001b[0m Trial 11 finished with value: 0.9396921128025562 and parameters: {'HGB_max_iter': 900, 'HGB_learning_rate': 0.11830613055404184, 'HGB_min_samples_leaf': 5, 'HGB_max_depth': 7}. Best is trial 9 with value: 0.9400080006917482.\u001b[0m\n",
            "\u001b[32m[I 2022-11-09 19:49:00,316]\u001b[0m Trial 12 finished with value: 0.9396591083089665 and parameters: {'HGB_max_iter': 900, 'HGB_learning_rate': 0.1776427342008936, 'HGB_min_samples_leaf': 10, 'HGB_max_depth': 3}. Best is trial 9 with value: 0.9400080006917482.\u001b[0m\n",
            "\u001b[32m[I 2022-11-09 19:51:00,913]\u001b[0m Trial 13 finished with value: 0.9397760439434019 and parameters: {'HGB_max_iter': 300, 'HGB_learning_rate': 0.10541620512468851, 'HGB_min_samples_leaf': 18, 'HGB_max_depth': 7}. Best is trial 9 with value: 0.9400080006917482.\u001b[0m\n",
            "\u001b[32m[I 2022-11-09 19:51:24,414]\u001b[0m Trial 14 finished with value: 0.8500337649250431 and parameters: {'HGB_max_iter': 300, 'HGB_learning_rate': 0.24780960075677624, 'HGB_min_samples_leaf': 24, 'HGB_max_depth': 1}. Best is trial 9 with value: 0.9400080006917482.\u001b[0m\n",
            "\u001b[32m[I 2022-11-09 19:54:23,294]\u001b[0m Trial 15 finished with value: 0.9174779615270131 and parameters: {'HGB_max_iter': 900, 'HGB_learning_rate': 0.4297278028940855, 'HGB_min_samples_leaf': 8, 'HGB_max_depth': 5}. Best is trial 9 with value: 0.9400080006917482.\u001b[0m\n",
            "\u001b[32m[I 2022-11-09 19:58:23,440]\u001b[0m Trial 16 finished with value: 0.9429795405527905 and parameters: {'HGB_max_iter': 700, 'HGB_learning_rate': 0.15798616895216405, 'HGB_min_samples_leaf': 7, 'HGB_max_depth': 7}. Best is trial 16 with value: 0.9429795405527905.\u001b[0m\n",
            "\u001b[32m[I 2022-11-09 20:02:46,335]\u001b[0m Trial 17 finished with value: 0.9390884673956492 and parameters: {'HGB_max_iter': 700, 'HGB_learning_rate': 0.11493014265114973, 'HGB_min_samples_leaf': 7, 'HGB_max_depth': 7}. Best is trial 16 with value: 0.9429795405527905.\u001b[0m\n",
            "\u001b[32m[I 2022-11-09 20:05:54,190]\u001b[0m Trial 18 finished with value: 0.937639364686396 and parameters: {'HGB_max_iter': 700, 'HGB_learning_rate': 0.4068748097487744, 'HGB_min_samples_leaf': 11, 'HGB_max_depth': 7}. Best is trial 16 with value: 0.9429795405527905.\u001b[0m\n",
            "\u001b[32m[I 2022-11-09 20:08:11,344]\u001b[0m Trial 19 finished with value: 0.693893361267188 and parameters: {'HGB_max_iter': 700, 'HGB_learning_rate': 0.6787241131101858, 'HGB_min_samples_leaf': 8, 'HGB_max_depth': 7}. Best is trial 16 with value: 0.9429795405527905.\u001b[0m\n",
            "\u001b[32m[I 2022-11-09 20:10:31,707]\u001b[0m Trial 20 finished with value: 0.9396900071674419 and parameters: {'HGB_max_iter': 300, 'HGB_learning_rate': 0.1645279098948883, 'HGB_min_samples_leaf': 6, 'HGB_max_depth': 7}. Best is trial 16 with value: 0.9429795405527905.\u001b[0m\n",
            "\u001b[32m[I 2022-11-09 20:13:24,080]\u001b[0m Trial 21 finished with value: 0.9400355838757793 and parameters: {'HGB_max_iter': 900, 'HGB_learning_rate': 0.23159226642904004, 'HGB_min_samples_leaf': 10, 'HGB_max_depth': 3}. Best is trial 16 with value: 0.9429795405527905.\u001b[0m\n",
            "\u001b[32m[I 2022-11-09 20:14:07,595]\u001b[0m Trial 22 finished with value: 0.9392787952416343 and parameters: {'HGB_max_iter': 300, 'HGB_learning_rate': 0.23037463193143143, 'HGB_min_samples_leaf': 10, 'HGB_max_depth': 3}. Best is trial 16 with value: 0.9429795405527905.\u001b[0m\n",
            "\u001b[32m[I 2022-11-09 20:19:15,989]\u001b[0m Trial 23 finished with value: 0.9401939347912568 and parameters: {'HGB_max_iter': 900, 'HGB_learning_rate': 0.1450837184275543, 'HGB_min_samples_leaf': 7, 'HGB_max_depth': 7}. Best is trial 16 with value: 0.9429795405527905.\u001b[0m\n",
            "\u001b[32m[I 2022-11-09 20:20:31,866]\u001b[0m Trial 24 finished with value: 0.884775287165796 and parameters: {'HGB_max_iter': 900, 'HGB_learning_rate': 0.26801791281614273, 'HGB_min_samples_leaf': 11, 'HGB_max_depth': 1}. Best is trial 16 with value: 0.9429795405527905.\u001b[0m\n",
            "\u001b[32m[I 2022-11-09 20:24:46,819]\u001b[0m Trial 25 finished with value: 0.9386322862988993 and parameters: {'HGB_max_iter': 900, 'HGB_learning_rate': 0.1702515132717358, 'HGB_min_samples_leaf': 9, 'HGB_max_depth': 5}. Best is trial 16 with value: 0.9429795405527905.\u001b[0m\n",
            "\u001b[32m[I 2022-11-09 20:26:50,342]\u001b[0m Trial 26 finished with value: 0.9395918534976712 and parameters: {'HGB_max_iter': 900, 'HGB_learning_rate': 0.20224413783600373, 'HGB_min_samples_leaf': 7, 'HGB_max_depth': 3}. Best is trial 16 with value: 0.9429795405527905.\u001b[0m\n",
            "\u001b[32m[I 2022-11-09 20:31:04,003]\u001b[0m Trial 27 finished with value: 0.9404236874104482 and parameters: {'HGB_max_iter': 700, 'HGB_learning_rate': 0.14690952547661984, 'HGB_min_samples_leaf': 12, 'HGB_max_depth': 7}. Best is trial 16 with value: 0.9429795405527905.\u001b[0m\n",
            "\u001b[32m[I 2022-11-09 20:35:15,417]\u001b[0m Trial 28 finished with value: 0.9401643435256374 and parameters: {'HGB_max_iter': 700, 'HGB_learning_rate': 0.1450410947278343, 'HGB_min_samples_leaf': 13, 'HGB_max_depth': 7}. Best is trial 16 with value: 0.9429795405527905.\u001b[0m\n",
            "\u001b[32m[I 2022-11-09 20:38:13,497]\u001b[0m Trial 29 finished with value: 0.9402818962011648 and parameters: {'HGB_max_iter': 700, 'HGB_learning_rate': 0.3616323480639405, 'HGB_min_samples_leaf': 15, 'HGB_max_depth': 7}. Best is trial 16 with value: 0.9429795405527905.\u001b[0m\n",
            "\u001b[32m[I 2022-11-09 20:40:50,460]\u001b[0m Trial 30 finished with value: 0.9357555504397013 and parameters: {'HGB_max_iter': 700, 'HGB_learning_rate': 0.5052687796315813, 'HGB_min_samples_leaf': 17, 'HGB_max_depth': 7}. Best is trial 16 with value: 0.9429795405527905.\u001b[0m\n",
            "\u001b[32m[I 2022-11-09 20:43:56,310]\u001b[0m Trial 31 finished with value: 0.9381591302183279 and parameters: {'HGB_max_iter': 700, 'HGB_learning_rate': 0.32684979837588657, 'HGB_min_samples_leaf': 15, 'HGB_max_depth': 7}. Best is trial 16 with value: 0.9429795405527905.\u001b[0m\n",
            "\u001b[32m[I 2022-11-09 20:46:52,604]\u001b[0m Trial 32 finished with value: 0.9390001360570234 and parameters: {'HGB_max_iter': 700, 'HGB_learning_rate': 0.37376176732752475, 'HGB_min_samples_leaf': 16, 'HGB_max_depth': 7}. Best is trial 16 with value: 0.9429795405527905.\u001b[0m\n",
            "\u001b[32m[I 2022-11-09 20:51:03,004]\u001b[0m Trial 33 finished with value: 0.9386127068820471 and parameters: {'HGB_max_iter': 700, 'HGB_learning_rate': 0.1938820314263588, 'HGB_min_samples_leaf': 20, 'HGB_max_depth': 7}. Best is trial 16 with value: 0.9429795405527905.\u001b[0m\n",
            "\u001b[32m[I 2022-11-09 20:55:17,363]\u001b[0m Trial 34 finished with value: 0.9387937163549878 and parameters: {'HGB_max_iter': 700, 'HGB_learning_rate': 0.14292274107686273, 'HGB_min_samples_leaf': 14, 'HGB_max_depth': 7}. Best is trial 16 with value: 0.9429795405527905.\u001b[0m\n",
            "\u001b[32m[I 2022-11-09 20:57:56,373]\u001b[0m Trial 35 finished with value: 0.9378464718505423 and parameters: {'HGB_max_iter': 500, 'HGB_learning_rate': 0.28566021046682666, 'HGB_min_samples_leaf': 12, 'HGB_max_depth': 7}. Best is trial 16 with value: 0.9429795405527905.\u001b[0m\n",
            "\u001b[32m[I 2022-11-09 21:00:21,524]\u001b[0m Trial 36 finished with value: 0.9250187968217125 and parameters: {'HGB_max_iter': 700, 'HGB_learning_rate': 0.5896618102791081, 'HGB_min_samples_leaf': 18, 'HGB_max_depth': 7}. Best is trial 16 with value: 0.9429795405527905.\u001b[0m\n",
            "\u001b[32m[I 2022-11-09 21:03:28,757]\u001b[0m Trial 37 finished with value: 0.9383203566047577 and parameters: {'HGB_max_iter': 700, 'HGB_learning_rate': 0.3500202905351507, 'HGB_min_samples_leaf': 14, 'HGB_max_depth': None}. Best is trial 16 with value: 0.9429795405527905.\u001b[0m\n",
            "\u001b[32m[I 2022-11-09 21:06:29,487]\u001b[0m Trial 38 finished with value: 0.9379322078357262 and parameters: {'HGB_max_iter': 500, 'HGB_learning_rate': 0.21028273977975576, 'HGB_min_samples_leaf': 12, 'HGB_max_depth': 7}. Best is trial 16 with value: 0.9429795405527905.\u001b[0m\n",
            "\u001b[32m[I 2022-11-09 21:07:24,194]\u001b[0m Trial 39 finished with value: 0.8743328725283473 and parameters: {'HGB_max_iter': 700, 'HGB_learning_rate': 0.2519588685836641, 'HGB_min_samples_leaf': 9, 'HGB_max_depth': 1}. Best is trial 16 with value: 0.9429795405527905.\u001b[0m\n",
            "\u001b[32m[I 2022-11-09 21:08:10,709]\u001b[0m Trial 40 finished with value: 0.9382468743194198 and parameters: {'HGB_max_iter': 100, 'HGB_learning_rate': 0.30857704512449474, 'HGB_min_samples_leaf': 5, 'HGB_max_depth': None}. Best is trial 16 with value: 0.9429795405527905.\u001b[0m\n",
            "\u001b[32m[I 2022-11-09 21:12:23,536]\u001b[0m Trial 41 finished with value: 0.937606163553012 and parameters: {'HGB_max_iter': 700, 'HGB_learning_rate': 0.1433744192336113, 'HGB_min_samples_leaf': 13, 'HGB_max_depth': 7}. Best is trial 16 with value: 0.9429795405527905.\u001b[0m\n",
            "\u001b[32m[I 2022-11-09 21:16:28,075]\u001b[0m Trial 42 finished with value: 0.9382542773287144 and parameters: {'HGB_max_iter': 700, 'HGB_learning_rate': 0.15620150882630549, 'HGB_min_samples_leaf': 15, 'HGB_max_depth': 7}. Best is trial 16 with value: 0.9429795405527905.\u001b[0m\n",
            "\u001b[32m[I 2022-11-09 21:20:43,352]\u001b[0m Trial 43 finished with value: 0.9389800955267509 and parameters: {'HGB_max_iter': 700, 'HGB_learning_rate': 0.13917072242571207, 'HGB_min_samples_leaf': 13, 'HGB_max_depth': 7}. Best is trial 16 with value: 0.9429795405527905.\u001b[0m\n",
            "\u001b[32m[I 2022-11-09 21:24:06,294]\u001b[0m Trial 44 finished with value: 0.9410296301349045 and parameters: {'HGB_max_iter': 700, 'HGB_learning_rate': 0.10130519204613397, 'HGB_min_samples_leaf': 16, 'HGB_max_depth': 5}. Best is trial 16 with value: 0.9429795405527905.\u001b[0m\n",
            "\u001b[32m[I 2022-11-09 21:26:30,041]\u001b[0m Trial 45 finished with value: 0.9395380182437552 and parameters: {'HGB_max_iter': 500, 'HGB_learning_rate': 0.10721705912057805, 'HGB_min_samples_leaf': 16, 'HGB_max_depth': 5}. Best is trial 16 with value: 0.9429795405527905.\u001b[0m\n",
            "\u001b[32m[I 2022-11-09 21:26:59,717]\u001b[0m Trial 46 finished with value: 0.9360224222718861 and parameters: {'HGB_max_iter': 100, 'HGB_learning_rate': 0.1927088866581952, 'HGB_min_samples_leaf': 19, 'HGB_max_depth': 5}. Best is trial 16 with value: 0.9429795405527905.\u001b[0m\n",
            "\u001b[32m[I 2022-11-09 21:30:15,797]\u001b[0m Trial 47 finished with value: 0.9395246896061802 and parameters: {'HGB_max_iter': 700, 'HGB_learning_rate': 0.18309112801256897, 'HGB_min_samples_leaf': 16, 'HGB_max_depth': 5}. Best is trial 16 with value: 0.9429795405527905.\u001b[0m\n",
            "\u001b[32m[I 2022-11-09 21:34:21,372]\u001b[0m Trial 48 finished with value: 0.9407857830057509 and parameters: {'HGB_max_iter': 700, 'HGB_learning_rate': 0.10133837936554953, 'HGB_min_samples_leaf': 17, 'HGB_max_depth': 5}. Best is trial 16 with value: 0.9429795405527905.\u001b[0m\n",
            "\u001b[32m[I 2022-11-09 21:36:51,379]\u001b[0m Trial 49 finished with value: 0.9387298529585953 and parameters: {'HGB_max_iter': 700, 'HGB_learning_rate': 0.45941982504954737, 'HGB_min_samples_leaf': 22, 'HGB_max_depth': 5}. Best is trial 16 with value: 0.9429795405527905.\u001b[0m\n"
          ]
        }
      ],
      "source": [
        "# Step 4: Running it\n",
        "study = optuna.create_study(direction=\"maximize\")\n",
        "study.optimize(objective, n_trials=50)"
      ]
    },
    {
      "cell_type": "code",
      "execution_count": null,
      "metadata": {
        "id": "rlIZOQZujLIZ"
      },
      "outputs": [],
      "source": [
        "def get_Optimized_Parmaters():\n",
        "\n",
        "  # Getting the best trial:\n",
        "  print(f\"The best trial is : \\n{study.best_trial}\")\n",
        "\n",
        "  # Getting the best score:\n",
        "  print(f\"The best value is : \\n{study.best_value}\")\n",
        "\n",
        "  # Getting the best parameters:\n",
        "  print(f\"The best parameters are : \\n{study.best_params}\")\n",
        "\n",
        "  #Visualize the slice plot\n",
        "  optuna.visualization.plot_slice(study, params=['HGB_max_iter','HGB_learning_rate', 'HGB_min_samples_leaf', 'HGB_max_depth'])\n"
      ]
    },
    {
      "cell_type": "code",
      "execution_count": null,
      "metadata": {
        "colab": {
          "base_uri": "https://localhost:8080/"
        },
        "outputId": "78f418c2-a13c-4918-bbc9-a13c8df1fa81",
        "id": "zA_4CEbsjLIZ"
      },
      "outputs": [
        {
          "output_type": "stream",
          "name": "stdout",
          "text": [
            "The best trial is : \n",
            "FrozenTrial(number=16, values=[0.9429795405527905], datetime_start=datetime.datetime(2022, 11, 9, 19, 54, 23, 303322), datetime_complete=datetime.datetime(2022, 11, 9, 19, 58, 23, 440108), params={'HGB_max_iter': 700, 'HGB_learning_rate': 0.15798616895216405, 'HGB_min_samples_leaf': 7, 'HGB_max_depth': 7}, distributions={'HGB_max_iter': CategoricalDistribution(choices=(100, 300, 500, 700, 900)), 'HGB_learning_rate': FloatDistribution(high=0.7, log=False, low=0.1, step=None), 'HGB_min_samples_leaf': IntDistribution(high=25, log=False, low=5, step=1), 'HGB_max_depth': CategoricalDistribution(choices=(None, 1, 3, 5, 7))}, user_attrs={}, system_attrs={}, intermediate_values={}, trial_id=16, state=TrialState.COMPLETE, value=None)\n",
            "The best value is : \n",
            "0.9429795405527905\n",
            "The best parameters are : \n",
            "{'HGB_max_iter': 700, 'HGB_learning_rate': 0.15798616895216405, 'HGB_min_samples_leaf': 7, 'HGB_max_depth': 7}\n"
          ]
        }
      ],
      "source": [
        "get_Optimized_Parmaters()"
      ]
    },
    {
      "cell_type": "code",
      "execution_count": null,
      "metadata": {
        "colab": {
          "base_uri": "https://localhost:8080/"
        },
        "outputId": "3782f4b8-b4ec-47bc-a75e-0aeb06f57f74",
        "id": "XAM-9RLojLIZ"
      },
      "outputs": [
        {
          "output_type": "stream",
          "name": "stdout",
          "text": [
            "The best trial is : \n",
            "FrozenTrial(number=16, values=[0.9429795405527905], datetime_start=datetime.datetime(2022, 11, 9, 19, 54, 23, 303322), datetime_complete=datetime.datetime(2022, 11, 9, 19, 58, 23, 440108), params={'HGB_max_iter': 700, 'HGB_learning_rate': 0.15798616895216405, 'HGB_min_samples_leaf': 7, 'HGB_max_depth': 7}, distributions={'HGB_max_iter': CategoricalDistribution(choices=(100, 300, 500, 700, 900)), 'HGB_learning_rate': FloatDistribution(high=0.7, log=False, low=0.1, step=None), 'HGB_min_samples_leaf': IntDistribution(high=25, log=False, low=5, step=1), 'HGB_max_depth': CategoricalDistribution(choices=(None, 1, 3, 5, 7))}, user_attrs={}, system_attrs={}, intermediate_values={}, trial_id=16, state=TrialState.COMPLETE, value=None)\n"
          ]
        }
      ],
      "source": [
        "# Getting the best trial:\n",
        "print(f\"The best trial is : \\n{study.best_trial}\")"
      ]
    },
    {
      "cell_type": "code",
      "execution_count": null,
      "metadata": {
        "colab": {
          "base_uri": "https://localhost:8080/"
        },
        "outputId": "ca5853e5-1ce3-4759-eaae-cb91834e9de5",
        "id": "eyow_VwkjLIa"
      },
      "outputs": [
        {
          "output_type": "stream",
          "name": "stdout",
          "text": [
            "The best value is : \n",
            "0.9429795405527905\n"
          ]
        }
      ],
      "source": [
        "# Getting the best score:\n",
        "print(f\"The best value is : \\n{study.best_value}\")"
      ]
    },
    {
      "cell_type": "code",
      "execution_count": null,
      "metadata": {
        "colab": {
          "base_uri": "https://localhost:8080/"
        },
        "outputId": "2bb1df33-fdda-446a-a3a0-bdaa63c76856",
        "id": "55pt6depjLIa"
      },
      "outputs": [
        {
          "output_type": "stream",
          "name": "stdout",
          "text": [
            "The best parameters are : \n",
            "{'HGB_max_iter': 700, 'HGB_learning_rate': 0.15798616895216405, 'HGB_min_samples_leaf': 7, 'HGB_max_depth': 7}\n"
          ]
        }
      ],
      "source": [
        "# Getting the best parameters:\n",
        "print(f\"The best parameters are : \\n{study.best_params}\")"
      ]
    },
    {
      "cell_type": "code",
      "execution_count": null,
      "metadata": {
        "colab": {
          "base_uri": "https://localhost:8080/",
          "height": 542
        },
        "outputId": "277495f2-5a27-4479-80ac-5e1c47c84658",
        "id": "x6-S90GvjLIa"
      },
      "outputs": [
        {
          "output_type": "display_data",
          "data": {
            "text/html": [
              "<html>\n",
              "<head><meta charset=\"utf-8\" /></head>\n",
              "<body>\n",
              "    <div>            <script src=\"https://cdnjs.cloudflare.com/ajax/libs/mathjax/2.7.5/MathJax.js?config=TeX-AMS-MML_SVG\"></script><script type=\"text/javascript\">if (window.MathJax) {MathJax.Hub.Config({SVG: {font: \"STIX-Web\"}});}</script>                <script type=\"text/javascript\">window.PlotlyConfig = {MathJaxConfig: 'local'};</script>\n",
              "        <script src=\"https://cdn.plot.ly/plotly-2.8.3.min.js\"></script>                <div id=\"79276de0-425b-4f7d-a960-9505c113e8b5\" class=\"plotly-graph-div\" style=\"height:525px; width:1200px;\"></div>            <script type=\"text/javascript\">                                    window.PLOTLYENV=window.PLOTLYENV || {};                                    if (document.getElementById(\"79276de0-425b-4f7d-a960-9505c113e8b5\")) {                    Plotly.newPlot(                        \"79276de0-425b-4f7d-a960-9505c113e8b5\",                        [{\"marker\":{\"color\":[0,1,2,3,4,5,6,7,8,9,10,11,12,13,14,15,16,17,18,19,20,21,22,23,24,25,26,27,28,29,30,31,32,33,34,35,36,37,38,39,40,41,42,43,44,45,46,47,48,49],\"colorbar\":{\"title\":{\"text\":\"Trial\"},\"x\":1.0,\"xpad\":40},\"colorscale\":[[0.0,\"rgb(247,251,255)\"],[0.125,\"rgb(222,235,247)\"],[0.25,\"rgb(198,219,239)\"],[0.375,\"rgb(158,202,225)\"],[0.5,\"rgb(107,174,214)\"],[0.625,\"rgb(66,146,198)\"],[0.75,\"rgb(33,113,181)\"],[0.875,\"rgb(8,81,156)\"],[1.0,\"rgb(8,48,107)\"]],\"line\":{\"color\":\"Grey\",\"width\":0.5},\"showscale\":true},\"mode\":\"markers\",\"showlegend\":false,\"x\":[0.21549812589555356,0.21266216212884387,0.3556307890904531,0.32649211500607134,0.3057259470969168,0.1752931634061486,0.5384844110271699,0.6191034248194421,0.2817503311680798,0.11943931139962788,0.47448778169354777,0.11830613055404184,0.1776427342008936,0.10541620512468851,0.24780960075677624,0.4297278028940855,0.15798616895216405,0.11493014265114973,0.4068748097487744,0.6787241131101858,0.1645279098948883,0.23159226642904004,0.23037463193143143,0.1450837184275543,0.26801791281614273,0.1702515132717358,0.20224413783600373,0.14690952547661984,0.1450410947278343,0.3616323480639405,0.5052687796315813,0.32684979837588657,0.37376176732752475,0.1938820314263588,0.14292274107686273,0.28566021046682666,0.5896618102791081,0.3500202905351507,0.21028273977975576,0.2519588685836641,0.30857704512449474,0.1433744192336113,0.15620150882630549,0.13917072242571207,0.10130519204613397,0.10721705912057805,0.1927088866581952,0.18309112801256897,0.10133837936554953,0.45941982504954737],\"y\":[0.9157198868033453,0.9399904169357814,0.939535858261341,0.9392761810686114,0.927550511007334,0.9387962349821253,0.8804809096242863,0.8484477682643816,0.9385156695519978,0.9400080006917482,0.8775156029720438,0.9396921128025562,0.9396591083089665,0.9397760439434019,0.8500337649250431,0.9174779615270131,0.9429795405527905,0.9390884673956492,0.937639364686396,0.693893361267188,0.9396900071674419,0.9400355838757793,0.9392787952416343,0.9401939347912568,0.884775287165796,0.9386322862988993,0.9395918534976712,0.9404236874104482,0.9401643435256374,0.9402818962011648,0.9357555504397013,0.9381591302183279,0.9390001360570234,0.9386127068820471,0.9387937163549878,0.9378464718505423,0.9250187968217125,0.9383203566047577,0.9379322078357262,0.8743328725283473,0.9382468743194198,0.937606163553012,0.9382542773287144,0.9389800955267509,0.9410296301349045,0.9395380182437552,0.9360224222718861,0.9395246896061802,0.9407857830057509,0.9387298529585953],\"type\":\"scatter\",\"xaxis\":\"x\",\"yaxis\":\"y\"},{\"marker\":{\"color\":[0,1,2,3,4,5,6,7,8,9,10,11,12,13,14,15,16,17,18,19,20,21,22,23,24,25,26,27,28,29,30,31,32,33,34,35,36,37,38,39,40,41,42,43,44,45,46,47,48,49],\"colorbar\":{\"title\":{\"text\":\"Trial\"},\"x\":1.0,\"xpad\":40},\"colorscale\":[[0.0,\"rgb(247,251,255)\"],[0.125,\"rgb(222,235,247)\"],[0.25,\"rgb(198,219,239)\"],[0.375,\"rgb(158,202,225)\"],[0.5,\"rgb(107,174,214)\"],[0.625,\"rgb(66,146,198)\"],[0.75,\"rgb(33,113,181)\"],[0.875,\"rgb(8,81,156)\"],[1.0,\"rgb(8,48,107)\"]],\"line\":{\"color\":\"Grey\",\"width\":0.5},\"showscale\":false},\"mode\":\"markers\",\"showlegend\":false,\"x\":[3,3,null,null,3,null,null,1,5,7,7,7,3,7,1,5,7,7,7,7,7,3,3,7,1,5,3,7,7,7,7,7,7,7,7,7,7,null,7,1,null,7,7,7,5,5,5,5,5,5],\"y\":[0.9157198868033453,0.9399904169357814,0.939535858261341,0.9392761810686114,0.927550511007334,0.9387962349821253,0.8804809096242863,0.8484477682643816,0.9385156695519978,0.9400080006917482,0.8775156029720438,0.9396921128025562,0.9396591083089665,0.9397760439434019,0.8500337649250431,0.9174779615270131,0.9429795405527905,0.9390884673956492,0.937639364686396,0.693893361267188,0.9396900071674419,0.9400355838757793,0.9392787952416343,0.9401939347912568,0.884775287165796,0.9386322862988993,0.9395918534976712,0.9404236874104482,0.9401643435256374,0.9402818962011648,0.9357555504397013,0.9381591302183279,0.9390001360570234,0.9386127068820471,0.9387937163549878,0.9378464718505423,0.9250187968217125,0.9383203566047577,0.9379322078357262,0.8743328725283473,0.9382468743194198,0.937606163553012,0.9382542773287144,0.9389800955267509,0.9410296301349045,0.9395380182437552,0.9360224222718861,0.9395246896061802,0.9407857830057509,0.9387298529585953],\"type\":\"scatter\",\"xaxis\":\"x2\",\"yaxis\":\"y2\"},{\"marker\":{\"color\":[0,1,2,3,4,5,6,7,8,9,10,11,12,13,14,15,16,17,18,19,20,21,22,23,24,25,26,27,28,29,30,31,32,33,34,35,36,37,38,39,40,41,42,43,44,45,46,47,48,49],\"colorbar\":{\"title\":{\"text\":\"Trial\"},\"x\":1.0,\"xpad\":40},\"colorscale\":[[0.0,\"rgb(247,251,255)\"],[0.125,\"rgb(222,235,247)\"],[0.25,\"rgb(198,219,239)\"],[0.375,\"rgb(158,202,225)\"],[0.5,\"rgb(107,174,214)\"],[0.625,\"rgb(66,146,198)\"],[0.75,\"rgb(33,113,181)\"],[0.875,\"rgb(8,81,156)\"],[1.0,\"rgb(8,48,107)\"]],\"line\":{\"color\":\"Grey\",\"width\":0.5},\"showscale\":false},\"mode\":\"markers\",\"showlegend\":false,\"x\":[100,900,700,500,100,100,500,100,100,300,300,900,900,300,300,900,700,700,700,700,300,900,300,900,900,900,900,700,700,700,700,700,700,700,700,500,700,700,500,700,100,700,700,700,700,500,100,700,700,700],\"y\":[0.9157198868033453,0.9399904169357814,0.939535858261341,0.9392761810686114,0.927550511007334,0.9387962349821253,0.8804809096242863,0.8484477682643816,0.9385156695519978,0.9400080006917482,0.8775156029720438,0.9396921128025562,0.9396591083089665,0.9397760439434019,0.8500337649250431,0.9174779615270131,0.9429795405527905,0.9390884673956492,0.937639364686396,0.693893361267188,0.9396900071674419,0.9400355838757793,0.9392787952416343,0.9401939347912568,0.884775287165796,0.9386322862988993,0.9395918534976712,0.9404236874104482,0.9401643435256374,0.9402818962011648,0.9357555504397013,0.9381591302183279,0.9390001360570234,0.9386127068820471,0.9387937163549878,0.9378464718505423,0.9250187968217125,0.9383203566047577,0.9379322078357262,0.8743328725283473,0.9382468743194198,0.937606163553012,0.9382542773287144,0.9389800955267509,0.9410296301349045,0.9395380182437552,0.9360224222718861,0.9395246896061802,0.9407857830057509,0.9387298529585953],\"type\":\"scatter\",\"xaxis\":\"x3\",\"yaxis\":\"y3\"},{\"marker\":{\"color\":[0,1,2,3,4,5,6,7,8,9,10,11,12,13,14,15,16,17,18,19,20,21,22,23,24,25,26,27,28,29,30,31,32,33,34,35,36,37,38,39,40,41,42,43,44,45,46,47,48,49],\"colorbar\":{\"title\":{\"text\":\"Trial\"},\"x\":1.0,\"xpad\":40},\"colorscale\":[[0.0,\"rgb(247,251,255)\"],[0.125,\"rgb(222,235,247)\"],[0.25,\"rgb(198,219,239)\"],[0.375,\"rgb(158,202,225)\"],[0.5,\"rgb(107,174,214)\"],[0.625,\"rgb(66,146,198)\"],[0.75,\"rgb(33,113,181)\"],[0.875,\"rgb(8,81,156)\"],[1.0,\"rgb(8,48,107)\"]],\"line\":{\"color\":\"Grey\",\"width\":0.5},\"showscale\":false},\"mode\":\"markers\",\"showlegend\":false,\"x\":[15,15,17,14,12,9,13,22,20,7,5,5,10,18,24,8,7,7,11,8,6,10,10,7,11,9,7,12,13,15,17,15,16,20,14,12,18,14,12,9,5,13,15,13,16,16,19,16,17,22],\"y\":[0.9157198868033453,0.9399904169357814,0.939535858261341,0.9392761810686114,0.927550511007334,0.9387962349821253,0.8804809096242863,0.8484477682643816,0.9385156695519978,0.9400080006917482,0.8775156029720438,0.9396921128025562,0.9396591083089665,0.9397760439434019,0.8500337649250431,0.9174779615270131,0.9429795405527905,0.9390884673956492,0.937639364686396,0.693893361267188,0.9396900071674419,0.9400355838757793,0.9392787952416343,0.9401939347912568,0.884775287165796,0.9386322862988993,0.9395918534976712,0.9404236874104482,0.9401643435256374,0.9402818962011648,0.9357555504397013,0.9381591302183279,0.9390001360570234,0.9386127068820471,0.9387937163549878,0.9378464718505423,0.9250187968217125,0.9383203566047577,0.9379322078357262,0.8743328725283473,0.9382468743194198,0.937606163553012,0.9382542773287144,0.9389800955267509,0.9410296301349045,0.9395380182437552,0.9360224222718861,0.9395246896061802,0.9407857830057509,0.9387298529585953],\"type\":\"scatter\",\"xaxis\":\"x4\",\"yaxis\":\"y4\"}],                        {\"template\":{\"data\":{\"bar\":[{\"error_x\":{\"color\":\"#2a3f5f\"},\"error_y\":{\"color\":\"#2a3f5f\"},\"marker\":{\"line\":{\"color\":\"#E5ECF6\",\"width\":0.5},\"pattern\":{\"fillmode\":\"overlay\",\"size\":10,\"solidity\":0.2}},\"type\":\"bar\"}],\"barpolar\":[{\"marker\":{\"line\":{\"color\":\"#E5ECF6\",\"width\":0.5},\"pattern\":{\"fillmode\":\"overlay\",\"size\":10,\"solidity\":0.2}},\"type\":\"barpolar\"}],\"carpet\":[{\"aaxis\":{\"endlinecolor\":\"#2a3f5f\",\"gridcolor\":\"white\",\"linecolor\":\"white\",\"minorgridcolor\":\"white\",\"startlinecolor\":\"#2a3f5f\"},\"baxis\":{\"endlinecolor\":\"#2a3f5f\",\"gridcolor\":\"white\",\"linecolor\":\"white\",\"minorgridcolor\":\"white\",\"startlinecolor\":\"#2a3f5f\"},\"type\":\"carpet\"}],\"choropleth\":[{\"colorbar\":{\"outlinewidth\":0,\"ticks\":\"\"},\"type\":\"choropleth\"}],\"contour\":[{\"colorbar\":{\"outlinewidth\":0,\"ticks\":\"\"},\"colorscale\":[[0.0,\"#0d0887\"],[0.1111111111111111,\"#46039f\"],[0.2222222222222222,\"#7201a8\"],[0.3333333333333333,\"#9c179e\"],[0.4444444444444444,\"#bd3786\"],[0.5555555555555556,\"#d8576b\"],[0.6666666666666666,\"#ed7953\"],[0.7777777777777778,\"#fb9f3a\"],[0.8888888888888888,\"#fdca26\"],[1.0,\"#f0f921\"]],\"type\":\"contour\"}],\"contourcarpet\":[{\"colorbar\":{\"outlinewidth\":0,\"ticks\":\"\"},\"type\":\"contourcarpet\"}],\"heatmap\":[{\"colorbar\":{\"outlinewidth\":0,\"ticks\":\"\"},\"colorscale\":[[0.0,\"#0d0887\"],[0.1111111111111111,\"#46039f\"],[0.2222222222222222,\"#7201a8\"],[0.3333333333333333,\"#9c179e\"],[0.4444444444444444,\"#bd3786\"],[0.5555555555555556,\"#d8576b\"],[0.6666666666666666,\"#ed7953\"],[0.7777777777777778,\"#fb9f3a\"],[0.8888888888888888,\"#fdca26\"],[1.0,\"#f0f921\"]],\"type\":\"heatmap\"}],\"heatmapgl\":[{\"colorbar\":{\"outlinewidth\":0,\"ticks\":\"\"},\"colorscale\":[[0.0,\"#0d0887\"],[0.1111111111111111,\"#46039f\"],[0.2222222222222222,\"#7201a8\"],[0.3333333333333333,\"#9c179e\"],[0.4444444444444444,\"#bd3786\"],[0.5555555555555556,\"#d8576b\"],[0.6666666666666666,\"#ed7953\"],[0.7777777777777778,\"#fb9f3a\"],[0.8888888888888888,\"#fdca26\"],[1.0,\"#f0f921\"]],\"type\":\"heatmapgl\"}],\"histogram\":[{\"marker\":{\"pattern\":{\"fillmode\":\"overlay\",\"size\":10,\"solidity\":0.2}},\"type\":\"histogram\"}],\"histogram2d\":[{\"colorbar\":{\"outlinewidth\":0,\"ticks\":\"\"},\"colorscale\":[[0.0,\"#0d0887\"],[0.1111111111111111,\"#46039f\"],[0.2222222222222222,\"#7201a8\"],[0.3333333333333333,\"#9c179e\"],[0.4444444444444444,\"#bd3786\"],[0.5555555555555556,\"#d8576b\"],[0.6666666666666666,\"#ed7953\"],[0.7777777777777778,\"#fb9f3a\"],[0.8888888888888888,\"#fdca26\"],[1.0,\"#f0f921\"]],\"type\":\"histogram2d\"}],\"histogram2dcontour\":[{\"colorbar\":{\"outlinewidth\":0,\"ticks\":\"\"},\"colorscale\":[[0.0,\"#0d0887\"],[0.1111111111111111,\"#46039f\"],[0.2222222222222222,\"#7201a8\"],[0.3333333333333333,\"#9c179e\"],[0.4444444444444444,\"#bd3786\"],[0.5555555555555556,\"#d8576b\"],[0.6666666666666666,\"#ed7953\"],[0.7777777777777778,\"#fb9f3a\"],[0.8888888888888888,\"#fdca26\"],[1.0,\"#f0f921\"]],\"type\":\"histogram2dcontour\"}],\"mesh3d\":[{\"colorbar\":{\"outlinewidth\":0,\"ticks\":\"\"},\"type\":\"mesh3d\"}],\"parcoords\":[{\"line\":{\"colorbar\":{\"outlinewidth\":0,\"ticks\":\"\"}},\"type\":\"parcoords\"}],\"pie\":[{\"automargin\":true,\"type\":\"pie\"}],\"scatter\":[{\"marker\":{\"colorbar\":{\"outlinewidth\":0,\"ticks\":\"\"}},\"type\":\"scatter\"}],\"scatter3d\":[{\"line\":{\"colorbar\":{\"outlinewidth\":0,\"ticks\":\"\"}},\"marker\":{\"colorbar\":{\"outlinewidth\":0,\"ticks\":\"\"}},\"type\":\"scatter3d\"}],\"scattercarpet\":[{\"marker\":{\"colorbar\":{\"outlinewidth\":0,\"ticks\":\"\"}},\"type\":\"scattercarpet\"}],\"scattergeo\":[{\"marker\":{\"colorbar\":{\"outlinewidth\":0,\"ticks\":\"\"}},\"type\":\"scattergeo\"}],\"scattergl\":[{\"marker\":{\"colorbar\":{\"outlinewidth\":0,\"ticks\":\"\"}},\"type\":\"scattergl\"}],\"scattermapbox\":[{\"marker\":{\"colorbar\":{\"outlinewidth\":0,\"ticks\":\"\"}},\"type\":\"scattermapbox\"}],\"scatterpolar\":[{\"marker\":{\"colorbar\":{\"outlinewidth\":0,\"ticks\":\"\"}},\"type\":\"scatterpolar\"}],\"scatterpolargl\":[{\"marker\":{\"colorbar\":{\"outlinewidth\":0,\"ticks\":\"\"}},\"type\":\"scatterpolargl\"}],\"scatterternary\":[{\"marker\":{\"colorbar\":{\"outlinewidth\":0,\"ticks\":\"\"}},\"type\":\"scatterternary\"}],\"surface\":[{\"colorbar\":{\"outlinewidth\":0,\"ticks\":\"\"},\"colorscale\":[[0.0,\"#0d0887\"],[0.1111111111111111,\"#46039f\"],[0.2222222222222222,\"#7201a8\"],[0.3333333333333333,\"#9c179e\"],[0.4444444444444444,\"#bd3786\"],[0.5555555555555556,\"#d8576b\"],[0.6666666666666666,\"#ed7953\"],[0.7777777777777778,\"#fb9f3a\"],[0.8888888888888888,\"#fdca26\"],[1.0,\"#f0f921\"]],\"type\":\"surface\"}],\"table\":[{\"cells\":{\"fill\":{\"color\":\"#EBF0F8\"},\"line\":{\"color\":\"white\"}},\"header\":{\"fill\":{\"color\":\"#C8D4E3\"},\"line\":{\"color\":\"white\"}},\"type\":\"table\"}]},\"layout\":{\"annotationdefaults\":{\"arrowcolor\":\"#2a3f5f\",\"arrowhead\":0,\"arrowwidth\":1},\"autotypenumbers\":\"strict\",\"coloraxis\":{\"colorbar\":{\"outlinewidth\":0,\"ticks\":\"\"}},\"colorscale\":{\"diverging\":[[0,\"#8e0152\"],[0.1,\"#c51b7d\"],[0.2,\"#de77ae\"],[0.3,\"#f1b6da\"],[0.4,\"#fde0ef\"],[0.5,\"#f7f7f7\"],[0.6,\"#e6f5d0\"],[0.7,\"#b8e186\"],[0.8,\"#7fbc41\"],[0.9,\"#4d9221\"],[1,\"#276419\"]],\"sequential\":[[0.0,\"#0d0887\"],[0.1111111111111111,\"#46039f\"],[0.2222222222222222,\"#7201a8\"],[0.3333333333333333,\"#9c179e\"],[0.4444444444444444,\"#bd3786\"],[0.5555555555555556,\"#d8576b\"],[0.6666666666666666,\"#ed7953\"],[0.7777777777777778,\"#fb9f3a\"],[0.8888888888888888,\"#fdca26\"],[1.0,\"#f0f921\"]],\"sequentialminus\":[[0.0,\"#0d0887\"],[0.1111111111111111,\"#46039f\"],[0.2222222222222222,\"#7201a8\"],[0.3333333333333333,\"#9c179e\"],[0.4444444444444444,\"#bd3786\"],[0.5555555555555556,\"#d8576b\"],[0.6666666666666666,\"#ed7953\"],[0.7777777777777778,\"#fb9f3a\"],[0.8888888888888888,\"#fdca26\"],[1.0,\"#f0f921\"]]},\"colorway\":[\"#636efa\",\"#EF553B\",\"#00cc96\",\"#ab63fa\",\"#FFA15A\",\"#19d3f3\",\"#FF6692\",\"#B6E880\",\"#FF97FF\",\"#FECB52\"],\"font\":{\"color\":\"#2a3f5f\"},\"geo\":{\"bgcolor\":\"white\",\"lakecolor\":\"white\",\"landcolor\":\"#E5ECF6\",\"showlakes\":true,\"showland\":true,\"subunitcolor\":\"white\"},\"hoverlabel\":{\"align\":\"left\"},\"hovermode\":\"closest\",\"mapbox\":{\"style\":\"light\"},\"paper_bgcolor\":\"white\",\"plot_bgcolor\":\"#E5ECF6\",\"polar\":{\"angularaxis\":{\"gridcolor\":\"white\",\"linecolor\":\"white\",\"ticks\":\"\"},\"bgcolor\":\"#E5ECF6\",\"radialaxis\":{\"gridcolor\":\"white\",\"linecolor\":\"white\",\"ticks\":\"\"}},\"scene\":{\"xaxis\":{\"backgroundcolor\":\"#E5ECF6\",\"gridcolor\":\"white\",\"gridwidth\":2,\"linecolor\":\"white\",\"showbackground\":true,\"ticks\":\"\",\"zerolinecolor\":\"white\"},\"yaxis\":{\"backgroundcolor\":\"#E5ECF6\",\"gridcolor\":\"white\",\"gridwidth\":2,\"linecolor\":\"white\",\"showbackground\":true,\"ticks\":\"\",\"zerolinecolor\":\"white\"},\"zaxis\":{\"backgroundcolor\":\"#E5ECF6\",\"gridcolor\":\"white\",\"gridwidth\":2,\"linecolor\":\"white\",\"showbackground\":true,\"ticks\":\"\",\"zerolinecolor\":\"white\"}},\"shapedefaults\":{\"line\":{\"color\":\"#2a3f5f\"}},\"ternary\":{\"aaxis\":{\"gridcolor\":\"white\",\"linecolor\":\"white\",\"ticks\":\"\"},\"baxis\":{\"gridcolor\":\"white\",\"linecolor\":\"white\",\"ticks\":\"\"},\"bgcolor\":\"#E5ECF6\",\"caxis\":{\"gridcolor\":\"white\",\"linecolor\":\"white\",\"ticks\":\"\"}},\"title\":{\"x\":0.05},\"xaxis\":{\"automargin\":true,\"gridcolor\":\"white\",\"linecolor\":\"white\",\"ticks\":\"\",\"title\":{\"standoff\":15},\"zerolinecolor\":\"white\",\"zerolinewidth\":2},\"yaxis\":{\"automargin\":true,\"gridcolor\":\"white\",\"linecolor\":\"white\",\"ticks\":\"\",\"title\":{\"standoff\":15},\"zerolinecolor\":\"white\",\"zerolinewidth\":2}}},\"xaxis\":{\"anchor\":\"y\",\"domain\":[0.0,0.2125],\"title\":{\"text\":\"HGB_learning_rate\"}},\"yaxis\":{\"anchor\":\"x\",\"domain\":[0.0,1.0],\"title\":{\"text\":\"Objective Value\"}},\"xaxis2\":{\"anchor\":\"y2\",\"domain\":[0.2625,0.475],\"title\":{\"text\":\"HGB_max_depth\"}},\"yaxis2\":{\"anchor\":\"x2\",\"domain\":[0.0,1.0],\"matches\":\"y\",\"showticklabels\":false},\"xaxis3\":{\"anchor\":\"y3\",\"domain\":[0.525,0.7375],\"title\":{\"text\":\"HGB_max_iter\"}},\"yaxis3\":{\"anchor\":\"x3\",\"domain\":[0.0,1.0],\"matches\":\"y\",\"showticklabels\":false},\"xaxis4\":{\"anchor\":\"y4\",\"domain\":[0.7875,1.0],\"title\":{\"text\":\"HGB_min_samples_leaf\"}},\"yaxis4\":{\"anchor\":\"x4\",\"domain\":[0.0,1.0],\"matches\":\"y\",\"showticklabels\":false},\"title\":{\"text\":\"Slice Plot\"},\"width\":1200},                        {\"responsive\": true}                    ).then(function(){\n",
              "                            \n",
              "var gd = document.getElementById('79276de0-425b-4f7d-a960-9505c113e8b5');\n",
              "var x = new MutationObserver(function (mutations, observer) {{\n",
              "        var display = window.getComputedStyle(gd).display;\n",
              "        if (!display || display === 'none') {{\n",
              "            console.log([gd, 'removed!']);\n",
              "            Plotly.purge(gd);\n",
              "            observer.disconnect();\n",
              "        }}\n",
              "}});\n",
              "\n",
              "// Listen for the removal of the full notebook cells\n",
              "var notebookContainer = gd.closest('#notebook-container');\n",
              "if (notebookContainer) {{\n",
              "    x.observe(notebookContainer, {childList: true});\n",
              "}}\n",
              "\n",
              "// Listen for the clearing of the current output cell\n",
              "var outputEl = gd.closest('.output');\n",
              "if (outputEl) {{\n",
              "    x.observe(outputEl, {childList: true});\n",
              "}}\n",
              "\n",
              "                        })                };                            </script>        </div>\n",
              "</body>\n",
              "</html>"
            ]
          },
          "metadata": {}
        }
      ],
      "source": [
        "#Visualize the slice plot\n",
        "optuna.visualization.plot_slice(study, params=['HGB_max_iter','HGB_learning_rate', 'HGB_min_samples_leaf', 'HGB_max_depth'])"
      ]
    },
    {
      "cell_type": "markdown",
      "source": [
        "### **3.3.8. CAT**\n",
        "* https://catboost.ai/en/docs/concepts/parameter-tuning\n",
        "* https://catboost.ai/en/docs/concepts/loss-functions-classification\n",
        "---\n",
        "\n"
      ],
      "metadata": {
        "id": "e8zXUqnd6msB"
      }
    },
    {
      "cell_type": "code",
      "source": [
        "pip install catboost"
      ],
      "metadata": {
        "colab": {
          "base_uri": "https://localhost:8080/"
        },
        "id": "1htxXuoc6yda",
        "outputId": "56ab430a-3ea2-4a4f-e5b8-9e2dd4411892"
      },
      "execution_count": null,
      "outputs": [
        {
          "output_type": "stream",
          "name": "stdout",
          "text": [
            "Looking in indexes: https://pypi.org/simple, https://us-python.pkg.dev/colab-wheels/public/simple/\n",
            "Requirement already satisfied: catboost in /usr/local/lib/python3.7/dist-packages (1.1.1)\n",
            "Requirement already satisfied: plotly in /usr/local/lib/python3.7/dist-packages (from catboost) (5.5.0)\n",
            "Requirement already satisfied: numpy>=1.16.0 in /usr/local/lib/python3.7/dist-packages (from catboost) (1.21.6)\n",
            "Requirement already satisfied: matplotlib in /usr/local/lib/python3.7/dist-packages (from catboost) (3.2.2)\n",
            "Requirement already satisfied: pandas>=0.24.0 in /usr/local/lib/python3.7/dist-packages (from catboost) (1.3.5)\n",
            "Requirement already satisfied: six in /usr/local/lib/python3.7/dist-packages (from catboost) (1.15.0)\n",
            "Requirement already satisfied: graphviz in /usr/local/lib/python3.7/dist-packages (from catboost) (0.10.1)\n",
            "Requirement already satisfied: scipy in /usr/local/lib/python3.7/dist-packages (from catboost) (1.7.3)\n",
            "Requirement already satisfied: pytz>=2017.3 in /usr/local/lib/python3.7/dist-packages (from pandas>=0.24.0->catboost) (2022.6)\n",
            "Requirement already satisfied: python-dateutil>=2.7.3 in /usr/local/lib/python3.7/dist-packages (from pandas>=0.24.0->catboost) (2.8.2)\n",
            "Requirement already satisfied: cycler>=0.10 in /usr/local/lib/python3.7/dist-packages (from matplotlib->catboost) (0.11.0)\n",
            "Requirement already satisfied: pyparsing!=2.0.4,!=2.1.2,!=2.1.6,>=2.0.1 in /usr/local/lib/python3.7/dist-packages (from matplotlib->catboost) (3.0.9)\n",
            "Requirement already satisfied: kiwisolver>=1.0.1 in /usr/local/lib/python3.7/dist-packages (from matplotlib->catboost) (1.4.4)\n",
            "Requirement already satisfied: typing-extensions in /usr/local/lib/python3.7/dist-packages (from kiwisolver>=1.0.1->matplotlib->catboost) (4.1.1)\n",
            "Requirement already satisfied: tenacity>=6.2.0 in /usr/local/lib/python3.7/dist-packages (from plotly->catboost) (8.1.0)\n"
          ]
        }
      ]
    },
    {
      "cell_type": "code",
      "execution_count": null,
      "metadata": {
        "id": "7jpzFx0i6msC"
      },
      "outputs": [],
      "source": [
        "#Step 1. Define an objective function to be maximized.\n",
        "def objective(trial):\n",
        "  from catboost import CatBoostClassifier\n",
        "\n",
        "  from sklearn.model_selection import RepeatedStratifiedKFold\n",
        "  from sklearn.model_selection import cross_validate\n",
        "\n",
        "  from sklearn.metrics import make_scorer\n",
        "  from sklearn.metrics import matthews_corrcoef\n",
        "\n",
        "  from sklearn.pipeline import make_pipeline\n",
        "  from sklearn.preprocessing import  StandardScaler\n",
        "\n",
        "\n",
        "  scaler = StandardScaler()\n",
        "\n",
        "  scoring = {'matthews_corrcoef': make_scorer(matthews_corrcoef)}\n",
        "  rfold= RepeatedStratifiedKFold(n_splits=10, n_repeats=10)\n",
        "\n",
        "  # Step 2. Setup values for the hyperparameters:\n",
        "\n",
        "  CAT_n_estimators = trial.suggest_categorical(\"CAT_n_estimators\", [100,300,500,700,900])\n",
        "  CAT_learning_rate = trial.suggest_float(\"CAT_learning_rate\", 0.1,0.7)\n",
        "  CAT_depth = trial.suggest_int('CAT_depth', 4,10)\n",
        "  CAT_min_data_in_leaf = trial.suggest_int(\"CAT_min_data_in_leaf\", 1,10)\n",
        "  CAT_loss_function = trial.suggest_categorical(\"CAT_loss_function\", ['Logloss','CrossEntropy'])\n",
        "\n",
        "  classifier_obj =CatBoostClassifier(n_estimators = CAT_n_estimators, learning_rate = CAT_learning_rate,\n",
        "                                     depth = CAT_depth, min_data_in_leaf = CAT_min_data_in_leaf,\n",
        "                                     loss_function = CAT_loss_function, logging_level='Silent')\n",
        "\n",
        "  pipeline = make_pipeline(scaler, classifier_obj)\n",
        "\n",
        "  # Step 3: Scoring method:\n",
        "  score=cross_validate(pipeline, x , y, cv=rfold,scoring=scoring, return_train_score=False)\n",
        "  mcc = score['test_matthews_corrcoef'].mean()\n",
        "  return mcc"
      ]
    },
    {
      "cell_type": "code",
      "execution_count": null,
      "metadata": {
        "colab": {
          "base_uri": "https://localhost:8080/"
        },
        "outputId": "26e5a8cb-1f75-4728-8b9d-d8a69dfed0ab",
        "id": "X9G7e7hg6msE"
      },
      "outputs": [
        {
          "output_type": "stream",
          "name": "stderr",
          "text": [
            "\u001b[32m[I 2022-11-10 11:36:18,056]\u001b[0m A new study created in memory with name: no-name-d22fe03e-d90e-4e51-8698-859e75b7503a\u001b[0m\n",
            "\u001b[32m[I 2022-11-10 11:38:08,536]\u001b[0m Trial 0 finished with value: 0.9410769466099532 and parameters: {'CAT_n_estimators': 300, 'CAT_learning_rate': 0.4673814345131694, 'CAT_depth': 5, 'CAT_min_data_in_leaf': 6, 'CAT_loss_function': 'Logloss'}. Best is trial 0 with value: 0.9410769466099532.\u001b[0m\n",
            "\u001b[32m[I 2022-11-10 11:46:20,655]\u001b[0m Trial 1 finished with value: 0.9396746803568771 and parameters: {'CAT_n_estimators': 500, 'CAT_learning_rate': 0.2813810081420888, 'CAT_depth': 9, 'CAT_min_data_in_leaf': 6, 'CAT_loss_function': 'CrossEntropy'}. Best is trial 0 with value: 0.9410769466099532.\u001b[0m\n",
            "\u001b[32m[I 2022-11-10 11:50:13,048]\u001b[0m Trial 2 finished with value: 0.9399197272451372 and parameters: {'CAT_n_estimators': 700, 'CAT_learning_rate': 0.6834138122443394, 'CAT_depth': 6, 'CAT_min_data_in_leaf': 9, 'CAT_loss_function': 'CrossEntropy'}. Best is trial 0 with value: 0.9410769466099532.\u001b[0m\n",
            "\u001b[32m[I 2022-11-10 11:55:47,216]\u001b[0m Trial 3 finished with value: 0.943161893238976 and parameters: {'CAT_n_estimators': 900, 'CAT_learning_rate': 0.10260484795771906, 'CAT_depth': 6, 'CAT_min_data_in_leaf': 3, 'CAT_loss_function': 'Logloss'}. Best is trial 3 with value: 0.943161893238976.\u001b[0m\n",
            "\u001b[32m[I 2022-11-10 12:03:56,317]\u001b[0m Trial 4 finished with value: 0.9379174347390667 and parameters: {'CAT_n_estimators': 300, 'CAT_learning_rate': 0.27612555280257234, 'CAT_depth': 10, 'CAT_min_data_in_leaf': 4, 'CAT_loss_function': 'Logloss'}. Best is trial 3 with value: 0.943161893238976.\u001b[0m\n",
            "\u001b[32m[I 2022-11-10 12:21:27,835]\u001b[0m Trial 5 finished with value: 0.934370886171561 and parameters: {'CAT_n_estimators': 700, 'CAT_learning_rate': 0.63467631785983, 'CAT_depth': 10, 'CAT_min_data_in_leaf': 10, 'CAT_loss_function': 'CrossEntropy'}. Best is trial 3 with value: 0.943161893238976.\u001b[0m\n",
            "\u001b[32m[I 2022-11-10 12:22:55,190]\u001b[0m Trial 6 finished with value: 0.9281544333047009 and parameters: {'CAT_n_estimators': 100, 'CAT_learning_rate': 0.6388689171838027, 'CAT_depth': 9, 'CAT_min_data_in_leaf': 10, 'CAT_loss_function': 'Logloss'}. Best is trial 3 with value: 0.943161893238976.\u001b[0m\n",
            "\u001b[32m[I 2022-11-10 12:23:31,922]\u001b[0m Trial 7 finished with value: 0.9198469989244908 and parameters: {'CAT_n_estimators': 100, 'CAT_learning_rate': 0.44428320078386163, 'CAT_depth': 7, 'CAT_min_data_in_leaf': 6, 'CAT_loss_function': 'CrossEntropy'}. Best is trial 3 with value: 0.943161893238976.\u001b[0m\n",
            "\u001b[32m[I 2022-11-10 12:23:53,773]\u001b[0m Trial 8 finished with value: 0.8836499809704605 and parameters: {'CAT_n_estimators': 100, 'CAT_learning_rate': 0.21869775585616835, 'CAT_depth': 5, 'CAT_min_data_in_leaf': 3, 'CAT_loss_function': 'Logloss'}. Best is trial 3 with value: 0.943161893238976.\u001b[0m\n",
            "\u001b[32m[I 2022-11-10 12:24:15,339]\u001b[0m Trial 9 finished with value: 0.9135586497811927 and parameters: {'CAT_n_estimators': 100, 'CAT_learning_rate': 0.5050227811156677, 'CAT_depth': 5, 'CAT_min_data_in_leaf': 5, 'CAT_loss_function': 'CrossEntropy'}. Best is trial 3 with value: 0.943161893238976.\u001b[0m\n",
            "\u001b[32m[I 2022-11-10 12:27:56,476]\u001b[0m Trial 10 finished with value: 0.9449919396910468 and parameters: {'CAT_n_estimators': 900, 'CAT_learning_rate': 0.16574361849033753, 'CAT_depth': 4, 'CAT_min_data_in_leaf': 1, 'CAT_loss_function': 'Logloss'}. Best is trial 10 with value: 0.9449919396910468.\u001b[0m\n",
            "\u001b[32m[I 2022-11-10 12:31:40,309]\u001b[0m Trial 11 finished with value: 0.9412775230274056 and parameters: {'CAT_n_estimators': 900, 'CAT_learning_rate': 0.12098676747478283, 'CAT_depth': 4, 'CAT_min_data_in_leaf': 1, 'CAT_loss_function': 'Logloss'}. Best is trial 10 with value: 0.9449919396910468.\u001b[0m\n",
            "\u001b[32m[I 2022-11-10 12:35:24,852]\u001b[0m Trial 12 finished with value: 0.9428119080786734 and parameters: {'CAT_n_estimators': 900, 'CAT_learning_rate': 0.11057035982025874, 'CAT_depth': 4, 'CAT_min_data_in_leaf': 1, 'CAT_loss_function': 'Logloss'}. Best is trial 10 with value: 0.9449919396910468.\u001b[0m\n",
            "\u001b[32m[I 2022-11-10 12:41:49,116]\u001b[0m Trial 13 finished with value: 0.9434364605904144 and parameters: {'CAT_n_estimators': 900, 'CAT_learning_rate': 0.21433132606407826, 'CAT_depth': 7, 'CAT_min_data_in_leaf': 2, 'CAT_loss_function': 'Logloss'}. Best is trial 10 with value: 0.9449919396910468.\u001b[0m\n",
            "\u001b[32m[I 2022-11-10 12:50:42,344]\u001b[0m Trial 14 finished with value: 0.9398672110057621 and parameters: {'CAT_n_estimators': 900, 'CAT_learning_rate': 0.34521442579745343, 'CAT_depth': 8, 'CAT_min_data_in_leaf': 2, 'CAT_loss_function': 'Logloss'}. Best is trial 10 with value: 0.9449919396910468.\u001b[0m\n",
            "\u001b[32m[I 2022-11-10 12:57:09,769]\u001b[0m Trial 15 finished with value: 0.9424708489316262 and parameters: {'CAT_n_estimators': 900, 'CAT_learning_rate': 0.20593405495298137, 'CAT_depth': 7, 'CAT_min_data_in_leaf': 1, 'CAT_loss_function': 'Logloss'}. Best is trial 10 with value: 0.9449919396910468.\u001b[0m\n",
            "\u001b[32m[I 2022-11-10 13:02:20,269]\u001b[0m Trial 16 finished with value: 0.9415117851383861 and parameters: {'CAT_n_estimators': 500, 'CAT_learning_rate': 0.19965322998800153, 'CAT_depth': 8, 'CAT_min_data_in_leaf': 3, 'CAT_loss_function': 'Logloss'}. Best is trial 10 with value: 0.9449919396910468.\u001b[0m\n",
            "\u001b[32m[I 2022-11-10 13:07:07,545]\u001b[0m Trial 17 finished with value: 0.9423262523750351 and parameters: {'CAT_n_estimators': 900, 'CAT_learning_rate': 0.3542757261104923, 'CAT_depth': 6, 'CAT_min_data_in_leaf': 8, 'CAT_loss_function': 'Logloss'}. Best is trial 10 with value: 0.9449919396910468.\u001b[0m\n",
            "\u001b[32m[I 2022-11-10 13:10:43,641]\u001b[0m Trial 18 finished with value: 0.9442980805980501 and parameters: {'CAT_n_estimators': 900, 'CAT_learning_rate': 0.17135929441332562, 'CAT_depth': 4, 'CAT_min_data_in_leaf': 2, 'CAT_loss_function': 'Logloss'}. Best is trial 10 with value: 0.9449919396910468.\u001b[0m\n",
            "\u001b[32m[I 2022-11-10 13:14:16,935]\u001b[0m Trial 19 finished with value: 0.9448329151856231 and parameters: {'CAT_n_estimators': 900, 'CAT_learning_rate': 0.2903828828428897, 'CAT_depth': 4, 'CAT_min_data_in_leaf': 2, 'CAT_loss_function': 'Logloss'}. Best is trial 10 with value: 0.9449919396910468.\u001b[0m\n",
            "\u001b[32m[I 2022-11-10 13:16:39,784]\u001b[0m Trial 20 finished with value: 0.9432918069444718 and parameters: {'CAT_n_estimators': 500, 'CAT_learning_rate': 0.32470499732885194, 'CAT_depth': 5, 'CAT_min_data_in_leaf': 4, 'CAT_loss_function': 'Logloss'}. Best is trial 10 with value: 0.9449919396910468.\u001b[0m\n",
            "\u001b[32m[I 2022-11-10 13:20:18,733]\u001b[0m Trial 21 finished with value: 0.9446398976192402 and parameters: {'CAT_n_estimators': 900, 'CAT_learning_rate': 0.1657531551498863, 'CAT_depth': 4, 'CAT_min_data_in_leaf': 2, 'CAT_loss_function': 'Logloss'}. Best is trial 10 with value: 0.9449919396910468.\u001b[0m\n",
            "\u001b[32m[I 2022-11-10 13:23:54,511]\u001b[0m Trial 22 finished with value: 0.9452298587650725 and parameters: {'CAT_n_estimators': 900, 'CAT_learning_rate': 0.28868354492759013, 'CAT_depth': 4, 'CAT_min_data_in_leaf': 2, 'CAT_loss_function': 'Logloss'}. Best is trial 22 with value: 0.9452298587650725.\u001b[0m\n",
            "\u001b[32m[I 2022-11-10 13:27:29,073]\u001b[0m Trial 23 finished with value: 0.9449249849432781 and parameters: {'CAT_n_estimators': 900, 'CAT_learning_rate': 0.27004985466891585, 'CAT_depth': 4, 'CAT_min_data_in_leaf': 4, 'CAT_loss_function': 'Logloss'}. Best is trial 22 with value: 0.9452298587650725.\u001b[0m\n",
            "\u001b[32m[I 2022-11-10 13:30:49,418]\u001b[0m Trial 24 finished with value: 0.943037430204284 and parameters: {'CAT_n_estimators': 700, 'CAT_learning_rate': 0.3780807517275657, 'CAT_depth': 5, 'CAT_min_data_in_leaf': 4, 'CAT_loss_function': 'Logloss'}. Best is trial 22 with value: 0.9452298587650725.\u001b[0m\n",
            "\u001b[32m[I 2022-11-10 13:32:06,952]\u001b[0m Trial 25 finished with value: 0.9419870385684626 and parameters: {'CAT_n_estimators': 300, 'CAT_learning_rate': 0.2528656918923166, 'CAT_depth': 4, 'CAT_min_data_in_leaf': 5, 'CAT_loss_function': 'Logloss'}. Best is trial 22 with value: 0.9452298587650725.\u001b[0m\n",
            "\u001b[32m[I 2022-11-10 13:37:14,609]\u001b[0m Trial 26 finished with value: 0.9410986080585358 and parameters: {'CAT_n_estimators': 900, 'CAT_learning_rate': 0.4204096770126806, 'CAT_depth': 6, 'CAT_min_data_in_leaf': 3, 'CAT_loss_function': 'CrossEntropy'}. Best is trial 22 with value: 0.9452298587650725.\u001b[0m\n",
            "\u001b[32m[I 2022-11-10 13:41:31,949]\u001b[0m Trial 27 finished with value: 0.9418883904124836 and parameters: {'CAT_n_estimators': 900, 'CAT_learning_rate': 0.3056675697661261, 'CAT_depth': 5, 'CAT_min_data_in_leaf': 1, 'CAT_loss_function': 'Logloss'}. Best is trial 22 with value: 0.9452298587650725.\u001b[0m\n",
            "\u001b[32m[I 2022-11-10 13:45:19,544]\u001b[0m Trial 28 finished with value: 0.9452421986737543 and parameters: {'CAT_n_estimators': 900, 'CAT_learning_rate': 0.16072676121148252, 'CAT_depth': 4, 'CAT_min_data_in_leaf': 7, 'CAT_loss_function': 'Logloss'}. Best is trial 28 with value: 0.9452421986737543.\u001b[0m\n",
            "\u001b[32m[I 2022-11-10 13:46:51,598]\u001b[0m Trial 29 finished with value: 0.9399465165819462 and parameters: {'CAT_n_estimators': 300, 'CAT_learning_rate': 0.16462481751887714, 'CAT_depth': 5, 'CAT_min_data_in_leaf': 7, 'CAT_loss_function': 'Logloss'}. Best is trial 28 with value: 0.9452421986737543.\u001b[0m\n",
            "\u001b[32m[I 2022-11-10 13:50:54,106]\u001b[0m Trial 30 finished with value: 0.9414952640871966 and parameters: {'CAT_n_estimators': 900, 'CAT_learning_rate': 0.5046416182004356, 'CAT_depth': 5, 'CAT_min_data_in_leaf': 7, 'CAT_loss_function': 'Logloss'}. Best is trial 28 with value: 0.9452421986737543.\u001b[0m\n",
            "\u001b[32m[I 2022-11-10 13:54:30,849]\u001b[0m Trial 31 finished with value: 0.9428289206219056 and parameters: {'CAT_n_estimators': 900, 'CAT_learning_rate': 0.26078505980789546, 'CAT_depth': 4, 'CAT_min_data_in_leaf': 8, 'CAT_loss_function': 'Logloss'}. Best is trial 28 with value: 0.9452421986737543.\u001b[0m\n",
            "\u001b[32m[I 2022-11-10 13:58:07,324]\u001b[0m Trial 32 finished with value: 0.9449695999337783 and parameters: {'CAT_n_estimators': 900, 'CAT_learning_rate': 0.23540551205615978, 'CAT_depth': 4, 'CAT_min_data_in_leaf': 7, 'CAT_loss_function': 'Logloss'}. Best is trial 28 with value: 0.9452421986737543.\u001b[0m\n",
            "\u001b[32m[I 2022-11-10 14:00:18,332]\u001b[0m Trial 33 finished with value: 0.943394806290648 and parameters: {'CAT_n_estimators': 500, 'CAT_learning_rate': 0.23922948923150544, 'CAT_depth': 4, 'CAT_min_data_in_leaf': 7, 'CAT_loss_function': 'Logloss'}. Best is trial 28 with value: 0.9452421986737543.\u001b[0m\n",
            "\u001b[32m[I 2022-11-10 14:04:37,479]\u001b[0m Trial 34 finished with value: 0.943724549032263 and parameters: {'CAT_n_estimators': 700, 'CAT_learning_rate': 0.15245296808727204, 'CAT_depth': 6, 'CAT_min_data_in_leaf': 8, 'CAT_loss_function': 'CrossEntropy'}. Best is trial 28 with value: 0.9452421986737543.\u001b[0m\n",
            "\u001b[32m[I 2022-11-10 14:08:29,248]\u001b[0m Trial 35 finished with value: 0.9444990856789646 and parameters: {'CAT_n_estimators': 900, 'CAT_learning_rate': 0.13772595999486054, 'CAT_depth': 4, 'CAT_min_data_in_leaf': 9, 'CAT_loss_function': 'Logloss'}. Best is trial 28 with value: 0.9452421986737543.\u001b[0m\n",
            "\u001b[32m[I 2022-11-10 14:10:05,246]\u001b[0m Trial 36 finished with value: 0.9403513584132663 and parameters: {'CAT_n_estimators': 300, 'CAT_learning_rate': 0.19263295859066, 'CAT_depth': 5, 'CAT_min_data_in_leaf': 6, 'CAT_loss_function': 'Logloss'}. Best is trial 28 with value: 0.9452421986737543.\u001b[0m\n",
            "\u001b[32m[I 2022-11-10 14:13:58,532]\u001b[0m Trial 37 finished with value: 0.9439721289356345 and parameters: {'CAT_n_estimators': 900, 'CAT_learning_rate': 0.23322213959750288, 'CAT_depth': 4, 'CAT_min_data_in_leaf': 7, 'CAT_loss_function': 'CrossEntropy'}. Best is trial 28 with value: 0.9452421986737543.\u001b[0m\n",
            "\u001b[32m[I 2022-11-10 14:17:14,963]\u001b[0m Trial 38 finished with value: 0.9433382194423519 and parameters: {'CAT_n_estimators': 700, 'CAT_learning_rate': 0.3175836656254294, 'CAT_depth': 5, 'CAT_min_data_in_leaf': 5, 'CAT_loss_function': 'Logloss'}. Best is trial 28 with value: 0.9452421986737543.\u001b[0m\n",
            "\u001b[32m[I 2022-11-10 14:22:33,926]\u001b[0m Trial 39 finished with value: 0.9445619493907642 and parameters: {'CAT_n_estimators': 900, 'CAT_learning_rate': 0.10167246819734778, 'CAT_depth': 6, 'CAT_min_data_in_leaf': 9, 'CAT_loss_function': 'Logloss'}. Best is trial 28 with value: 0.9452421986737543.\u001b[0m\n",
            "\u001b[32m[I 2022-11-10 14:24:09,081]\u001b[0m Trial 40 finished with value: 0.893149099864377 and parameters: {'CAT_n_estimators': 100, 'CAT_learning_rate': 0.13472756908564337, 'CAT_depth': 9, 'CAT_min_data_in_leaf': 6, 'CAT_loss_function': 'CrossEntropy'}. Best is trial 28 with value: 0.9452421986737543.\u001b[0m\n",
            "\u001b[32m[I 2022-11-10 14:27:46,614]\u001b[0m Trial 41 finished with value: 0.9443016024742056 and parameters: {'CAT_n_estimators': 900, 'CAT_learning_rate': 0.2721260291063466, 'CAT_depth': 4, 'CAT_min_data_in_leaf': 4, 'CAT_loss_function': 'Logloss'}. Best is trial 28 with value: 0.9452421986737543.\u001b[0m\n",
            "\u001b[32m[I 2022-11-10 14:31:28,626]\u001b[0m Trial 42 finished with value: 0.9441523739409274 and parameters: {'CAT_n_estimators': 900, 'CAT_learning_rate': 0.28335445589251596, 'CAT_depth': 4, 'CAT_min_data_in_leaf': 5, 'CAT_loss_function': 'Logloss'}. Best is trial 28 with value: 0.9452421986737543.\u001b[0m\n",
            "\u001b[32m[I 2022-11-10 14:35:19,870]\u001b[0m Trial 43 finished with value: 0.9439079177029845 and parameters: {'CAT_n_estimators': 900, 'CAT_learning_rate': 0.18016485475155286, 'CAT_depth': 4, 'CAT_min_data_in_leaf': 3, 'CAT_loss_function': 'Logloss'}. Best is trial 28 with value: 0.9452421986737543.\u001b[0m\n",
            "\u001b[32m[I 2022-11-10 14:39:37,071]\u001b[0m Trial 44 finished with value: 0.9438538440135525 and parameters: {'CAT_n_estimators': 900, 'CAT_learning_rate': 0.22616658338938972, 'CAT_depth': 5, 'CAT_min_data_in_leaf': 8, 'CAT_loss_function': 'Logloss'}. Best is trial 28 with value: 0.9452421986737543.\u001b[0m\n",
            "\u001b[32m[I 2022-11-10 14:43:07,417]\u001b[0m Trial 45 finished with value: 0.9426328633764023 and parameters: {'CAT_n_estimators': 900, 'CAT_learning_rate': 0.39590870287389257, 'CAT_depth': 4, 'CAT_min_data_in_leaf': 6, 'CAT_loss_function': 'Logloss'}. Best is trial 28 with value: 0.9452421986737543.\u001b[0m\n",
            "\u001b[32m[I 2022-11-10 14:45:30,035]\u001b[0m Trial 46 finished with value: 0.9412850392222591 and parameters: {'CAT_n_estimators': 500, 'CAT_learning_rate': 0.5848770971974339, 'CAT_depth': 5, 'CAT_min_data_in_leaf': 1, 'CAT_loss_function': 'Logloss'}. Best is trial 28 with value: 0.9452421986737543.\u001b[0m\n",
            "\u001b[32m[I 2022-11-10 14:45:48,790]\u001b[0m Trial 47 finished with value: 0.8825473338394663 and parameters: {'CAT_n_estimators': 100, 'CAT_learning_rate': 0.2565560831065521, 'CAT_depth': 4, 'CAT_min_data_in_leaf': 3, 'CAT_loss_function': 'Logloss'}. Best is trial 28 with value: 0.9452421986737543.\u001b[0m\n",
            "\u001b[32m[I 2022-11-10 14:55:05,881]\u001b[0m Trial 48 finished with value: 0.9404067209951171 and parameters: {'CAT_n_estimators': 900, 'CAT_learning_rate': 0.2148637928417856, 'CAT_depth': 8, 'CAT_min_data_in_leaf': 7, 'CAT_loss_function': 'CrossEntropy'}. Best is trial 28 with value: 0.9452421986737543.\u001b[0m\n",
            "\u001b[32m[I 2022-11-10 14:58:50,319]\u001b[0m Trial 49 finished with value: 0.9446964223640711 and parameters: {'CAT_n_estimators': 900, 'CAT_learning_rate': 0.3436768151718856, 'CAT_depth': 4, 'CAT_min_data_in_leaf': 2, 'CAT_loss_function': 'Logloss'}. Best is trial 28 with value: 0.9452421986737543.\u001b[0m\n"
          ]
        }
      ],
      "source": [
        "# Step 4: Running it\n",
        "study = optuna.create_study(direction=\"maximize\")\n",
        "study.optimize(objective, n_trials=50)"
      ]
    },
    {
      "cell_type": "code",
      "execution_count": null,
      "metadata": {
        "id": "EEdFlNXJ6msF"
      },
      "outputs": [],
      "source": [
        "def get_Optimized_Parmaters():\n",
        "\n",
        "  # Getting the best trial:\n",
        "  print(f\"The best trial is : \\n{study.best_trial}\")\n",
        "\n",
        "  # Getting the best score:\n",
        "  print(f\"The best value is : \\n{study.best_value}\")\n",
        "\n",
        "  # Getting the best parameters:\n",
        "  print(f\"The best parameters are : \\n{study.best_params}\")\n",
        "\n",
        "  #Visualize the slice plot\n",
        "  optuna.visualization.plot_slice(study, params=['CAT_n_estimators','CAT_learning_rate', 'CAT_depth', 'CAT_min_data_in_leaf', 'CAT_loss_function'])\n"
      ]
    },
    {
      "cell_type": "code",
      "execution_count": null,
      "metadata": {
        "id": "l0agFacP6msF",
        "colab": {
          "base_uri": "https://localhost:8080/"
        },
        "outputId": "2147009e-fd14-421c-f251-eff9f74afddc"
      },
      "outputs": [
        {
          "output_type": "stream",
          "name": "stdout",
          "text": [
            "The best trial is : \n",
            "FrozenTrial(number=28, values=[0.9452421986737543], datetime_start=datetime.datetime(2022, 11, 10, 13, 41, 31, 954446), datetime_complete=datetime.datetime(2022, 11, 10, 13, 45, 19, 544393), params={'CAT_n_estimators': 900, 'CAT_learning_rate': 0.16072676121148252, 'CAT_depth': 4, 'CAT_min_data_in_leaf': 7, 'CAT_loss_function': 'Logloss'}, distributions={'CAT_n_estimators': CategoricalDistribution(choices=(100, 300, 500, 700, 900)), 'CAT_learning_rate': FloatDistribution(high=0.7, log=False, low=0.1, step=None), 'CAT_depth': IntDistribution(high=10, log=False, low=4, step=1), 'CAT_min_data_in_leaf': IntDistribution(high=10, log=False, low=1, step=1), 'CAT_loss_function': CategoricalDistribution(choices=('Logloss', 'CrossEntropy'))}, user_attrs={}, system_attrs={}, intermediate_values={}, trial_id=28, state=TrialState.COMPLETE, value=None)\n",
            "The best value is : \n",
            "0.9452421986737543\n",
            "The best parameters are : \n",
            "{'CAT_n_estimators': 900, 'CAT_learning_rate': 0.16072676121148252, 'CAT_depth': 4, 'CAT_min_data_in_leaf': 7, 'CAT_loss_function': 'Logloss'}\n"
          ]
        }
      ],
      "source": [
        "get_Optimized_Parmaters()"
      ]
    },
    {
      "cell_type": "code",
      "execution_count": null,
      "metadata": {
        "id": "gfItcoR16msG",
        "colab": {
          "base_uri": "https://localhost:8080/"
        },
        "outputId": "b5a82fe8-8052-44c9-e2d0-b69f88430fc2"
      },
      "outputs": [
        {
          "output_type": "stream",
          "name": "stdout",
          "text": [
            "The best trial is : \n",
            "FrozenTrial(number=28, values=[0.9452421986737543], datetime_start=datetime.datetime(2022, 11, 10, 13, 41, 31, 954446), datetime_complete=datetime.datetime(2022, 11, 10, 13, 45, 19, 544393), params={'CAT_n_estimators': 900, 'CAT_learning_rate': 0.16072676121148252, 'CAT_depth': 4, 'CAT_min_data_in_leaf': 7, 'CAT_loss_function': 'Logloss'}, distributions={'CAT_n_estimators': CategoricalDistribution(choices=(100, 300, 500, 700, 900)), 'CAT_learning_rate': FloatDistribution(high=0.7, log=False, low=0.1, step=None), 'CAT_depth': IntDistribution(high=10, log=False, low=4, step=1), 'CAT_min_data_in_leaf': IntDistribution(high=10, log=False, low=1, step=1), 'CAT_loss_function': CategoricalDistribution(choices=('Logloss', 'CrossEntropy'))}, user_attrs={}, system_attrs={}, intermediate_values={}, trial_id=28, state=TrialState.COMPLETE, value=None)\n"
          ]
        }
      ],
      "source": [
        "# Getting the best trial:\n",
        "print(f\"The best trial is : \\n{study.best_trial}\")"
      ]
    },
    {
      "cell_type": "code",
      "execution_count": null,
      "metadata": {
        "id": "7i4nneut6msG",
        "colab": {
          "base_uri": "https://localhost:8080/"
        },
        "outputId": "f5241d0b-e72c-4778-f17c-f3d4883eadcb"
      },
      "outputs": [
        {
          "output_type": "stream",
          "name": "stdout",
          "text": [
            "The best value is : \n",
            "0.9452421986737543\n"
          ]
        }
      ],
      "source": [
        "# Getting the best score:\n",
        "print(f\"The best value is : \\n{study.best_value}\")"
      ]
    },
    {
      "cell_type": "code",
      "execution_count": null,
      "metadata": {
        "id": "FeqEFi3U6msG",
        "colab": {
          "base_uri": "https://localhost:8080/"
        },
        "outputId": "3c8a188c-8e9e-42fa-8c10-a60169cb2187"
      },
      "outputs": [
        {
          "output_type": "stream",
          "name": "stdout",
          "text": [
            "The best parameters are : \n",
            "{'CAT_n_estimators': 900, 'CAT_learning_rate': 0.16072676121148252, 'CAT_depth': 4, 'CAT_min_data_in_leaf': 7, 'CAT_loss_function': 'Logloss'}\n"
          ]
        }
      ],
      "source": [
        "# Getting the best parameters:\n",
        "print(f\"The best parameters are : \\n{study.best_params}\")"
      ]
    },
    {
      "cell_type": "code",
      "execution_count": null,
      "metadata": {
        "id": "DWTmqNV96msG",
        "colab": {
          "base_uri": "https://localhost:8080/",
          "height": 562
        },
        "outputId": "930bf85d-0d6c-46ff-dd7d-5bc9d03afdee"
      },
      "outputs": [
        {
          "output_type": "display_data",
          "data": {
            "text/html": [
              "<html>\n",
              "<head><meta charset=\"utf-8\" /></head>\n",
              "<body>\n",
              "    <div>            <script src=\"https://cdnjs.cloudflare.com/ajax/libs/mathjax/2.7.5/MathJax.js?config=TeX-AMS-MML_SVG\"></script><script type=\"text/javascript\">if (window.MathJax) {MathJax.Hub.Config({SVG: {font: \"STIX-Web\"}});}</script>                <script type=\"text/javascript\">window.PlotlyConfig = {MathJaxConfig: 'local'};</script>\n",
              "        <script src=\"https://cdn.plot.ly/plotly-2.8.3.min.js\"></script>                <div id=\"8fd407d8-252b-414a-92cc-87a66e7ab160\" class=\"plotly-graph-div\" style=\"height:525px; width:1500px;\"></div>            <script type=\"text/javascript\">                                    window.PLOTLYENV=window.PLOTLYENV || {};                                    if (document.getElementById(\"8fd407d8-252b-414a-92cc-87a66e7ab160\")) {                    Plotly.newPlot(                        \"8fd407d8-252b-414a-92cc-87a66e7ab160\",                        [{\"marker\":{\"color\":[0,1,2,3,4,5,6,7,8,9,10,11,12,13,14,15,16,17,18,19,20,21,22,23,24,25,26,27,28,29,30,31,32,33,34,35,36,37,38,39,40,41,42,43,44,45,46,47,48,49],\"colorbar\":{\"title\":{\"text\":\"Trial\"},\"x\":1.0,\"xpad\":40},\"colorscale\":[[0.0,\"rgb(247,251,255)\"],[0.125,\"rgb(222,235,247)\"],[0.25,\"rgb(198,219,239)\"],[0.375,\"rgb(158,202,225)\"],[0.5,\"rgb(107,174,214)\"],[0.625,\"rgb(66,146,198)\"],[0.75,\"rgb(33,113,181)\"],[0.875,\"rgb(8,81,156)\"],[1.0,\"rgb(8,48,107)\"]],\"line\":{\"color\":\"Grey\",\"width\":0.5},\"showscale\":true},\"mode\":\"markers\",\"showlegend\":false,\"x\":[5,9,6,6,10,10,9,7,5,5,4,4,4,7,8,7,8,6,4,4,5,4,4,4,5,4,6,5,4,5,5,4,4,4,6,4,5,4,5,6,9,4,4,4,5,4,5,4,8,4],\"y\":[0.9410769466099532,0.9396746803568771,0.9399197272451372,0.943161893238976,0.9379174347390667,0.934370886171561,0.9281544333047009,0.9198469989244908,0.8836499809704605,0.9135586497811927,0.9449919396910468,0.9412775230274056,0.9428119080786734,0.9434364605904144,0.9398672110057621,0.9424708489316262,0.9415117851383861,0.9423262523750351,0.9442980805980501,0.9448329151856231,0.9432918069444718,0.9446398976192402,0.9452298587650725,0.9449249849432781,0.943037430204284,0.9419870385684626,0.9410986080585358,0.9418883904124836,0.9452421986737543,0.9399465165819462,0.9414952640871966,0.9428289206219056,0.9449695999337783,0.943394806290648,0.943724549032263,0.9444990856789646,0.9403513584132663,0.9439721289356345,0.9433382194423519,0.9445619493907642,0.893149099864377,0.9443016024742056,0.9441523739409274,0.9439079177029845,0.9438538440135525,0.9426328633764023,0.9412850392222591,0.8825473338394663,0.9404067209951171,0.9446964223640711],\"type\":\"scatter\",\"xaxis\":\"x\",\"yaxis\":\"y\"},{\"marker\":{\"color\":[0,1,2,3,4,5,6,7,8,9,10,11,12,13,14,15,16,17,18,19,20,21,22,23,24,25,26,27,28,29,30,31,32,33,34,35,36,37,38,39,40,41,42,43,44,45,46,47,48,49],\"colorbar\":{\"title\":{\"text\":\"Trial\"},\"x\":1.0,\"xpad\":40},\"colorscale\":[[0.0,\"rgb(247,251,255)\"],[0.125,\"rgb(222,235,247)\"],[0.25,\"rgb(198,219,239)\"],[0.375,\"rgb(158,202,225)\"],[0.5,\"rgb(107,174,214)\"],[0.625,\"rgb(66,146,198)\"],[0.75,\"rgb(33,113,181)\"],[0.875,\"rgb(8,81,156)\"],[1.0,\"rgb(8,48,107)\"]],\"line\":{\"color\":\"Grey\",\"width\":0.5},\"showscale\":false},\"mode\":\"markers\",\"showlegend\":false,\"x\":[0.4673814345131694,0.2813810081420888,0.6834138122443394,0.10260484795771906,0.27612555280257234,0.63467631785983,0.6388689171838027,0.44428320078386163,0.21869775585616835,0.5050227811156677,0.16574361849033753,0.12098676747478283,0.11057035982025874,0.21433132606407826,0.34521442579745343,0.20593405495298137,0.19965322998800153,0.3542757261104923,0.17135929441332562,0.2903828828428897,0.32470499732885194,0.1657531551498863,0.28868354492759013,0.27004985466891585,0.3780807517275657,0.2528656918923166,0.4204096770126806,0.3056675697661261,0.16072676121148252,0.16462481751887714,0.5046416182004356,0.26078505980789546,0.23540551205615978,0.23922948923150544,0.15245296808727204,0.13772595999486054,0.19263295859066,0.23322213959750288,0.3175836656254294,0.10167246819734778,0.13472756908564337,0.2721260291063466,0.28335445589251596,0.18016485475155286,0.22616658338938972,0.39590870287389257,0.5848770971974339,0.2565560831065521,0.2148637928417856,0.3436768151718856],\"y\":[0.9410769466099532,0.9396746803568771,0.9399197272451372,0.943161893238976,0.9379174347390667,0.934370886171561,0.9281544333047009,0.9198469989244908,0.8836499809704605,0.9135586497811927,0.9449919396910468,0.9412775230274056,0.9428119080786734,0.9434364605904144,0.9398672110057621,0.9424708489316262,0.9415117851383861,0.9423262523750351,0.9442980805980501,0.9448329151856231,0.9432918069444718,0.9446398976192402,0.9452298587650725,0.9449249849432781,0.943037430204284,0.9419870385684626,0.9410986080585358,0.9418883904124836,0.9452421986737543,0.9399465165819462,0.9414952640871966,0.9428289206219056,0.9449695999337783,0.943394806290648,0.943724549032263,0.9444990856789646,0.9403513584132663,0.9439721289356345,0.9433382194423519,0.9445619493907642,0.893149099864377,0.9443016024742056,0.9441523739409274,0.9439079177029845,0.9438538440135525,0.9426328633764023,0.9412850392222591,0.8825473338394663,0.9404067209951171,0.9446964223640711],\"type\":\"scatter\",\"xaxis\":\"x2\",\"yaxis\":\"y2\"},{\"marker\":{\"color\":[0,1,2,3,4,5,6,7,8,9,10,11,12,13,14,15,16,17,18,19,20,21,22,23,24,25,26,27,28,29,30,31,32,33,34,35,36,37,38,39,40,41,42,43,44,45,46,47,48,49],\"colorbar\":{\"title\":{\"text\":\"Trial\"},\"x\":1.0,\"xpad\":40},\"colorscale\":[[0.0,\"rgb(247,251,255)\"],[0.125,\"rgb(222,235,247)\"],[0.25,\"rgb(198,219,239)\"],[0.375,\"rgb(158,202,225)\"],[0.5,\"rgb(107,174,214)\"],[0.625,\"rgb(66,146,198)\"],[0.75,\"rgb(33,113,181)\"],[0.875,\"rgb(8,81,156)\"],[1.0,\"rgb(8,48,107)\"]],\"line\":{\"color\":\"Grey\",\"width\":0.5},\"showscale\":false},\"mode\":\"markers\",\"showlegend\":false,\"x\":[\"Logloss\",\"CrossEntropy\",\"CrossEntropy\",\"Logloss\",\"Logloss\",\"CrossEntropy\",\"Logloss\",\"CrossEntropy\",\"Logloss\",\"CrossEntropy\",\"Logloss\",\"Logloss\",\"Logloss\",\"Logloss\",\"Logloss\",\"Logloss\",\"Logloss\",\"Logloss\",\"Logloss\",\"Logloss\",\"Logloss\",\"Logloss\",\"Logloss\",\"Logloss\",\"Logloss\",\"Logloss\",\"CrossEntropy\",\"Logloss\",\"Logloss\",\"Logloss\",\"Logloss\",\"Logloss\",\"Logloss\",\"Logloss\",\"CrossEntropy\",\"Logloss\",\"Logloss\",\"CrossEntropy\",\"Logloss\",\"Logloss\",\"CrossEntropy\",\"Logloss\",\"Logloss\",\"Logloss\",\"Logloss\",\"Logloss\",\"Logloss\",\"Logloss\",\"CrossEntropy\",\"Logloss\"],\"y\":[0.9410769466099532,0.9396746803568771,0.9399197272451372,0.943161893238976,0.9379174347390667,0.934370886171561,0.9281544333047009,0.9198469989244908,0.8836499809704605,0.9135586497811927,0.9449919396910468,0.9412775230274056,0.9428119080786734,0.9434364605904144,0.9398672110057621,0.9424708489316262,0.9415117851383861,0.9423262523750351,0.9442980805980501,0.9448329151856231,0.9432918069444718,0.9446398976192402,0.9452298587650725,0.9449249849432781,0.943037430204284,0.9419870385684626,0.9410986080585358,0.9418883904124836,0.9452421986737543,0.9399465165819462,0.9414952640871966,0.9428289206219056,0.9449695999337783,0.943394806290648,0.943724549032263,0.9444990856789646,0.9403513584132663,0.9439721289356345,0.9433382194423519,0.9445619493907642,0.893149099864377,0.9443016024742056,0.9441523739409274,0.9439079177029845,0.9438538440135525,0.9426328633764023,0.9412850392222591,0.8825473338394663,0.9404067209951171,0.9446964223640711],\"type\":\"scatter\",\"xaxis\":\"x3\",\"yaxis\":\"y3\"},{\"marker\":{\"color\":[0,1,2,3,4,5,6,7,8,9,10,11,12,13,14,15,16,17,18,19,20,21,22,23,24,25,26,27,28,29,30,31,32,33,34,35,36,37,38,39,40,41,42,43,44,45,46,47,48,49],\"colorbar\":{\"title\":{\"text\":\"Trial\"},\"x\":1.0,\"xpad\":40},\"colorscale\":[[0.0,\"rgb(247,251,255)\"],[0.125,\"rgb(222,235,247)\"],[0.25,\"rgb(198,219,239)\"],[0.375,\"rgb(158,202,225)\"],[0.5,\"rgb(107,174,214)\"],[0.625,\"rgb(66,146,198)\"],[0.75,\"rgb(33,113,181)\"],[0.875,\"rgb(8,81,156)\"],[1.0,\"rgb(8,48,107)\"]],\"line\":{\"color\":\"Grey\",\"width\":0.5},\"showscale\":false},\"mode\":\"markers\",\"showlegend\":false,\"x\":[6,6,9,3,4,10,10,6,3,5,1,1,1,2,2,1,3,8,2,2,4,2,2,4,4,5,3,1,7,7,7,8,7,7,8,9,6,7,5,9,6,4,5,3,8,6,1,3,7,2],\"y\":[0.9410769466099532,0.9396746803568771,0.9399197272451372,0.943161893238976,0.9379174347390667,0.934370886171561,0.9281544333047009,0.9198469989244908,0.8836499809704605,0.9135586497811927,0.9449919396910468,0.9412775230274056,0.9428119080786734,0.9434364605904144,0.9398672110057621,0.9424708489316262,0.9415117851383861,0.9423262523750351,0.9442980805980501,0.9448329151856231,0.9432918069444718,0.9446398976192402,0.9452298587650725,0.9449249849432781,0.943037430204284,0.9419870385684626,0.9410986080585358,0.9418883904124836,0.9452421986737543,0.9399465165819462,0.9414952640871966,0.9428289206219056,0.9449695999337783,0.943394806290648,0.943724549032263,0.9444990856789646,0.9403513584132663,0.9439721289356345,0.9433382194423519,0.9445619493907642,0.893149099864377,0.9443016024742056,0.9441523739409274,0.9439079177029845,0.9438538440135525,0.9426328633764023,0.9412850392222591,0.8825473338394663,0.9404067209951171,0.9446964223640711],\"type\":\"scatter\",\"xaxis\":\"x4\",\"yaxis\":\"y4\"},{\"marker\":{\"color\":[0,1,2,3,4,5,6,7,8,9,10,11,12,13,14,15,16,17,18,19,20,21,22,23,24,25,26,27,28,29,30,31,32,33,34,35,36,37,38,39,40,41,42,43,44,45,46,47,48,49],\"colorbar\":{\"title\":{\"text\":\"Trial\"},\"x\":1.0,\"xpad\":40},\"colorscale\":[[0.0,\"rgb(247,251,255)\"],[0.125,\"rgb(222,235,247)\"],[0.25,\"rgb(198,219,239)\"],[0.375,\"rgb(158,202,225)\"],[0.5,\"rgb(107,174,214)\"],[0.625,\"rgb(66,146,198)\"],[0.75,\"rgb(33,113,181)\"],[0.875,\"rgb(8,81,156)\"],[1.0,\"rgb(8,48,107)\"]],\"line\":{\"color\":\"Grey\",\"width\":0.5},\"showscale\":false},\"mode\":\"markers\",\"showlegend\":false,\"x\":[300,500,700,900,300,700,100,100,100,100,900,900,900,900,900,900,500,900,900,900,500,900,900,900,700,300,900,900,900,300,900,900,900,500,700,900,300,900,700,900,100,900,900,900,900,900,500,100,900,900],\"y\":[0.9410769466099532,0.9396746803568771,0.9399197272451372,0.943161893238976,0.9379174347390667,0.934370886171561,0.9281544333047009,0.9198469989244908,0.8836499809704605,0.9135586497811927,0.9449919396910468,0.9412775230274056,0.9428119080786734,0.9434364605904144,0.9398672110057621,0.9424708489316262,0.9415117851383861,0.9423262523750351,0.9442980805980501,0.9448329151856231,0.9432918069444718,0.9446398976192402,0.9452298587650725,0.9449249849432781,0.943037430204284,0.9419870385684626,0.9410986080585358,0.9418883904124836,0.9452421986737543,0.9399465165819462,0.9414952640871966,0.9428289206219056,0.9449695999337783,0.943394806290648,0.943724549032263,0.9444990856789646,0.9403513584132663,0.9439721289356345,0.9433382194423519,0.9445619493907642,0.893149099864377,0.9443016024742056,0.9441523739409274,0.9439079177029845,0.9438538440135525,0.9426328633764023,0.9412850392222591,0.8825473338394663,0.9404067209951171,0.9446964223640711],\"type\":\"scatter\",\"xaxis\":\"x5\",\"yaxis\":\"y5\"}],                        {\"template\":{\"data\":{\"bar\":[{\"error_x\":{\"color\":\"#2a3f5f\"},\"error_y\":{\"color\":\"#2a3f5f\"},\"marker\":{\"line\":{\"color\":\"#E5ECF6\",\"width\":0.5},\"pattern\":{\"fillmode\":\"overlay\",\"size\":10,\"solidity\":0.2}},\"type\":\"bar\"}],\"barpolar\":[{\"marker\":{\"line\":{\"color\":\"#E5ECF6\",\"width\":0.5},\"pattern\":{\"fillmode\":\"overlay\",\"size\":10,\"solidity\":0.2}},\"type\":\"barpolar\"}],\"carpet\":[{\"aaxis\":{\"endlinecolor\":\"#2a3f5f\",\"gridcolor\":\"white\",\"linecolor\":\"white\",\"minorgridcolor\":\"white\",\"startlinecolor\":\"#2a3f5f\"},\"baxis\":{\"endlinecolor\":\"#2a3f5f\",\"gridcolor\":\"white\",\"linecolor\":\"white\",\"minorgridcolor\":\"white\",\"startlinecolor\":\"#2a3f5f\"},\"type\":\"carpet\"}],\"choropleth\":[{\"colorbar\":{\"outlinewidth\":0,\"ticks\":\"\"},\"type\":\"choropleth\"}],\"contour\":[{\"colorbar\":{\"outlinewidth\":0,\"ticks\":\"\"},\"colorscale\":[[0.0,\"#0d0887\"],[0.1111111111111111,\"#46039f\"],[0.2222222222222222,\"#7201a8\"],[0.3333333333333333,\"#9c179e\"],[0.4444444444444444,\"#bd3786\"],[0.5555555555555556,\"#d8576b\"],[0.6666666666666666,\"#ed7953\"],[0.7777777777777778,\"#fb9f3a\"],[0.8888888888888888,\"#fdca26\"],[1.0,\"#f0f921\"]],\"type\":\"contour\"}],\"contourcarpet\":[{\"colorbar\":{\"outlinewidth\":0,\"ticks\":\"\"},\"type\":\"contourcarpet\"}],\"heatmap\":[{\"colorbar\":{\"outlinewidth\":0,\"ticks\":\"\"},\"colorscale\":[[0.0,\"#0d0887\"],[0.1111111111111111,\"#46039f\"],[0.2222222222222222,\"#7201a8\"],[0.3333333333333333,\"#9c179e\"],[0.4444444444444444,\"#bd3786\"],[0.5555555555555556,\"#d8576b\"],[0.6666666666666666,\"#ed7953\"],[0.7777777777777778,\"#fb9f3a\"],[0.8888888888888888,\"#fdca26\"],[1.0,\"#f0f921\"]],\"type\":\"heatmap\"}],\"heatmapgl\":[{\"colorbar\":{\"outlinewidth\":0,\"ticks\":\"\"},\"colorscale\":[[0.0,\"#0d0887\"],[0.1111111111111111,\"#46039f\"],[0.2222222222222222,\"#7201a8\"],[0.3333333333333333,\"#9c179e\"],[0.4444444444444444,\"#bd3786\"],[0.5555555555555556,\"#d8576b\"],[0.6666666666666666,\"#ed7953\"],[0.7777777777777778,\"#fb9f3a\"],[0.8888888888888888,\"#fdca26\"],[1.0,\"#f0f921\"]],\"type\":\"heatmapgl\"}],\"histogram\":[{\"marker\":{\"pattern\":{\"fillmode\":\"overlay\",\"size\":10,\"solidity\":0.2}},\"type\":\"histogram\"}],\"histogram2d\":[{\"colorbar\":{\"outlinewidth\":0,\"ticks\":\"\"},\"colorscale\":[[0.0,\"#0d0887\"],[0.1111111111111111,\"#46039f\"],[0.2222222222222222,\"#7201a8\"],[0.3333333333333333,\"#9c179e\"],[0.4444444444444444,\"#bd3786\"],[0.5555555555555556,\"#d8576b\"],[0.6666666666666666,\"#ed7953\"],[0.7777777777777778,\"#fb9f3a\"],[0.8888888888888888,\"#fdca26\"],[1.0,\"#f0f921\"]],\"type\":\"histogram2d\"}],\"histogram2dcontour\":[{\"colorbar\":{\"outlinewidth\":0,\"ticks\":\"\"},\"colorscale\":[[0.0,\"#0d0887\"],[0.1111111111111111,\"#46039f\"],[0.2222222222222222,\"#7201a8\"],[0.3333333333333333,\"#9c179e\"],[0.4444444444444444,\"#bd3786\"],[0.5555555555555556,\"#d8576b\"],[0.6666666666666666,\"#ed7953\"],[0.7777777777777778,\"#fb9f3a\"],[0.8888888888888888,\"#fdca26\"],[1.0,\"#f0f921\"]],\"type\":\"histogram2dcontour\"}],\"mesh3d\":[{\"colorbar\":{\"outlinewidth\":0,\"ticks\":\"\"},\"type\":\"mesh3d\"}],\"parcoords\":[{\"line\":{\"colorbar\":{\"outlinewidth\":0,\"ticks\":\"\"}},\"type\":\"parcoords\"}],\"pie\":[{\"automargin\":true,\"type\":\"pie\"}],\"scatter\":[{\"marker\":{\"colorbar\":{\"outlinewidth\":0,\"ticks\":\"\"}},\"type\":\"scatter\"}],\"scatter3d\":[{\"line\":{\"colorbar\":{\"outlinewidth\":0,\"ticks\":\"\"}},\"marker\":{\"colorbar\":{\"outlinewidth\":0,\"ticks\":\"\"}},\"type\":\"scatter3d\"}],\"scattercarpet\":[{\"marker\":{\"colorbar\":{\"outlinewidth\":0,\"ticks\":\"\"}},\"type\":\"scattercarpet\"}],\"scattergeo\":[{\"marker\":{\"colorbar\":{\"outlinewidth\":0,\"ticks\":\"\"}},\"type\":\"scattergeo\"}],\"scattergl\":[{\"marker\":{\"colorbar\":{\"outlinewidth\":0,\"ticks\":\"\"}},\"type\":\"scattergl\"}],\"scattermapbox\":[{\"marker\":{\"colorbar\":{\"outlinewidth\":0,\"ticks\":\"\"}},\"type\":\"scattermapbox\"}],\"scatterpolar\":[{\"marker\":{\"colorbar\":{\"outlinewidth\":0,\"ticks\":\"\"}},\"type\":\"scatterpolar\"}],\"scatterpolargl\":[{\"marker\":{\"colorbar\":{\"outlinewidth\":0,\"ticks\":\"\"}},\"type\":\"scatterpolargl\"}],\"scatterternary\":[{\"marker\":{\"colorbar\":{\"outlinewidth\":0,\"ticks\":\"\"}},\"type\":\"scatterternary\"}],\"surface\":[{\"colorbar\":{\"outlinewidth\":0,\"ticks\":\"\"},\"colorscale\":[[0.0,\"#0d0887\"],[0.1111111111111111,\"#46039f\"],[0.2222222222222222,\"#7201a8\"],[0.3333333333333333,\"#9c179e\"],[0.4444444444444444,\"#bd3786\"],[0.5555555555555556,\"#d8576b\"],[0.6666666666666666,\"#ed7953\"],[0.7777777777777778,\"#fb9f3a\"],[0.8888888888888888,\"#fdca26\"],[1.0,\"#f0f921\"]],\"type\":\"surface\"}],\"table\":[{\"cells\":{\"fill\":{\"color\":\"#EBF0F8\"},\"line\":{\"color\":\"white\"}},\"header\":{\"fill\":{\"color\":\"#C8D4E3\"},\"line\":{\"color\":\"white\"}},\"type\":\"table\"}]},\"layout\":{\"annotationdefaults\":{\"arrowcolor\":\"#2a3f5f\",\"arrowhead\":0,\"arrowwidth\":1},\"autotypenumbers\":\"strict\",\"coloraxis\":{\"colorbar\":{\"outlinewidth\":0,\"ticks\":\"\"}},\"colorscale\":{\"diverging\":[[0,\"#8e0152\"],[0.1,\"#c51b7d\"],[0.2,\"#de77ae\"],[0.3,\"#f1b6da\"],[0.4,\"#fde0ef\"],[0.5,\"#f7f7f7\"],[0.6,\"#e6f5d0\"],[0.7,\"#b8e186\"],[0.8,\"#7fbc41\"],[0.9,\"#4d9221\"],[1,\"#276419\"]],\"sequential\":[[0.0,\"#0d0887\"],[0.1111111111111111,\"#46039f\"],[0.2222222222222222,\"#7201a8\"],[0.3333333333333333,\"#9c179e\"],[0.4444444444444444,\"#bd3786\"],[0.5555555555555556,\"#d8576b\"],[0.6666666666666666,\"#ed7953\"],[0.7777777777777778,\"#fb9f3a\"],[0.8888888888888888,\"#fdca26\"],[1.0,\"#f0f921\"]],\"sequentialminus\":[[0.0,\"#0d0887\"],[0.1111111111111111,\"#46039f\"],[0.2222222222222222,\"#7201a8\"],[0.3333333333333333,\"#9c179e\"],[0.4444444444444444,\"#bd3786\"],[0.5555555555555556,\"#d8576b\"],[0.6666666666666666,\"#ed7953\"],[0.7777777777777778,\"#fb9f3a\"],[0.8888888888888888,\"#fdca26\"],[1.0,\"#f0f921\"]]},\"colorway\":[\"#636efa\",\"#EF553B\",\"#00cc96\",\"#ab63fa\",\"#FFA15A\",\"#19d3f3\",\"#FF6692\",\"#B6E880\",\"#FF97FF\",\"#FECB52\"],\"font\":{\"color\":\"#2a3f5f\"},\"geo\":{\"bgcolor\":\"white\",\"lakecolor\":\"white\",\"landcolor\":\"#E5ECF6\",\"showlakes\":true,\"showland\":true,\"subunitcolor\":\"white\"},\"hoverlabel\":{\"align\":\"left\"},\"hovermode\":\"closest\",\"mapbox\":{\"style\":\"light\"},\"paper_bgcolor\":\"white\",\"plot_bgcolor\":\"#E5ECF6\",\"polar\":{\"angularaxis\":{\"gridcolor\":\"white\",\"linecolor\":\"white\",\"ticks\":\"\"},\"bgcolor\":\"#E5ECF6\",\"radialaxis\":{\"gridcolor\":\"white\",\"linecolor\":\"white\",\"ticks\":\"\"}},\"scene\":{\"xaxis\":{\"backgroundcolor\":\"#E5ECF6\",\"gridcolor\":\"white\",\"gridwidth\":2,\"linecolor\":\"white\",\"showbackground\":true,\"ticks\":\"\",\"zerolinecolor\":\"white\"},\"yaxis\":{\"backgroundcolor\":\"#E5ECF6\",\"gridcolor\":\"white\",\"gridwidth\":2,\"linecolor\":\"white\",\"showbackground\":true,\"ticks\":\"\",\"zerolinecolor\":\"white\"},\"zaxis\":{\"backgroundcolor\":\"#E5ECF6\",\"gridcolor\":\"white\",\"gridwidth\":2,\"linecolor\":\"white\",\"showbackground\":true,\"ticks\":\"\",\"zerolinecolor\":\"white\"}},\"shapedefaults\":{\"line\":{\"color\":\"#2a3f5f\"}},\"ternary\":{\"aaxis\":{\"gridcolor\":\"white\",\"linecolor\":\"white\",\"ticks\":\"\"},\"baxis\":{\"gridcolor\":\"white\",\"linecolor\":\"white\",\"ticks\":\"\"},\"bgcolor\":\"#E5ECF6\",\"caxis\":{\"gridcolor\":\"white\",\"linecolor\":\"white\",\"ticks\":\"\"}},\"title\":{\"x\":0.05},\"xaxis\":{\"automargin\":true,\"gridcolor\":\"white\",\"linecolor\":\"white\",\"ticks\":\"\",\"title\":{\"standoff\":15},\"zerolinecolor\":\"white\",\"zerolinewidth\":2},\"yaxis\":{\"automargin\":true,\"gridcolor\":\"white\",\"linecolor\":\"white\",\"ticks\":\"\",\"title\":{\"standoff\":15},\"zerolinecolor\":\"white\",\"zerolinewidth\":2}}},\"xaxis\":{\"anchor\":\"y\",\"domain\":[0.0,0.16799999999999998],\"title\":{\"text\":\"CAT_depth\"}},\"yaxis\":{\"anchor\":\"x\",\"domain\":[0.0,1.0],\"title\":{\"text\":\"Objective Value\"}},\"xaxis2\":{\"anchor\":\"y2\",\"domain\":[0.208,0.376],\"title\":{\"text\":\"CAT_learning_rate\"}},\"yaxis2\":{\"anchor\":\"x2\",\"domain\":[0.0,1.0],\"matches\":\"y\",\"showticklabels\":false},\"xaxis3\":{\"anchor\":\"y3\",\"domain\":[0.416,0.584],\"title\":{\"text\":\"CAT_loss_function\"}},\"yaxis3\":{\"anchor\":\"x3\",\"domain\":[0.0,1.0],\"matches\":\"y\",\"showticklabels\":false},\"xaxis4\":{\"anchor\":\"y4\",\"domain\":[0.624,0.792],\"title\":{\"text\":\"CAT_min_data_in_leaf\"}},\"yaxis4\":{\"anchor\":\"x4\",\"domain\":[0.0,1.0],\"matches\":\"y\",\"showticklabels\":false},\"xaxis5\":{\"anchor\":\"y5\",\"domain\":[0.832,1.0],\"title\":{\"text\":\"CAT_n_estimators\"}},\"yaxis5\":{\"anchor\":\"x5\",\"domain\":[0.0,1.0],\"matches\":\"y\",\"showticklabels\":false},\"title\":{\"text\":\"Slice Plot\"},\"width\":1500},                        {\"responsive\": true}                    ).then(function(){\n",
              "                            \n",
              "var gd = document.getElementById('8fd407d8-252b-414a-92cc-87a66e7ab160');\n",
              "var x = new MutationObserver(function (mutations, observer) {{\n",
              "        var display = window.getComputedStyle(gd).display;\n",
              "        if (!display || display === 'none') {{\n",
              "            console.log([gd, 'removed!']);\n",
              "            Plotly.purge(gd);\n",
              "            observer.disconnect();\n",
              "        }}\n",
              "}});\n",
              "\n",
              "// Listen for the removal of the full notebook cells\n",
              "var notebookContainer = gd.closest('#notebook-container');\n",
              "if (notebookContainer) {{\n",
              "    x.observe(notebookContainer, {childList: true});\n",
              "}}\n",
              "\n",
              "// Listen for the clearing of the current output cell\n",
              "var outputEl = gd.closest('.output');\n",
              "if (outputEl) {{\n",
              "    x.observe(outputEl, {childList: true});\n",
              "}}\n",
              "\n",
              "                        })                };                            </script>        </div>\n",
              "</body>\n",
              "</html>"
            ]
          },
          "metadata": {}
        }
      ],
      "source": [
        "#Visualize the slice plot\n",
        "optuna.visualization.plot_slice(study, params=['CAT_n_estimators','CAT_learning_rate', 'CAT_depth', 'CAT_min_data_in_leaf', 'CAT_loss_function'])"
      ]
    }
  ]
}